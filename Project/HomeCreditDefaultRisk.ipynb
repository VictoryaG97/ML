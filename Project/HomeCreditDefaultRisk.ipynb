{
 "cells": [
  {
   "cell_type": "markdown",
   "metadata": {},
   "source": [
    "# Introduction"
   ]
  },
  {
   "cell_type": "markdown",
   "metadata": {},
   "source": [
    "##### В този Notebook ще разгледаме данните от Home Credit Default Risk Competition, проведено в Kaggle и ще се опитаме да предскажем дали даден клиент ще си изплати заема."
   ]
  },
  {
   "cell_type": "markdown",
   "metadata": {},
   "source": [
    "За състезанието са предоставен 7 различни източника на данни, но ние ще разгледаме само главния трейнинг датасет с информация за всеки клиент за заем на Home Credit. За всеки заем има отделен ред в таблицата с идентификатор SK_ID_CURR. В тези данни има колона TARGET със стойности 0 (ако заемът е изплатен) и 1 (ако заемът не е изплатен)."
   ]
  },
  {
   "cell_type": "code",
   "execution_count": 1,
   "metadata": {},
   "outputs": [],
   "source": [
    "import sys\n",
    "\n",
    "import sklearn\n",
    "import pandas as pd\n",
    "import numpy as np\n",
    "import matplotlib as mpl\n",
    "import matplotlib.pyplot as plt\n",
    "import seaborn as sns\n",
    "from sklearn.preprocessing import LabelEncoder, OneHotEncoder\n",
    "\n",
    "%matplotlib inline"
   ]
  },
  {
   "cell_type": "code",
   "execution_count": 2,
   "metadata": {},
   "outputs": [],
   "source": [
    "np.warnings.filterwarnings('ignore')"
   ]
  },
  {
   "cell_type": "code",
   "execution_count": 3,
   "metadata": {},
   "outputs": [],
   "source": [
    "# training data\n",
    "train = pd.read_csv('application_train.csv', index_col=['SK_ID_CURR'])"
   ]
  },
  {
   "cell_type": "code",
   "execution_count": 4,
   "metadata": {},
   "outputs": [
    {
     "data": {
      "text/plain": [
       "(307511, 121)"
      ]
     },
     "execution_count": 4,
     "metadata": {},
     "output_type": "execute_result"
    }
   ],
   "source": [
    "train.shape"
   ]
  },
  {
   "cell_type": "code",
   "execution_count": 5,
   "metadata": {},
   "outputs": [
    {
     "data": {
      "text/html": [
       "<div>\n",
       "<style scoped>\n",
       "    .dataframe tbody tr th:only-of-type {\n",
       "        vertical-align: middle;\n",
       "    }\n",
       "\n",
       "    .dataframe tbody tr th {\n",
       "        vertical-align: top;\n",
       "    }\n",
       "\n",
       "    .dataframe thead th {\n",
       "        text-align: right;\n",
       "    }\n",
       "</style>\n",
       "<table border=\"1\" class=\"dataframe\">\n",
       "  <thead>\n",
       "    <tr style=\"text-align: right;\">\n",
       "      <th></th>\n",
       "      <th>TARGET</th>\n",
       "      <th>NAME_CONTRACT_TYPE</th>\n",
       "      <th>CODE_GENDER</th>\n",
       "      <th>FLAG_OWN_CAR</th>\n",
       "      <th>FLAG_OWN_REALTY</th>\n",
       "      <th>CNT_CHILDREN</th>\n",
       "      <th>AMT_INCOME_TOTAL</th>\n",
       "      <th>AMT_CREDIT</th>\n",
       "      <th>AMT_ANNUITY</th>\n",
       "      <th>AMT_GOODS_PRICE</th>\n",
       "      <th>...</th>\n",
       "      <th>FLAG_DOCUMENT_18</th>\n",
       "      <th>FLAG_DOCUMENT_19</th>\n",
       "      <th>FLAG_DOCUMENT_20</th>\n",
       "      <th>FLAG_DOCUMENT_21</th>\n",
       "      <th>AMT_REQ_CREDIT_BUREAU_HOUR</th>\n",
       "      <th>AMT_REQ_CREDIT_BUREAU_DAY</th>\n",
       "      <th>AMT_REQ_CREDIT_BUREAU_WEEK</th>\n",
       "      <th>AMT_REQ_CREDIT_BUREAU_MON</th>\n",
       "      <th>AMT_REQ_CREDIT_BUREAU_QRT</th>\n",
       "      <th>AMT_REQ_CREDIT_BUREAU_YEAR</th>\n",
       "    </tr>\n",
       "    <tr>\n",
       "      <th>SK_ID_CURR</th>\n",
       "      <th></th>\n",
       "      <th></th>\n",
       "      <th></th>\n",
       "      <th></th>\n",
       "      <th></th>\n",
       "      <th></th>\n",
       "      <th></th>\n",
       "      <th></th>\n",
       "      <th></th>\n",
       "      <th></th>\n",
       "      <th></th>\n",
       "      <th></th>\n",
       "      <th></th>\n",
       "      <th></th>\n",
       "      <th></th>\n",
       "      <th></th>\n",
       "      <th></th>\n",
       "      <th></th>\n",
       "      <th></th>\n",
       "      <th></th>\n",
       "      <th></th>\n",
       "    </tr>\n",
       "  </thead>\n",
       "  <tbody>\n",
       "    <tr>\n",
       "      <th>100002</th>\n",
       "      <td>1</td>\n",
       "      <td>Cash loans</td>\n",
       "      <td>M</td>\n",
       "      <td>N</td>\n",
       "      <td>Y</td>\n",
       "      <td>0</td>\n",
       "      <td>202500.0</td>\n",
       "      <td>406597.5</td>\n",
       "      <td>24700.5</td>\n",
       "      <td>351000.0</td>\n",
       "      <td>...</td>\n",
       "      <td>0</td>\n",
       "      <td>0</td>\n",
       "      <td>0</td>\n",
       "      <td>0</td>\n",
       "      <td>0.0</td>\n",
       "      <td>0.0</td>\n",
       "      <td>0.0</td>\n",
       "      <td>0.0</td>\n",
       "      <td>0.0</td>\n",
       "      <td>1.0</td>\n",
       "    </tr>\n",
       "    <tr>\n",
       "      <th>100003</th>\n",
       "      <td>0</td>\n",
       "      <td>Cash loans</td>\n",
       "      <td>F</td>\n",
       "      <td>N</td>\n",
       "      <td>N</td>\n",
       "      <td>0</td>\n",
       "      <td>270000.0</td>\n",
       "      <td>1293502.5</td>\n",
       "      <td>35698.5</td>\n",
       "      <td>1129500.0</td>\n",
       "      <td>...</td>\n",
       "      <td>0</td>\n",
       "      <td>0</td>\n",
       "      <td>0</td>\n",
       "      <td>0</td>\n",
       "      <td>0.0</td>\n",
       "      <td>0.0</td>\n",
       "      <td>0.0</td>\n",
       "      <td>0.0</td>\n",
       "      <td>0.0</td>\n",
       "      <td>0.0</td>\n",
       "    </tr>\n",
       "    <tr>\n",
       "      <th>100004</th>\n",
       "      <td>0</td>\n",
       "      <td>Revolving loans</td>\n",
       "      <td>M</td>\n",
       "      <td>Y</td>\n",
       "      <td>Y</td>\n",
       "      <td>0</td>\n",
       "      <td>67500.0</td>\n",
       "      <td>135000.0</td>\n",
       "      <td>6750.0</td>\n",
       "      <td>135000.0</td>\n",
       "      <td>...</td>\n",
       "      <td>0</td>\n",
       "      <td>0</td>\n",
       "      <td>0</td>\n",
       "      <td>0</td>\n",
       "      <td>0.0</td>\n",
       "      <td>0.0</td>\n",
       "      <td>0.0</td>\n",
       "      <td>0.0</td>\n",
       "      <td>0.0</td>\n",
       "      <td>0.0</td>\n",
       "    </tr>\n",
       "    <tr>\n",
       "      <th>100006</th>\n",
       "      <td>0</td>\n",
       "      <td>Cash loans</td>\n",
       "      <td>F</td>\n",
       "      <td>N</td>\n",
       "      <td>Y</td>\n",
       "      <td>0</td>\n",
       "      <td>135000.0</td>\n",
       "      <td>312682.5</td>\n",
       "      <td>29686.5</td>\n",
       "      <td>297000.0</td>\n",
       "      <td>...</td>\n",
       "      <td>0</td>\n",
       "      <td>0</td>\n",
       "      <td>0</td>\n",
       "      <td>0</td>\n",
       "      <td>NaN</td>\n",
       "      <td>NaN</td>\n",
       "      <td>NaN</td>\n",
       "      <td>NaN</td>\n",
       "      <td>NaN</td>\n",
       "      <td>NaN</td>\n",
       "    </tr>\n",
       "    <tr>\n",
       "      <th>100007</th>\n",
       "      <td>0</td>\n",
       "      <td>Cash loans</td>\n",
       "      <td>M</td>\n",
       "      <td>N</td>\n",
       "      <td>Y</td>\n",
       "      <td>0</td>\n",
       "      <td>121500.0</td>\n",
       "      <td>513000.0</td>\n",
       "      <td>21865.5</td>\n",
       "      <td>513000.0</td>\n",
       "      <td>...</td>\n",
       "      <td>0</td>\n",
       "      <td>0</td>\n",
       "      <td>0</td>\n",
       "      <td>0</td>\n",
       "      <td>0.0</td>\n",
       "      <td>0.0</td>\n",
       "      <td>0.0</td>\n",
       "      <td>0.0</td>\n",
       "      <td>0.0</td>\n",
       "      <td>0.0</td>\n",
       "    </tr>\n",
       "  </tbody>\n",
       "</table>\n",
       "<p>5 rows × 121 columns</p>\n",
       "</div>"
      ],
      "text/plain": [
       "            TARGET NAME_CONTRACT_TYPE CODE_GENDER FLAG_OWN_CAR  \\\n",
       "SK_ID_CURR                                                       \n",
       "100002           1         Cash loans           M            N   \n",
       "100003           0         Cash loans           F            N   \n",
       "100004           0    Revolving loans           M            Y   \n",
       "100006           0         Cash loans           F            N   \n",
       "100007           0         Cash loans           M            N   \n",
       "\n",
       "           FLAG_OWN_REALTY  CNT_CHILDREN  AMT_INCOME_TOTAL  AMT_CREDIT  \\\n",
       "SK_ID_CURR                                                               \n",
       "100002                   Y             0          202500.0    406597.5   \n",
       "100003                   N             0          270000.0   1293502.5   \n",
       "100004                   Y             0           67500.0    135000.0   \n",
       "100006                   Y             0          135000.0    312682.5   \n",
       "100007                   Y             0          121500.0    513000.0   \n",
       "\n",
       "            AMT_ANNUITY  AMT_GOODS_PRICE             ...              \\\n",
       "SK_ID_CURR                                           ...               \n",
       "100002          24700.5         351000.0             ...               \n",
       "100003          35698.5        1129500.0             ...               \n",
       "100004           6750.0         135000.0             ...               \n",
       "100006          29686.5         297000.0             ...               \n",
       "100007          21865.5         513000.0             ...               \n",
       "\n",
       "           FLAG_DOCUMENT_18 FLAG_DOCUMENT_19 FLAG_DOCUMENT_20  \\\n",
       "SK_ID_CURR                                                      \n",
       "100002                    0                0                0   \n",
       "100003                    0                0                0   \n",
       "100004                    0                0                0   \n",
       "100006                    0                0                0   \n",
       "100007                    0                0                0   \n",
       "\n",
       "           FLAG_DOCUMENT_21 AMT_REQ_CREDIT_BUREAU_HOUR  \\\n",
       "SK_ID_CURR                                               \n",
       "100002                    0                        0.0   \n",
       "100003                    0                        0.0   \n",
       "100004                    0                        0.0   \n",
       "100006                    0                        NaN   \n",
       "100007                    0                        0.0   \n",
       "\n",
       "            AMT_REQ_CREDIT_BUREAU_DAY  AMT_REQ_CREDIT_BUREAU_WEEK  \\\n",
       "SK_ID_CURR                                                          \n",
       "100002                            0.0                         0.0   \n",
       "100003                            0.0                         0.0   \n",
       "100004                            0.0                         0.0   \n",
       "100006                            NaN                         NaN   \n",
       "100007                            0.0                         0.0   \n",
       "\n",
       "            AMT_REQ_CREDIT_BUREAU_MON  AMT_REQ_CREDIT_BUREAU_QRT  \\\n",
       "SK_ID_CURR                                                         \n",
       "100002                            0.0                        0.0   \n",
       "100003                            0.0                        0.0   \n",
       "100004                            0.0                        0.0   \n",
       "100006                            NaN                        NaN   \n",
       "100007                            0.0                        0.0   \n",
       "\n",
       "            AMT_REQ_CREDIT_BUREAU_YEAR  \n",
       "SK_ID_CURR                              \n",
       "100002                             1.0  \n",
       "100003                             0.0  \n",
       "100004                             0.0  \n",
       "100006                             NaN  \n",
       "100007                             0.0  \n",
       "\n",
       "[5 rows x 121 columns]"
      ]
     },
     "execution_count": 5,
     "metadata": {},
     "output_type": "execute_result"
    }
   ],
   "source": [
    "train.head()"
   ]
  },
  {
   "cell_type": "markdown",
   "metadata": {},
   "source": [
    "# Exploratory Data Analysis"
   ]
  },
  {
   "cell_type": "markdown",
   "metadata": {},
   "source": [
    "Exploratory Data Analysis е процес, в който търсим аномалии, модели и зависимости между фичърите. Главната цел е да разберем значението на фичърите."
   ]
  },
  {
   "cell_type": "markdown",
   "metadata": {},
   "source": [
    "### Explore TARGET column"
   ]
  },
  {
   "cell_type": "code",
   "execution_count": 6,
   "metadata": {},
   "outputs": [
    {
     "data": {
      "text/plain": [
       "0    282686\n",
       "1     24825\n",
       "Name: TARGET, dtype: int64"
      ]
     },
     "execution_count": 6,
     "metadata": {},
     "output_type": "execute_result"
    }
   ],
   "source": [
    "train['TARGET'].value_counts()"
   ]
  },
  {
   "cell_type": "code",
   "execution_count": 7,
   "metadata": {},
   "outputs": [
    {
     "data": {
      "image/png": "[encoded data removed]",
      "text/plain": [
       "<Figure size 432x288 with 1 Axes>"
      ]
     },
     "metadata": {},
     "output_type": "display_data"
    }
   ],
   "source": [
    "train['TARGET'].astype(int).plot.hist();"
   ]
  },
  {
   "cell_type": "markdown",
   "metadata": {},
   "source": [
    "Заемите, които са били изплатени, са доста повече от неизплатените. Този дисбаланс би могъл да представлява проблем."
   ]
  },
  {
   "cell_type": "markdown",
   "metadata": {},
   "source": [
    "### Examine Missing Data"
   ]
  },
  {
   "cell_type": "code",
   "execution_count": 8,
   "metadata": {},
   "outputs": [],
   "source": [
    "# calculate missing values by column\n",
    "def missing_values_table(df):\n",
    "        # Total missing values\n",
    "        mis_val = df.isnull().sum()\n",
    "        \n",
    "        # Percentage of missing values\n",
    "        mis_val_percent = 100 * df.isnull().sum() / len(df)\n",
    "        \n",
    "        # Make a table with the results\n",
    "        mis_val_table = pd.concat([mis_val, mis_val_percent], axis=1)\n",
    "        \n",
    "        # Rename the columns\n",
    "        mis_val_table_ren_columns = mis_val_table.rename(\n",
    "        columns = {0 : 'Missing Values', 1 : '% of Total Values'})\n",
    "        \n",
    "        # Sort the table by percentage of missing descending\n",
    "        mis_val_table_ren_columns = mis_val_table_ren_columns[\n",
    "            mis_val_table_ren_columns.iloc[:,1] != 0].sort_values(\n",
    "        '% of Total Values', ascending=False).round(1)\n",
    "        \n",
    "        # Print some summary information\n",
    "        print (\"The dataframe has \" + str(df.shape[1]) + \" columns.\\n\"      \n",
    "               + str(mis_val_table_ren_columns.shape[0]) +\n",
    "              \" of them have missing values.\")\n",
    "        \n",
    "        # Return the dataframe with missing information\n",
    "        return mis_val_table_ren_columns"
   ]
  },
  {
   "cell_type": "code",
   "execution_count": 9,
   "metadata": {},
   "outputs": [
    {
     "name": "stdout",
     "output_type": "stream",
     "text": [
      "The dataframe has 121 columns.\n",
      "67 of them have missing values.\n"
     ]
    },
    {
     "data": {
      "text/html": [
       "<div>\n",
       "<style scoped>\n",
       "    .dataframe tbody tr th:only-of-type {\n",
       "        vertical-align: middle;\n",
       "    }\n",
       "\n",
       "    .dataframe tbody tr th {\n",
       "        vertical-align: top;\n",
       "    }\n",
       "\n",
       "    .dataframe thead th {\n",
       "        text-align: right;\n",
       "    }\n",
       "</style>\n",
       "<table border=\"1\" class=\"dataframe\">\n",
       "  <thead>\n",
       "    <tr style=\"text-align: right;\">\n",
       "      <th></th>\n",
       "      <th>Missing Values</th>\n",
       "      <th>% of Total Values</th>\n",
       "    </tr>\n",
       "  </thead>\n",
       "  <tbody>\n",
       "    <tr>\n",
       "      <th>COMMONAREA_MEDI</th>\n",
       "      <td>214865</td>\n",
       "      <td>69.9</td>\n",
       "    </tr>\n",
       "    <tr>\n",
       "      <th>COMMONAREA_AVG</th>\n",
       "      <td>214865</td>\n",
       "      <td>69.9</td>\n",
       "    </tr>\n",
       "    <tr>\n",
       "      <th>COMMONAREA_MODE</th>\n",
       "      <td>214865</td>\n",
       "      <td>69.9</td>\n",
       "    </tr>\n",
       "    <tr>\n",
       "      <th>NONLIVINGAPARTMENTS_MEDI</th>\n",
       "      <td>213514</td>\n",
       "      <td>69.4</td>\n",
       "    </tr>\n",
       "    <tr>\n",
       "      <th>NONLIVINGAPARTMENTS_MODE</th>\n",
       "      <td>213514</td>\n",
       "      <td>69.4</td>\n",
       "    </tr>\n",
       "    <tr>\n",
       "      <th>NONLIVINGAPARTMENTS_AVG</th>\n",
       "      <td>213514</td>\n",
       "      <td>69.4</td>\n",
       "    </tr>\n",
       "    <tr>\n",
       "      <th>FONDKAPREMONT_MODE</th>\n",
       "      <td>210295</td>\n",
       "      <td>68.4</td>\n",
       "    </tr>\n",
       "    <tr>\n",
       "      <th>LIVINGAPARTMENTS_MODE</th>\n",
       "      <td>210199</td>\n",
       "      <td>68.4</td>\n",
       "    </tr>\n",
       "    <tr>\n",
       "      <th>LIVINGAPARTMENTS_MEDI</th>\n",
       "      <td>210199</td>\n",
       "      <td>68.4</td>\n",
       "    </tr>\n",
       "    <tr>\n",
       "      <th>LIVINGAPARTMENTS_AVG</th>\n",
       "      <td>210199</td>\n",
       "      <td>68.4</td>\n",
       "    </tr>\n",
       "    <tr>\n",
       "      <th>FLOORSMIN_MODE</th>\n",
       "      <td>208642</td>\n",
       "      <td>67.8</td>\n",
       "    </tr>\n",
       "    <tr>\n",
       "      <th>FLOORSMIN_MEDI</th>\n",
       "      <td>208642</td>\n",
       "      <td>67.8</td>\n",
       "    </tr>\n",
       "    <tr>\n",
       "      <th>FLOORSMIN_AVG</th>\n",
       "      <td>208642</td>\n",
       "      <td>67.8</td>\n",
       "    </tr>\n",
       "    <tr>\n",
       "      <th>YEARS_BUILD_MODE</th>\n",
       "      <td>204488</td>\n",
       "      <td>66.5</td>\n",
       "    </tr>\n",
       "    <tr>\n",
       "      <th>YEARS_BUILD_MEDI</th>\n",
       "      <td>204488</td>\n",
       "      <td>66.5</td>\n",
       "    </tr>\n",
       "    <tr>\n",
       "      <th>YEARS_BUILD_AVG</th>\n",
       "      <td>204488</td>\n",
       "      <td>66.5</td>\n",
       "    </tr>\n",
       "    <tr>\n",
       "      <th>OWN_CAR_AGE</th>\n",
       "      <td>202929</td>\n",
       "      <td>66.0</td>\n",
       "    </tr>\n",
       "    <tr>\n",
       "      <th>LANDAREA_AVG</th>\n",
       "      <td>182590</td>\n",
       "      <td>59.4</td>\n",
       "    </tr>\n",
       "    <tr>\n",
       "      <th>LANDAREA_MEDI</th>\n",
       "      <td>182590</td>\n",
       "      <td>59.4</td>\n",
       "    </tr>\n",
       "    <tr>\n",
       "      <th>LANDAREA_MODE</th>\n",
       "      <td>182590</td>\n",
       "      <td>59.4</td>\n",
       "    </tr>\n",
       "  </tbody>\n",
       "</table>\n",
       "</div>"
      ],
      "text/plain": [
       "                          Missing Values  % of Total Values\n",
       "COMMONAREA_MEDI                   214865               69.9\n",
       "COMMONAREA_AVG                    214865               69.9\n",
       "COMMONAREA_MODE                   214865               69.9\n",
       "NONLIVINGAPARTMENTS_MEDI          213514               69.4\n",
       "NONLIVINGAPARTMENTS_MODE          213514               69.4\n",
       "NONLIVINGAPARTMENTS_AVG           213514               69.4\n",
       "FONDKAPREMONT_MODE                210295               68.4\n",
       "LIVINGAPARTMENTS_MODE             210199               68.4\n",
       "LIVINGAPARTMENTS_MEDI             210199               68.4\n",
       "LIVINGAPARTMENTS_AVG              210199               68.4\n",
       "FLOORSMIN_MODE                    208642               67.8\n",
       "FLOORSMIN_MEDI                    208642               67.8\n",
       "FLOORSMIN_AVG                     208642               67.8\n",
       "YEARS_BUILD_MODE                  204488               66.5\n",
       "YEARS_BUILD_MEDI                  204488               66.5\n",
       "YEARS_BUILD_AVG                   204488               66.5\n",
       "OWN_CAR_AGE                       202929               66.0\n",
       "LANDAREA_AVG                      182590               59.4\n",
       "LANDAREA_MEDI                     182590               59.4\n",
       "LANDAREA_MODE                     182590               59.4"
      ]
     },
     "execution_count": 9,
     "metadata": {},
     "output_type": "execute_result"
    }
   ],
   "source": [
    "missing_values = missing_values_table(train)\n",
    "missing_values.head(20)"
   ]
  },
  {
   "cell_type": "markdown",
   "metadata": {},
   "source": [
    "Виждаме, че има доста голям процент на липсващи стойности, но е твърде рано, за да решим дали да премахнем някои колони, защотото: 1) Можем да използваме XGBoost, който се справя с липсващите колони 2) Не знаем коя колона, колко голямо значение има"
   ]
  },
  {
   "cell_type": "markdown",
   "metadata": {},
   "source": [
    "### Examine Column Types"
   ]
  },
  {
   "cell_type": "code",
   "execution_count": 10,
   "metadata": {},
   "outputs": [
    {
     "data": {
      "text/plain": [
       "float64    65\n",
       "int64      40\n",
       "object     16\n",
       "dtype: int64"
      ]
     },
     "execution_count": 10,
     "metadata": {},
     "output_type": "execute_result"
    }
   ],
   "source": [
    "train.dtypes.value_counts()"
   ]
  },
  {
   "cell_type": "markdown",
   "metadata": {},
   "source": [
    "### Explore Categorical columns"
   ]
  },
  {
   "cell_type": "code",
   "execution_count": 11,
   "metadata": {},
   "outputs": [
    {
     "data": {
      "text/plain": [
       "NAME_CONTRACT_TYPE             2\n",
       "FLAG_OWN_CAR                   2\n",
       "FLAG_OWN_REALTY                2\n",
       "EMERGENCYSTATE_MODE            2\n",
       "CODE_GENDER                    3\n",
       "HOUSETYPE_MODE                 3\n",
       "FONDKAPREMONT_MODE             4\n",
       "NAME_EDUCATION_TYPE            5\n",
       "NAME_FAMILY_STATUS             6\n",
       "NAME_HOUSING_TYPE              6\n",
       "NAME_TYPE_SUITE                7\n",
       "WEEKDAY_APPR_PROCESS_START     7\n",
       "WALLSMATERIAL_MODE             7\n",
       "NAME_INCOME_TYPE               8\n",
       "OCCUPATION_TYPE               18\n",
       "ORGANIZATION_TYPE             58\n",
       "dtype: int64"
      ]
     },
     "execution_count": 11,
     "metadata": {},
     "output_type": "execute_result"
    }
   ],
   "source": [
    "# Number of unique classes in each object column\n",
    "train.select_dtypes('object').apply(pd.Series.nunique, axis = 0).sort_values()"
   ]
  },
  {
   "cell_type": "code",
   "execution_count": 12,
   "metadata": {},
   "outputs": [],
   "source": [
    "def plot_categorical(data, col, size=[8 ,4], xlabel_angle=0, title=''):\n",
    "    '''use this for ploting the count of categorical features'''\n",
    "    plotdata = data[col].value_counts()\n",
    "    plt.figure(figsize = size)\n",
    "    sns.barplot(x = plotdata.index, y=plotdata.values)\n",
    "    plt.title(title)\n",
    "    if xlabel_angle!=0: \n",
    "        plt.xticks(rotation=xlabel_angle)\n",
    "    plt.show()"
   ]
  },
  {
   "cell_type": "code",
   "execution_count": 13,
   "metadata": {},
   "outputs": [
    {
     "data": {
      "image/png": "[encoded data removed]",
      "text/plain": [
       "<Figure size 576x288 with 1 Axes>"
      ]
     },
     "metadata": {},
     "output_type": "display_data"
    }
   ],
   "source": [
    "plot_categorical(data=train, col='NAME_CONTRACT_TYPE', title='Contract Type');"
   ]
  },
  {
   "cell_type": "markdown",
   "metadata": {},
   "source": [
    "Заемите от тип \"Revolving loans\" са доста малка част от общия брой (около 10%), тоест типът едва ли оказва голямо влияние върху връщането на заемите.\n",
    "На по-късен етап ще разгледаме зависимостта между типът на заемът и стойността на \"TARGET\"."
   ]
  },
  {
   "cell_type": "code",
   "execution_count": 14,
   "metadata": {},
   "outputs": [
    {
     "data": {
      "image/png": "[encoded data removed]",
      "text/plain": [
       "<Figure size 576x288 with 1 Axes>"
      ]
     },
     "metadata": {},
     "output_type": "display_data"
    }
   ],
   "source": [
    "plot_categorical(data=train, col='CODE_GENDER', title='Gender');"
   ]
  },
  {
   "cell_type": "code",
   "execution_count": 15,
   "metadata": {},
   "outputs": [
    {
     "data": {
      "text/plain": [
       "F      202448\n",
       "M      105059\n",
       "XNA         4\n",
       "Name: CODE_GENDER, dtype: int64"
      ]
     },
     "execution_count": 15,
     "metadata": {},
     "output_type": "execute_result"
    }
   ],
   "source": [
    "train['CODE_GENDER'].value_counts()"
   ]
  },
  {
   "cell_type": "markdown",
   "metadata": {},
   "source": [
    "Жените клиенти са почти два пъти повече от мъжете. Ще трябва да обаче да видим кой е по-склонен да връща заемите."
   ]
  },
  {
   "cell_type": "code",
   "execution_count": 16,
   "metadata": {},
   "outputs": [
    {
     "data": {
      "image/png": "[encoded data removed]",
      "text/plain": [
       "<Figure size 576x288 with 1 Axes>"
      ]
     },
     "metadata": {},
     "output_type": "display_data"
    }
   ],
   "source": [
    "plot_categorical(data=train, col='FLAG_OWN_CAR', title='Owns a car?');"
   ]
  },
  {
   "cell_type": "code",
   "execution_count": 17,
   "metadata": {},
   "outputs": [
    {
     "data": {
      "image/png": "[encoded data removed]",
      "text/plain": [
       "<Figure size 576x288 with 1 Axes>"
      ]
     },
     "metadata": {},
     "output_type": "display_data"
    }
   ],
   "source": [
    "plot_categorical(data=train, col='FLAG_OWN_REALTY', title='Owns a real estate?');"
   ]
  },
  {
   "cell_type": "markdown",
   "metadata": {},
   "source": [
    "Виждаме, че повечето клиенти не притежават кола, но пък повече от 50% притежават недвижим имот."
   ]
  },
  {
   "cell_type": "code",
   "execution_count": 18,
   "metadata": {},
   "outputs": [
    {
     "data": {
      "image/png": "[encoded data removed]",
      "text/plain": [
       "<Figure size 720x288 with 1 Axes>"
      ]
     },
     "metadata": {},
     "output_type": "display_data"
    }
   ],
   "source": [
    "plot_categorical(data=train, col='NAME_INCOME_TYPE', size=[10 ,4], xlabel_angle=16, title='Income Type');"
   ]
  },
  {
   "cell_type": "code",
   "execution_count": 19,
   "metadata": {},
   "outputs": [
    {
     "data": {
      "text/plain": [
       "Working                 158774\n",
       "Commercial associate     71617\n",
       "Pensioner                55362\n",
       "State servant            21703\n",
       "Unemployed                  22\n",
       "Student                     18\n",
       "Businessman                 10\n",
       "Maternity leave              5\n",
       "Name: NAME_INCOME_TYPE, dtype: int64"
      ]
     },
     "execution_count": 19,
     "metadata": {},
     "output_type": "execute_result"
    }
   ],
   "source": [
    "train['NAME_INCOME_TYPE'].value_counts()"
   ]
  },
  {
   "cell_type": "markdown",
   "metadata": {},
   "source": [
    "Доходите на повечето клиенти идват от работа, следвани от търговски сътрудници, пенсионери, държавни служители..."
   ]
  },
  {
   "cell_type": "code",
   "execution_count": 20,
   "metadata": {},
   "outputs": [
    {
     "data": {
      "image/png": "[encoded data removed]",
      "text/plain": [
       "<Figure size 1152x288 with 1 Axes>"
      ]
     },
     "metadata": {},
     "output_type": "display_data"
    }
   ],
   "source": [
    "plot_categorical(data=train, col='OCCUPATION_TYPE', size=[16 ,4], xlabel_angle=18, title='Occupation type');"
   ]
  },
  {
   "cell_type": "markdown",
   "metadata": {},
   "source": [
    "Повечето заеми са изтеглени от работници (\"Laborers\"), след това от продавачи, \"Core staff\",... ИТ персонал теглят най-рядко."
   ]
  },
  {
   "cell_type": "code",
   "execution_count": 21,
   "metadata": {},
   "outputs": [
    {
     "data": {
      "image/png": "[encoded data removed]",
      "text/plain": [
       "<Figure size 720x288 with 1 Axes>"
      ]
     },
     "metadata": {},
     "output_type": "display_data"
    }
   ],
   "source": [
    "plot_categorical(data=train, col='NAME_FAMILY_STATUS', size=[10 ,4], xlabel_angle=10, title='Family Status');"
   ]
  },
  {
   "cell_type": "markdown",
   "metadata": {},
   "source": [
    "Главно клиентите са женени, следвани от \"Single/not married\""
   ]
  },
  {
   "cell_type": "code",
   "execution_count": 22,
   "metadata": {},
   "outputs": [
    {
     "data": {
      "image/png": "[encoded data removed]",
      "text/plain": [
       "<Figure size 576x288 with 1 Axes>"
      ]
     },
     "metadata": {},
     "output_type": "display_data"
    }
   ],
   "source": [
    "plot_categorical(data=train, col='NAME_HOUSING_TYPE', xlabel_angle=10, title='Housing situation');"
   ]
  },
  {
   "cell_type": "code",
   "execution_count": 23,
   "metadata": {},
   "outputs": [
    {
     "data": {
      "text/plain": [
       "House / apartment      272868\n",
       "With parents            14840\n",
       "Municipal apartment     11183\n",
       "Rented apartment         4881\n",
       "Office apartment         2617\n",
       "Co-op apartment          1122\n",
       "Name: NAME_HOUSING_TYPE, dtype: int64"
      ]
     },
     "execution_count": 23,
     "metadata": {},
     "output_type": "execute_result"
    }
   ],
   "source": [
    "train['NAME_HOUSING_TYPE'].value_counts()"
   ]
  },
  {
   "cell_type": "markdown",
   "metadata": {},
   "source": [
    "Над 250 000 от клиентите казват, че живеят в собствена къща/апартамент. Останалите категории са незначителен брой"
   ]
  },
  {
   "cell_type": "markdown",
   "metadata": {},
   "source": [
    "### Examine Categorical Features by Target"
   ]
  },
  {
   "cell_type": "markdown",
   "metadata": {},
   "source": [
    "Нека отново рагледаме уникалните стойности на някои от категорийните колони, но този път как влияят спрямо TARGET колоната"
   ]
  },
  {
   "cell_type": "code",
   "execution_count": 24,
   "metadata": {},
   "outputs": [],
   "source": [
    "def plot_categorical_by_target(data, col, size=[12 ,6], xlabel_angle=0, title=''):\n",
    "    '''use it to compare the distribution between label 1 and label 0'''\n",
    "    plt.figure(figsize = size)\n",
    "    l0 = data.loc[data.TARGET==0, col].value_counts()\n",
    "    l1 = data.loc[data.TARGET==1, col].value_counts()\n",
    "    plt.subplot(1,2,1)\n",
    "    sns.barplot(x = l0.index, y=l0.values)\n",
    "    plt.title('Paid: '+title)\n",
    "    plt.xticks(rotation=xlabel_angle)\n",
    "    plt.subplot(1,2,2)\n",
    "    sns.barplot(x = l1.index, y=l1.values)\n",
    "    plt.title('Not Paid: '+title)\n",
    "    plt.xticks(rotation=xlabel_angle)\n",
    "    plt.show()"
   ]
  },
  {
   "cell_type": "code",
   "execution_count": 25,
   "metadata": {},
   "outputs": [
    {
     "data": {
      "image/png": "[encoded data removed]",
      "text/plain": [
       "<Figure size 864x432 with 2 Axes>"
      ]
     },
     "metadata": {},
     "output_type": "display_data"
    }
   ],
   "source": [
    "plot_categorical_by_target(train, 'CODE_GENDER', title='Gender')"
   ]
  },
  {
   "cell_type": "markdown",
   "metadata": {},
   "source": [
    "Виждам, че мъжете имат по-висок шанс да не си платят заемите, спрямо жените"
   ]
  },
  {
   "cell_type": "code",
   "execution_count": 26,
   "metadata": {},
   "outputs": [
    {
     "data": {
      "image/png": "[encoded data removed]",
      "text/plain": [
       "<Figure size 1152x288 with 2 Axes>"
      ]
     },
     "metadata": {},
     "output_type": "display_data"
    }
   ],
   "source": [
    "plot_categorical_by_target(train, 'NAME_EDUCATION_TYPE', size=[16, 4], xlabel_angle=16, title='Education Type')"
   ]
  },
  {
   "cell_type": "code",
   "execution_count": 27,
   "metadata": {},
   "outputs": [
    {
     "data": {
      "image/png": "[encoded data removed]",
      "text/plain": [
       "<Figure size 864x432 with 2 Axes>"
      ]
     },
     "metadata": {},
     "output_type": "display_data"
    }
   ],
   "source": [
    "plot_categorical_by_target(train, 'FLAG_OWN_REALTY', title='Owns a real estate')"
   ]
  },
  {
   "cell_type": "markdown",
   "metadata": {},
   "source": [
    "Повечето клиенти, които притежават недвижим имот все пак си плащат заемите (под 8% не ги плащат)"
   ]
  },
  {
   "cell_type": "code",
   "execution_count": 28,
   "metadata": {},
   "outputs": [
    {
     "data": {
      "image/png": "[encoded data removed]",
      "text/plain": [
       "<Figure size 864x288 with 2 Axes>"
      ]
     },
     "metadata": {},
     "output_type": "display_data"
    }
   ],
   "source": [
    "plot_categorical_by_target(train, 'NAME_FAMILY_STATUS', size=[12, 4], xlabel_angle=15, title='Family Status')"
   ]
  },
  {
   "cell_type": "markdown",
   "metadata": {},
   "source": [
    "Доста висок процент от \"Single/not married\" и \"Civil merrage\" не си връщат заемите (около 10%)"
   ]
  },
  {
   "cell_type": "markdown",
   "metadata": {},
   "source": [
    "### Explore Numerical Features"
   ]
  },
  {
   "cell_type": "code",
   "execution_count": 29,
   "metadata": {},
   "outputs": [],
   "source": [
    "def plot_numerical(data, col, size=[8, 4], bins=50):\n",
    "    '''use this for ploting the distribution of numercial features'''\n",
    "    plt.figure(figsize=size)\n",
    "    plt.title(\"Distribution of %s\" % col)\n",
    "    sns.distplot(data[col].dropna(), kde=True,bins=bins)\n",
    "    plt.show()"
   ]
  },
  {
   "cell_type": "code",
   "execution_count": 30,
   "metadata": {},
   "outputs": [
    {
     "data": {
      "image/png": "[encoded data removed]",
      "text/plain": [
       "<Figure size 576x288 with 1 Axes>"
      ]
     },
     "metadata": {},
     "output_type": "display_data"
    }
   ],
   "source": [
    "plot_numerical(train, col='CNT_CHILDREN')"
   ]
  },
  {
   "cell_type": "markdown",
   "metadata": {},
   "source": [
    "Повечето теглили кредит нямат деца"
   ]
  },
  {
   "cell_type": "code",
   "execution_count": 31,
   "metadata": {},
   "outputs": [
    {
     "data": {
      "image/png": "[encoded data removed]",
      "text/plain": [
       "<Figure size 576x288 with 1 Axes>"
      ]
     },
     "metadata": {},
     "output_type": "display_data"
    }
   ],
   "source": [
    "# големина на кредита\n",
    "plot_numerical(train, col='AMT_CREDIT')"
   ]
  },
  {
   "cell_type": "code",
   "execution_count": 32,
   "metadata": {},
   "outputs": [
    {
     "data": {
      "image/png": "[encoded data removed]",
      "text/plain": [
       "<Figure size 576x288 with 1 Axes>"
      ]
     },
     "metadata": {},
     "output_type": "display_data"
    }
   ],
   "source": [
    "# годишно\n",
    "plot_numerical(train, col='AMT_ANNUITY')"
   ]
  },
  {
   "cell_type": "code",
   "execution_count": 33,
   "metadata": {},
   "outputs": [
    {
     "data": {
      "image/png": "[encoded data removed]",
      "text/plain": [
       "<Figure size 576x288 with 1 Axes>"
      ]
     },
     "metadata": {},
     "output_type": "display_data"
    }
   ],
   "source": [
    "# години на клиента в дни в момента на постъпване\n",
    "plot_numerical(train, col='DAYS_BIRTH')"
   ]
  },
  {
   "cell_type": "code",
   "execution_count": 34,
   "metadata": {},
   "outputs": [
    {
     "data": {
      "image/png": "[encoded data removed]",
      "text/plain": [
       "<Figure size 576x288 with 1 Axes>"
      ]
     },
     "metadata": {},
     "output_type": "display_data"
    }
   ],
   "source": [
    "# работни дни на клиента в момента на постъпване\n",
    "plot_numerical(train, col='DAYS_EMPLOYED')"
   ]
  },
  {
   "cell_type": "markdown",
   "metadata": {},
   "source": [
    "Тази графика изглежда странно, но няма как да сме сигурни какво точно означават тези данни. Възможно е отрицателните стойности да означават, че клиента е безработен. Най-положителните стойности определно не изглеждат вярни, трудно е някой да е работил над 100 години."
   ]
  },
  {
   "cell_type": "code",
   "execution_count": 35,
   "metadata": {},
   "outputs": [
    {
     "data": {
      "image/png": "[encoded data removed]",
      "text/plain": [
       "<Figure size 576x288 with 1 Axes>"
      ]
     },
     "metadata": {},
     "output_type": "display_data"
    }
   ],
   "source": [
    "plot_numerical(train, col='DAYS_REGISTRATION')"
   ]
  },
  {
   "cell_type": "code",
   "execution_count": 36,
   "metadata": {},
   "outputs": [
    {
     "data": {
      "image/png": "[encoded data removed]",
      "text/plain": [
       "<Figure size 576x288 with 1 Axes>"
      ]
     },
     "metadata": {},
     "output_type": "display_data"
    }
   ],
   "source": [
    "plot_numerical(train, col='OWN_CAR_AGE')"
   ]
  },
  {
   "cell_type": "code",
   "execution_count": 37,
   "metadata": {},
   "outputs": [
    {
     "data": {
      "image/png": "[encoded data removed]",
      "text/plain": [
       "<Figure size 576x288 with 1 Axes>"
      ]
     },
     "metadata": {},
     "output_type": "display_data"
    }
   ],
   "source": [
    "plot_numerical(train, col='CNT_FAM_MEMBERS')"
   ]
  },
  {
   "cell_type": "markdown",
   "metadata": {},
   "source": [
    "Най-много са клиентите с двучленно семейство, следвани с 1 (single) и 3 (с по едно дете)"
   ]
  },
  {
   "cell_type": "code",
   "execution_count": 38,
   "metadata": {},
   "outputs": [
    {
     "data": {
      "image/png": "[encoded data removed]",
      "text/plain": [
       "<Figure size 576x288 with 1 Axes>"
      ]
     },
     "metadata": {},
     "output_type": "display_data"
    }
   ],
   "source": [
    "plot_numerical(train, col='EXT_SOURCE_1')"
   ]
  },
  {
   "cell_type": "code",
   "execution_count": 39,
   "metadata": {},
   "outputs": [
    {
     "data": {
      "image/png": "[encoded data removed]",
      "text/plain": [
       "<Figure size 576x288 with 1 Axes>"
      ]
     },
     "metadata": {},
     "output_type": "display_data"
    }
   ],
   "source": [
    "plot_numerical(train, col='EXT_SOURCE_2')"
   ]
  },
  {
   "cell_type": "code",
   "execution_count": 40,
   "metadata": {},
   "outputs": [
    {
     "data": {
      "image/png": "[encoded data removed]",
      "text/plain": [
       "<Figure size 576x288 with 1 Axes>"
      ]
     },
     "metadata": {},
     "output_type": "display_data"
    }
   ],
   "source": [
    "plot_numerical(train, col='EXT_SOURCE_3')"
   ]
  },
  {
   "cell_type": "markdown",
   "metadata": {},
   "source": [
    "### Examine Numerical Columns by Target"
   ]
  },
  {
   "cell_type": "markdown",
   "metadata": {},
   "source": [
    "Да разгледаме разпределението и на числовите колони спрямо TARGET"
   ]
  },
  {
   "cell_type": "code",
   "execution_count": 41,
   "metadata": {},
   "outputs": [],
   "source": [
    "def plot_numerical_by_target(feature,label_rotation=False,horizontal_layout=True):\n",
    "    # Calculate the percentage of target=1 per category value\n",
    "    cat_perc = train[[feature, 'TARGET']].groupby([feature],as_index=False).mean()\n",
    "    cat_perc.sort_values(by='TARGET', ascending=False, inplace=True)\n",
    "    \n",
    "    if(horizontal_layout):\n",
    "        fig, ax = plt.subplots(ncols=1, figsize=(12,6))\n",
    "    else:\n",
    "        fig, ax = plt.subplots(nrows=1, figsize=(12,14))\n",
    "    sns.set_color_codes(\"pastel\")\n",
    "    \n",
    "    s = sns.barplot(ax=ax, x = feature, y='TARGET', order=cat_perc[feature], data=cat_perc)\n",
    "    if(label_rotation):\n",
    "        s.set_xticklabels(s.get_xticklabels(),rotation=90)\n",
    "    plt.ylabel('Percent of target with value 1 [%]', fontsize=10)\n",
    "    plt.tick_params(axis='both', which='major', labelsize=10)\n",
    "\n",
    "    plt.show();"
   ]
  },
  {
   "cell_type": "code",
   "execution_count": 42,
   "metadata": {},
   "outputs": [
    {
     "data": {
      "image/png": "[encoded data removed]",
      "text/plain": [
       "<Figure size 864x432 with 1 Axes>"
      ]
     },
     "metadata": {},
     "output_type": "display_data"
    }
   ],
   "source": [
    "plot_numerical_by_target(\"CNT_CHILDREN\")"
   ]
  },
  {
   "cell_type": "markdown",
   "metadata": {},
   "source": [
    "Клиентите с по 9 и 11 деца на 100% не си връщат заемите. От тези без деца, с 1, 2, 3 и 5 около 10% не ги връщат, а тези с 4 / 6 са 15 / 25 %. "
   ]
  },
  {
   "cell_type": "code",
   "execution_count": 43,
   "metadata": {},
   "outputs": [
    {
     "data": {
      "image/png": "[encoded data removed]",
      "text/plain": [
       "<Figure size 864x432 with 1 Axes>"
      ]
     },
     "metadata": {},
     "output_type": "display_data"
    }
   ],
   "source": [
    "plot_numerical_by_target('CNT_FAM_MEMBERS');"
   ]
  },
  {
   "cell_type": "markdown",
   "metadata": {},
   "source": [
    "100% от семействата с брой членове 11/13 не си връщат заемите. Други семейства с 8 / 10 - около 30%. Останалите с 6 и по-малко - около 10%."
   ]
  },
  {
   "cell_type": "markdown",
   "metadata": {},
   "source": [
    "### Explore for Outliers"
   ]
  },
  {
   "cell_type": "code",
   "execution_count": 44,
   "metadata": {},
   "outputs": [
    {
     "data": {
      "text/plain": [
       "SK_ID_CURR\n",
       "100002    -9461\n",
       "100003   -16765\n",
       "100004   -19046\n",
       "100006   -19005\n",
       "100007   -19932\n",
       "Name: DAYS_BIRTH, dtype: int64"
      ]
     },
     "execution_count": 44,
     "metadata": {},
     "output_type": "execute_result"
    }
   ],
   "source": [
    "train[\"DAYS_BIRTH\"].head()"
   ]
  },
  {
   "cell_type": "markdown",
   "metadata": {},
   "source": [
    "Виждаме че стойностите са отрицателни. Tова е възрастта на клиента в дни в момента на постъпление.\n",
    "Можем да ги умножим по -1 и да разделим на броя дни в годината, за да получим приблизителните години."
   ]
  },
  {
   "cell_type": "code",
   "execution_count": 45,
   "metadata": {},
   "outputs": [
    {
     "data": {
      "image/png": "[encoded data removed]",
      "text/plain": [
       "<Figure size 432x288 with 1 Axes>"
      ]
     },
     "metadata": {},
     "output_type": "display_data"
    }
   ],
   "source": [
    "sns.distplot(train['DAYS_BIRTH']/-365);"
   ]
  },
  {
   "cell_type": "code",
   "execution_count": 46,
   "metadata": {},
   "outputs": [
    {
     "data": {
      "text/plain": [
       "count    307511.000000\n",
       "mean         43.936973\n",
       "std          11.956133\n",
       "min          20.517808\n",
       "25%          34.008219\n",
       "50%          43.150685\n",
       "75%          53.923288\n",
       "max          69.120548\n",
       "Name: DAYS_BIRTH, dtype: float64"
      ]
     },
     "execution_count": 46,
     "metadata": {},
     "output_type": "execute_result"
    }
   ],
   "source": [
    "(train['DAYS_BIRTH'] / -365).describe()"
   ]
  },
  {
   "cell_type": "markdown",
   "metadata": {},
   "source": [
    "Тук нямаме аномалии"
   ]
  },
  {
   "cell_type": "code",
   "execution_count": 47,
   "metadata": {},
   "outputs": [
    {
     "data": {
      "text/plain": [
       "count    307511.000000\n",
       "mean        174.835742\n",
       "std         387.056895\n",
       "min         -49.073973\n",
       "25%          -7.561644\n",
       "50%          -3.323288\n",
       "75%          -0.791781\n",
       "max        1000.665753\n",
       "Name: DAYS_EMPLOYED, dtype: float64"
      ]
     },
     "execution_count": 47,
     "metadata": {},
     "output_type": "execute_result"
    }
   ],
   "source": [
    "(train['DAYS_EMPLOYED']/365).describe()"
   ]
  },
  {
   "cell_type": "markdown",
   "metadata": {},
   "source": [
    "Това вече изглежда странно. Максималната стойност е около 1000 работни години."
   ]
  },
  {
   "cell_type": "code",
   "execution_count": 48,
   "metadata": {},
   "outputs": [
    {
     "data": {
      "image/png": "[encoded data removed]",
      "text/plain": [
       "<Figure size 432x288 with 1 Axes>"
      ]
     },
     "metadata": {},
     "output_type": "display_data"
    }
   ],
   "source": [
    "train['DAYS_EMPLOYED'].plot.hist(title = 'Days Employment Histogram');\n",
    "plt.xlabel('Days Employment');"
   ]
  },
  {
   "cell_type": "markdown",
   "metadata": {},
   "source": [
    "Ще направим нова колона само за аномалиите (евентуално ако по-късно ни потрябват тези стойности) и ще ги превърнем в 'nan' в оригиналната колона."
   ]
  },
  {
   "cell_type": "code",
   "execution_count": 49,
   "metadata": {},
   "outputs": [
    {
     "data": {
      "image/png": "[encoded data removed]",
      "text/plain": [
       "<Figure size 432x288 with 1 Axes>"
      ]
     },
     "metadata": {},
     "output_type": "display_data"
    }
   ],
   "source": [
    "train['DAYS_EMPLOYED_ANOM'] = train[\"DAYS_EMPLOYED\"] == 365243\n",
    "\n",
    "train['DAYS_EMPLOYED'].replace({365243: np.nan}, inplace = True)\n",
    "\n",
    "train['DAYS_EMPLOYED'].plot.hist(title = 'Days Employment Histogram');\n",
    "plt.xlabel('Days Employment');"
   ]
  },
  {
   "cell_type": "markdown",
   "metadata": {},
   "source": [
    "Така вече графиката изглежда по-добре"
   ]
  },
  {
   "cell_type": "code",
   "execution_count": 50,
   "metadata": {},
   "outputs": [
    {
     "data": {
      "text/plain": [
       "count    307511.000000\n",
       "mean      -4986.120328\n",
       "std        3522.886321\n",
       "min      -24672.000000\n",
       "25%       -7479.500000\n",
       "50%       -4504.000000\n",
       "75%       -2010.000000\n",
       "max           0.000000\n",
       "Name: DAYS_REGISTRATION, dtype: float64"
      ]
     },
     "execution_count": 50,
     "metadata": {},
     "output_type": "execute_result"
    }
   ],
   "source": [
    "# Check other columns starting with DAYS for outliers\n",
    "\n",
    "train['DAYS_REGISTRATION'].describe()"
   ]
  },
  {
   "cell_type": "code",
   "execution_count": 51,
   "metadata": {},
   "outputs": [
    {
     "data": {
      "text/plain": [
       "count    307510.000000\n",
       "mean       -962.858788\n",
       "std         826.808487\n",
       "min       -4292.000000\n",
       "25%       -1570.000000\n",
       "50%        -757.000000\n",
       "75%        -274.000000\n",
       "max           0.000000\n",
       "Name: DAYS_LAST_PHONE_CHANGE, dtype: float64"
      ]
     },
     "execution_count": 51,
     "metadata": {},
     "output_type": "execute_result"
    }
   ],
   "source": [
    "train['DAYS_LAST_PHONE_CHANGE'].describe()"
   ]
  },
  {
   "cell_type": "code",
   "execution_count": 52,
   "metadata": {},
   "outputs": [
    {
     "data": {
      "text/plain": [
       "count    307511.000000\n",
       "mean      -2994.202373\n",
       "std        1509.450419\n",
       "min       -7197.000000\n",
       "25%       -4299.000000\n",
       "50%       -3254.000000\n",
       "75%       -1720.000000\n",
       "max           0.000000\n",
       "Name: DAYS_ID_PUBLISH, dtype: float64"
      ]
     },
     "execution_count": 52,
     "metadata": {},
     "output_type": "execute_result"
    }
   ],
   "source": [
    "train['DAYS_ID_PUBLISH'].describe()"
   ]
  },
  {
   "cell_type": "markdown",
   "metadata": {},
   "source": [
    "Виждаме, че във видяните по-горе колони не се виждат някакви очевидни outliers."
   ]
  },
  {
   "cell_type": "markdown",
   "metadata": {},
   "source": [
    "### Examine Correlations"
   ]
  },
  {
   "cell_type": "code",
   "execution_count": 53,
   "metadata": {},
   "outputs": [
    {
     "name": "stdout",
     "output_type": "stream",
     "text": [
      "Most Possitive: \n",
      " REG_CITY_NOT_LIVE_CITY         0.044395\n",
      "FLAG_EMP_PHONE                 0.045982\n",
      "REG_CITY_NOT_WORK_CITY         0.050994\n",
      "DAYS_ID_PUBLISH                0.051457\n",
      "DAYS_LAST_PHONE_CHANGE         0.055218\n",
      "REGION_RATING_CLIENT           0.058899\n",
      "REGION_RATING_CLIENT_W_CITY    0.060893\n",
      "DAYS_EMPLOYED                  0.074958\n",
      "DAYS_BIRTH                     0.078239\n",
      "TARGET                         1.000000\n",
      "Name: TARGET, dtype: float64 \n",
      "\n",
      "Most Negative: \n",
      " EXT_SOURCE_3                 -0.178919\n",
      "EXT_SOURCE_2                 -0.160472\n",
      "EXT_SOURCE_1                 -0.155317\n",
      "DAYS_EMPLOYED_ANOM           -0.045987\n",
      "FLOORSMAX_AVG                -0.044003\n",
      "FLOORSMAX_MEDI               -0.043768\n",
      "FLOORSMAX_MODE               -0.043226\n",
      "AMT_GOODS_PRICE              -0.039645\n",
      "REGION_POPULATION_RELATIVE   -0.037227\n",
      "ELEVATORS_AVG                -0.034199\n",
      "Name: TARGET, dtype: float64\n"
     ]
    }
   ],
   "source": [
    "correlations = train.corr()['TARGET'].sort_values()\n",
    "\n",
    "print(\"Most Possitive: \\n\", correlations.tail(10), '\\n')\n",
    "print(\"Most Negative: \\n\", correlations.head(10))"
   ]
  },
  {
   "cell_type": "markdown",
   "metadata": {},
   "source": [
    "DAYS_BIRTH и DAYS_EMPLOYED имат най-голямо влияние върху модела"
   ]
  },
  {
   "cell_type": "code",
   "execution_count": 54,
   "metadata": {},
   "outputs": [
    {
     "data": {
      "image/png": "[encoded data removed]",
      "text/plain": [
       "<Figure size 720x576 with 1 Axes>"
      ]
     },
     "metadata": {},
     "output_type": "display_data"
    }
   ],
   "source": [
    "train['DAYS_BIRTH']=abs(train['DAYS_BIRTH'])\n",
    "plt.figure(figsize = (10, 8))\n",
    "\n",
    "# KDE plot of loans that were repaid on time\n",
    "sns.kdeplot(train.loc[train['TARGET'] == 0, 'DAYS_BIRTH'] / 365, label = 'target == 0')\n",
    "\n",
    "# KDE plot of loans which were not repaid on time\n",
    "sns.kdeplot(train.loc[train['TARGET'] == 1, 'DAYS_BIRTH'] / 365, label = 'target == 1')\n",
    "\n",
    "# Labeling of plot\n",
    "plt.xlabel('Age (years)'); plt.ylabel('Density'); plt.title('Distribution of Ages');"
   ]
  },
  {
   "cell_type": "markdown",
   "metadata": {},
   "source": [
    "От графиката се вижда, че повече млади хора не си плащат заемите, и съответно повечето възрастни - ги плащат"
   ]
  },
  {
   "cell_type": "markdown",
   "metadata": {},
   "source": [
    "Може да групираме годините в интервали от 5 години. Така ще видим съотношението на кредитие, които не са изплатени във всяка категория"
   ]
  },
  {
   "cell_type": "code",
   "execution_count": 55,
   "metadata": {},
   "outputs": [
    {
     "data": {
      "text/html": [
       "<div>\n",
       "<style scoped>\n",
       "    .dataframe tbody tr th:only-of-type {\n",
       "        vertical-align: middle;\n",
       "    }\n",
       "\n",
       "    .dataframe tbody tr th {\n",
       "        vertical-align: top;\n",
       "    }\n",
       "\n",
       "    .dataframe thead th {\n",
       "        text-align: right;\n",
       "    }\n",
       "</style>\n",
       "<table border=\"1\" class=\"dataframe\">\n",
       "  <thead>\n",
       "    <tr style=\"text-align: right;\">\n",
       "      <th></th>\n",
       "      <th>TARGET</th>\n",
       "      <th>DAYS_BIRTH</th>\n",
       "      <th>YEARS_BIRTH</th>\n",
       "      <th>YEARS_BINNED</th>\n",
       "    </tr>\n",
       "    <tr>\n",
       "      <th>SK_ID_CURR</th>\n",
       "      <th></th>\n",
       "      <th></th>\n",
       "      <th></th>\n",
       "      <th></th>\n",
       "    </tr>\n",
       "  </thead>\n",
       "  <tbody>\n",
       "    <tr>\n",
       "      <th>100002</th>\n",
       "      <td>1</td>\n",
       "      <td>9461</td>\n",
       "      <td>25.920548</td>\n",
       "      <td>(25.0, 30.0]</td>\n",
       "    </tr>\n",
       "    <tr>\n",
       "      <th>100003</th>\n",
       "      <td>0</td>\n",
       "      <td>16765</td>\n",
       "      <td>45.931507</td>\n",
       "      <td>(45.0, 50.0]</td>\n",
       "    </tr>\n",
       "    <tr>\n",
       "      <th>100004</th>\n",
       "      <td>0</td>\n",
       "      <td>19046</td>\n",
       "      <td>52.180822</td>\n",
       "      <td>(50.0, 55.0]</td>\n",
       "    </tr>\n",
       "    <tr>\n",
       "      <th>100006</th>\n",
       "      <td>0</td>\n",
       "      <td>19005</td>\n",
       "      <td>52.068493</td>\n",
       "      <td>(50.0, 55.0]</td>\n",
       "    </tr>\n",
       "    <tr>\n",
       "      <th>100007</th>\n",
       "      <td>0</td>\n",
       "      <td>19932</td>\n",
       "      <td>54.608219</td>\n",
       "      <td>(50.0, 55.0]</td>\n",
       "    </tr>\n",
       "    <tr>\n",
       "      <th>100008</th>\n",
       "      <td>0</td>\n",
       "      <td>16941</td>\n",
       "      <td>46.413699</td>\n",
       "      <td>(45.0, 50.0]</td>\n",
       "    </tr>\n",
       "    <tr>\n",
       "      <th>100009</th>\n",
       "      <td>0</td>\n",
       "      <td>13778</td>\n",
       "      <td>37.747945</td>\n",
       "      <td>(35.0, 40.0]</td>\n",
       "    </tr>\n",
       "    <tr>\n",
       "      <th>100010</th>\n",
       "      <td>0</td>\n",
       "      <td>18850</td>\n",
       "      <td>51.643836</td>\n",
       "      <td>(50.0, 55.0]</td>\n",
       "    </tr>\n",
       "    <tr>\n",
       "      <th>100011</th>\n",
       "      <td>0</td>\n",
       "      <td>20099</td>\n",
       "      <td>55.065753</td>\n",
       "      <td>(55.0, 60.0]</td>\n",
       "    </tr>\n",
       "    <tr>\n",
       "      <th>100012</th>\n",
       "      <td>0</td>\n",
       "      <td>14469</td>\n",
       "      <td>39.641096</td>\n",
       "      <td>(35.0, 40.0]</td>\n",
       "    </tr>\n",
       "  </tbody>\n",
       "</table>\n",
       "</div>"
      ],
      "text/plain": [
       "            TARGET  DAYS_BIRTH  YEARS_BIRTH  YEARS_BINNED\n",
       "SK_ID_CURR                                               \n",
       "100002           1        9461    25.920548  (25.0, 30.0]\n",
       "100003           0       16765    45.931507  (45.0, 50.0]\n",
       "100004           0       19046    52.180822  (50.0, 55.0]\n",
       "100006           0       19005    52.068493  (50.0, 55.0]\n",
       "100007           0       19932    54.608219  (50.0, 55.0]\n",
       "100008           0       16941    46.413699  (45.0, 50.0]\n",
       "100009           0       13778    37.747945  (35.0, 40.0]\n",
       "100010           0       18850    51.643836  (50.0, 55.0]\n",
       "100011           0       20099    55.065753  (55.0, 60.0]\n",
       "100012           0       14469    39.641096  (35.0, 40.0]"
      ]
     },
     "execution_count": 55,
     "metadata": {},
     "output_type": "execute_result"
    }
   ],
   "source": [
    "age_data = train[['TARGET', 'DAYS_BIRTH']].copy()\n",
    "age_data['YEARS_BIRTH'] = age_data['DAYS_BIRTH'] / 365\n",
    "\n",
    "# Bin the age data\n",
    "age_data['YEARS_BINNED'] = pd.cut(age_data['YEARS_BIRTH'], bins = np.linspace(20, 70, num = 11))\n",
    "age_data.head(10)"
   ]
  },
  {
   "cell_type": "code",
   "execution_count": 56,
   "metadata": {},
   "outputs": [
    {
     "data": {
      "text/html": [
       "<div>\n",
       "<style scoped>\n",
       "    .dataframe tbody tr th:only-of-type {\n",
       "        vertical-align: middle;\n",
       "    }\n",
       "\n",
       "    .dataframe tbody tr th {\n",
       "        vertical-align: top;\n",
       "    }\n",
       "\n",
       "    .dataframe thead th {\n",
       "        text-align: right;\n",
       "    }\n",
       "</style>\n",
       "<table border=\"1\" class=\"dataframe\">\n",
       "  <thead>\n",
       "    <tr style=\"text-align: right;\">\n",
       "      <th></th>\n",
       "      <th>TARGET</th>\n",
       "      <th>DAYS_BIRTH</th>\n",
       "      <th>YEARS_BIRTH</th>\n",
       "    </tr>\n",
       "    <tr>\n",
       "      <th>YEARS_BINNED</th>\n",
       "      <th></th>\n",
       "      <th></th>\n",
       "      <th></th>\n",
       "    </tr>\n",
       "  </thead>\n",
       "  <tbody>\n",
       "    <tr>\n",
       "      <th>(20.0, 25.0]</th>\n",
       "      <td>0.123036</td>\n",
       "      <td>8532.795625</td>\n",
       "      <td>23.377522</td>\n",
       "    </tr>\n",
       "    <tr>\n",
       "      <th>(25.0, 30.0]</th>\n",
       "      <td>0.111436</td>\n",
       "      <td>10155.219250</td>\n",
       "      <td>27.822518</td>\n",
       "    </tr>\n",
       "    <tr>\n",
       "      <th>(30.0, 35.0]</th>\n",
       "      <td>0.102814</td>\n",
       "      <td>11854.848377</td>\n",
       "      <td>32.479037</td>\n",
       "    </tr>\n",
       "    <tr>\n",
       "      <th>(35.0, 40.0]</th>\n",
       "      <td>0.089414</td>\n",
       "      <td>13707.908253</td>\n",
       "      <td>37.555913</td>\n",
       "    </tr>\n",
       "    <tr>\n",
       "      <th>(40.0, 45.0]</th>\n",
       "      <td>0.078491</td>\n",
       "      <td>15497.661233</td>\n",
       "      <td>42.459346</td>\n",
       "    </tr>\n",
       "    <tr>\n",
       "      <th>(45.0, 50.0]</th>\n",
       "      <td>0.074171</td>\n",
       "      <td>17323.900441</td>\n",
       "      <td>47.462741</td>\n",
       "    </tr>\n",
       "    <tr>\n",
       "      <th>(50.0, 55.0]</th>\n",
       "      <td>0.066968</td>\n",
       "      <td>19196.494791</td>\n",
       "      <td>52.593136</td>\n",
       "    </tr>\n",
       "    <tr>\n",
       "      <th>(55.0, 60.0]</th>\n",
       "      <td>0.055314</td>\n",
       "      <td>20984.262742</td>\n",
       "      <td>57.491131</td>\n",
       "    </tr>\n",
       "    <tr>\n",
       "      <th>(60.0, 65.0]</th>\n",
       "      <td>0.052737</td>\n",
       "      <td>22780.547460</td>\n",
       "      <td>62.412459</td>\n",
       "    </tr>\n",
       "    <tr>\n",
       "      <th>(65.0, 70.0]</th>\n",
       "      <td>0.037270</td>\n",
       "      <td>24292.614340</td>\n",
       "      <td>66.555108</td>\n",
       "    </tr>\n",
       "  </tbody>\n",
       "</table>\n",
       "</div>"
      ],
      "text/plain": [
       "                TARGET    DAYS_BIRTH  YEARS_BIRTH\n",
       "YEARS_BINNED                                     \n",
       "(20.0, 25.0]  0.123036   8532.795625    23.377522\n",
       "(25.0, 30.0]  0.111436  10155.219250    27.822518\n",
       "(30.0, 35.0]  0.102814  11854.848377    32.479037\n",
       "(35.0, 40.0]  0.089414  13707.908253    37.555913\n",
       "(40.0, 45.0]  0.078491  15497.661233    42.459346\n",
       "(45.0, 50.0]  0.074171  17323.900441    47.462741\n",
       "(50.0, 55.0]  0.066968  19196.494791    52.593136\n",
       "(55.0, 60.0]  0.055314  20984.262742    57.491131\n",
       "(60.0, 65.0]  0.052737  22780.547460    62.412459\n",
       "(65.0, 70.0]  0.037270  24292.614340    66.555108"
      ]
     },
     "execution_count": 56,
     "metadata": {},
     "output_type": "execute_result"
    }
   ],
   "source": [
    "# Group by the bin and calculate averages\n",
    "age_groups  = age_data.groupby('YEARS_BINNED').mean()\n",
    "age_groups"
   ]
  },
  {
   "cell_type": "code",
   "execution_count": 57,
   "metadata": {},
   "outputs": [
    {
     "data": {
      "image/png": "[encoded data removed]",
      "text/plain": [
       "<Figure size 576x576 with 1 Axes>"
      ]
     },
     "metadata": {},
     "output_type": "display_data"
    }
   ],
   "source": [
    "plt.figure(figsize = (8, 8))\n",
    "\n",
    "# Graph the age bins and the average of the target as a bar plot\n",
    "plt.bar(age_groups.index.astype(str), 100 * age_groups['TARGET'])\n",
    "\n",
    "# Plot labeling\n",
    "plt.xticks(rotation = 75); plt.xlabel('Age Group (years)'); plt.ylabel('Failure to Repay (%)')\n",
    "plt.title('Failure to Repay by Age Group');"
   ]
  },
  {
   "cell_type": "markdown",
   "metadata": {},
   "source": [
    "Тук още по-ясно се вижда, че колкото по-млади са клиентите, толкова по-рядко си плащат заемите. Повече от 10% от първите 3 категории имат тенденция да не ти плащат заемите, докато при най-възрастните процента е под 4."
   ]
  },
  {
   "cell_type": "markdown",
   "metadata": {},
   "source": [
    "Нека разгледаме фичърите с най-голямо отрицателно влияние. Това са: EXT_SOURCE_1, EXT_SOURCE_2, EXT_SOURCE_3"
   ]
  },
  {
   "cell_type": "code",
   "execution_count": 58,
   "metadata": {},
   "outputs": [
    {
     "data": {
      "text/html": [
       "<div>\n",
       "<style scoped>\n",
       "    .dataframe tbody tr th:only-of-type {\n",
       "        vertical-align: middle;\n",
       "    }\n",
       "\n",
       "    .dataframe tbody tr th {\n",
       "        vertical-align: top;\n",
       "    }\n",
       "\n",
       "    .dataframe thead th {\n",
       "        text-align: right;\n",
       "    }\n",
       "</style>\n",
       "<table border=\"1\" class=\"dataframe\">\n",
       "  <thead>\n",
       "    <tr style=\"text-align: right;\">\n",
       "      <th></th>\n",
       "      <th>TARGET</th>\n",
       "      <th>EXT_SOURCE_1</th>\n",
       "      <th>EXT_SOURCE_2</th>\n",
       "      <th>EXT_SOURCE_3</th>\n",
       "      <th>DAYS_BIRTH</th>\n",
       "    </tr>\n",
       "  </thead>\n",
       "  <tbody>\n",
       "    <tr>\n",
       "      <th>TARGET</th>\n",
       "      <td>1.000000</td>\n",
       "      <td>-0.155317</td>\n",
       "      <td>-0.160472</td>\n",
       "      <td>-0.178919</td>\n",
       "      <td>-0.078239</td>\n",
       "    </tr>\n",
       "    <tr>\n",
       "      <th>EXT_SOURCE_1</th>\n",
       "      <td>-0.155317</td>\n",
       "      <td>1.000000</td>\n",
       "      <td>0.213982</td>\n",
       "      <td>0.186846</td>\n",
       "      <td>0.600610</td>\n",
       "    </tr>\n",
       "    <tr>\n",
       "      <th>EXT_SOURCE_2</th>\n",
       "      <td>-0.160472</td>\n",
       "      <td>0.213982</td>\n",
       "      <td>1.000000</td>\n",
       "      <td>0.109167</td>\n",
       "      <td>0.091996</td>\n",
       "    </tr>\n",
       "    <tr>\n",
       "      <th>EXT_SOURCE_3</th>\n",
       "      <td>-0.178919</td>\n",
       "      <td>0.186846</td>\n",
       "      <td>0.109167</td>\n",
       "      <td>1.000000</td>\n",
       "      <td>0.205478</td>\n",
       "    </tr>\n",
       "    <tr>\n",
       "      <th>DAYS_BIRTH</th>\n",
       "      <td>-0.078239</td>\n",
       "      <td>0.600610</td>\n",
       "      <td>0.091996</td>\n",
       "      <td>0.205478</td>\n",
       "      <td>1.000000</td>\n",
       "    </tr>\n",
       "  </tbody>\n",
       "</table>\n",
       "</div>"
      ],
      "text/plain": [
       "                TARGET  EXT_SOURCE_1  EXT_SOURCE_2  EXT_SOURCE_3  DAYS_BIRTH\n",
       "TARGET        1.000000     -0.155317     -0.160472     -0.178919   -0.078239\n",
       "EXT_SOURCE_1 -0.155317      1.000000      0.213982      0.186846    0.600610\n",
       "EXT_SOURCE_2 -0.160472      0.213982      1.000000      0.109167    0.091996\n",
       "EXT_SOURCE_3 -0.178919      0.186846      0.109167      1.000000    0.205478\n",
       "DAYS_BIRTH   -0.078239      0.600610      0.091996      0.205478    1.000000"
      ]
     },
     "execution_count": 58,
     "metadata": {},
     "output_type": "execute_result"
    }
   ],
   "source": [
    "# Show the correlations\n",
    "ext_data = train[['TARGET', 'EXT_SOURCE_1', 'EXT_SOURCE_2', 'EXT_SOURCE_3', 'DAYS_BIRTH']]\n",
    "ext_data_corrs = ext_data.corr()\n",
    "ext_data_corrs"
   ]
  },
  {
   "cell_type": "markdown",
   "metadata": {},
   "source": [
    "Може да видим разпределението на тези фичъри спрямо TARGET"
   ]
  },
  {
   "cell_type": "code",
   "execution_count": 59,
   "metadata": {},
   "outputs": [
    {
     "data": {
      "image/png": "[encoded data removed]",
      "text/plain": [
       "<Figure size 720x864 with 3 Axes>"
      ]
     },
     "metadata": {},
     "output_type": "display_data"
    }
   ],
   "source": [
    "plt.figure(figsize = (10, 12))\n",
    "\n",
    "# iterate through the sources\n",
    "for i, source in enumerate(['EXT_SOURCE_1', 'EXT_SOURCE_2', 'EXT_SOURCE_3']):\n",
    "    \n",
    "    # create a new subplot for each source\n",
    "    plt.subplot(3, 1, i + 1)\n",
    "    # plot repaid loans\n",
    "    sns.kdeplot(train.loc[train['TARGET'] == 0, source], label = 'target == 0')\n",
    "    # plot loans that were not repaid\n",
    "    sns.kdeplot(train.loc[train['TARGET'] == 1, source], label = 'target == 1')\n",
    "    \n",
    "    # Label the plots\n",
    "    plt.title('Distribution of %s by Target Value' % source)\n",
    "    plt.xlabel('%s' % source); plt.ylabel('Density');\n",
    "    \n",
    "plt.tight_layout(h_pad = 2.5)"
   ]
  },
  {
   "cell_type": "markdown",
   "metadata": {},
   "source": [
    "Най-голямо влияние върху TARGET оказва EXT_SOURCE_3. Вероятно е този фичър да има връзка (макар и слаба) с връщането на заемите."
   ]
  },
  {
   "cell_type": "markdown",
   "metadata": {},
   "source": [
    "# Feature Engineering"
   ]
  },
  {
   "cell_type": "markdown",
   "metadata": {},
   "source": [
    "### Create new Features"
   ]
  },
  {
   "cell_type": "code",
   "execution_count": 60,
   "metadata": {},
   "outputs": [],
   "source": [
    "# create new feature from the credit amount of the loan and loan annuity\n",
    "train['TERM'] = train['AMT_CREDIT'] / train['AMT_ANNUITY']"
   ]
  },
  {
   "cell_type": "code",
   "execution_count": 61,
   "metadata": {},
   "outputs": [],
   "source": [
    "# actual credit larger than goods price\n",
    "train['OVER_EXPECT_CREDIT'] = (train['AMT_CREDIT'] > train['AMT_GOODS_PRICE']).map({False:0, True:1})"
   ]
  },
  {
   "cell_type": "code",
   "execution_count": 62,
   "metadata": {},
   "outputs": [],
   "source": [
    "# mean and sum of all building AVG score\n",
    "train['MEAN_BUILDING_SCORE_AVG'] = train.iloc[:, 43:57].mean(skipna=True, axis=1)\n",
    "train['TOTAL_BUILDING_SCORE_AVG'] = train.iloc[:, 43:57].sum(skipna=True, axis=1)"
   ]
  },
  {
   "cell_type": "code",
   "execution_count": 63,
   "metadata": {},
   "outputs": [],
   "source": [
    "# total number of provided documents\n",
    "train['FLAG_DOCUMENT_TOTAL'] = train.iloc[:, 95:115].sum(axis=1)"
   ]
  },
  {
   "cell_type": "code",
   "execution_count": 64,
   "metadata": {},
   "outputs": [],
   "source": [
    "# total number of enquiries\n",
    "train['AMT_REQ_CREDIT_BUREAU_TOTAL'] = train.iloc[:, 115:121].sum(axis=1)"
   ]
  },
  {
   "cell_type": "code",
   "execution_count": 65,
   "metadata": {},
   "outputs": [],
   "source": [
    "cols_to_drop = list(train.iloc[:, 43:57].columns) + list(train.iloc[:, 95:115].columns) + list(train.iloc[:, 115:121].columns)\n",
    "\n",
    "train.drop(columns=cols_to_drop, inplace=True)"
   ]
  },
  {
   "cell_type": "markdown",
   "metadata": {},
   "source": [
    "## Explore Bureau Data"
   ]
  },
  {
   "cell_type": "markdown",
   "metadata": {},
   "source": [
    "Данните в bureau.csv ни дават информация за предишни заеми на клиентите от други институции. За всеки заем има отделен ред"
   ]
  },
  {
   "cell_type": "code",
   "execution_count": 66,
   "metadata": {},
   "outputs": [
    {
     "data": {
      "text/html": [
       "<div>\n",
       "<style scoped>\n",
       "    .dataframe tbody tr th:only-of-type {\n",
       "        vertical-align: middle;\n",
       "    }\n",
       "\n",
       "    .dataframe tbody tr th {\n",
       "        vertical-align: top;\n",
       "    }\n",
       "\n",
       "    .dataframe thead th {\n",
       "        text-align: right;\n",
       "    }\n",
       "</style>\n",
       "<table border=\"1\" class=\"dataframe\">\n",
       "  <thead>\n",
       "    <tr style=\"text-align: right;\">\n",
       "      <th></th>\n",
       "      <th>SK_ID_CURR</th>\n",
       "      <th>SK_ID_BUREAU</th>\n",
       "      <th>CREDIT_ACTIVE</th>\n",
       "      <th>CREDIT_CURRENCY</th>\n",
       "      <th>DAYS_CREDIT</th>\n",
       "      <th>CREDIT_DAY_OVERDUE</th>\n",
       "      <th>DAYS_CREDIT_ENDDATE</th>\n",
       "      <th>DAYS_ENDDATE_FACT</th>\n",
       "      <th>AMT_CREDIT_MAX_OVERDUE</th>\n",
       "      <th>CNT_CREDIT_PROLONG</th>\n",
       "      <th>AMT_CREDIT_SUM</th>\n",
       "      <th>AMT_CREDIT_SUM_DEBT</th>\n",
       "      <th>AMT_CREDIT_SUM_LIMIT</th>\n",
       "      <th>AMT_CREDIT_SUM_OVERDUE</th>\n",
       "      <th>CREDIT_TYPE</th>\n",
       "      <th>DAYS_CREDIT_UPDATE</th>\n",
       "      <th>AMT_ANNUITY</th>\n",
       "    </tr>\n",
       "  </thead>\n",
       "  <tbody>\n",
       "    <tr>\n",
       "      <th>0</th>\n",
       "      <td>215354</td>\n",
       "      <td>5714462</td>\n",
       "      <td>Closed</td>\n",
       "      <td>currency 1</td>\n",
       "      <td>-497</td>\n",
       "      <td>0</td>\n",
       "      <td>-153.0</td>\n",
       "      <td>-153.0</td>\n",
       "      <td>NaN</td>\n",
       "      <td>0</td>\n",
       "      <td>91323.0</td>\n",
       "      <td>0.0</td>\n",
       "      <td>NaN</td>\n",
       "      <td>0.0</td>\n",
       "      <td>Consumer credit</td>\n",
       "      <td>-131</td>\n",
       "      <td>NaN</td>\n",
       "    </tr>\n",
       "    <tr>\n",
       "      <th>1</th>\n",
       "      <td>215354</td>\n",
       "      <td>5714463</td>\n",
       "      <td>Active</td>\n",
       "      <td>currency 1</td>\n",
       "      <td>-208</td>\n",
       "      <td>0</td>\n",
       "      <td>1075.0</td>\n",
       "      <td>NaN</td>\n",
       "      <td>NaN</td>\n",
       "      <td>0</td>\n",
       "      <td>225000.0</td>\n",
       "      <td>171342.0</td>\n",
       "      <td>NaN</td>\n",
       "      <td>0.0</td>\n",
       "      <td>Credit card</td>\n",
       "      <td>-20</td>\n",
       "      <td>NaN</td>\n",
       "    </tr>\n",
       "    <tr>\n",
       "      <th>2</th>\n",
       "      <td>215354</td>\n",
       "      <td>5714464</td>\n",
       "      <td>Active</td>\n",
       "      <td>currency 1</td>\n",
       "      <td>-203</td>\n",
       "      <td>0</td>\n",
       "      <td>528.0</td>\n",
       "      <td>NaN</td>\n",
       "      <td>NaN</td>\n",
       "      <td>0</td>\n",
       "      <td>464323.5</td>\n",
       "      <td>NaN</td>\n",
       "      <td>NaN</td>\n",
       "      <td>0.0</td>\n",
       "      <td>Consumer credit</td>\n",
       "      <td>-16</td>\n",
       "      <td>NaN</td>\n",
       "    </tr>\n",
       "    <tr>\n",
       "      <th>3</th>\n",
       "      <td>215354</td>\n",
       "      <td>5714465</td>\n",
       "      <td>Active</td>\n",
       "      <td>currency 1</td>\n",
       "      <td>-203</td>\n",
       "      <td>0</td>\n",
       "      <td>NaN</td>\n",
       "      <td>NaN</td>\n",
       "      <td>NaN</td>\n",
       "      <td>0</td>\n",
       "      <td>90000.0</td>\n",
       "      <td>NaN</td>\n",
       "      <td>NaN</td>\n",
       "      <td>0.0</td>\n",
       "      <td>Credit card</td>\n",
       "      <td>-16</td>\n",
       "      <td>NaN</td>\n",
       "    </tr>\n",
       "    <tr>\n",
       "      <th>4</th>\n",
       "      <td>215354</td>\n",
       "      <td>5714466</td>\n",
       "      <td>Active</td>\n",
       "      <td>currency 1</td>\n",
       "      <td>-629</td>\n",
       "      <td>0</td>\n",
       "      <td>1197.0</td>\n",
       "      <td>NaN</td>\n",
       "      <td>77674.5</td>\n",
       "      <td>0</td>\n",
       "      <td>2700000.0</td>\n",
       "      <td>NaN</td>\n",
       "      <td>NaN</td>\n",
       "      <td>0.0</td>\n",
       "      <td>Consumer credit</td>\n",
       "      <td>-21</td>\n",
       "      <td>NaN</td>\n",
       "    </tr>\n",
       "  </tbody>\n",
       "</table>\n",
       "</div>"
      ],
      "text/plain": [
       "   SK_ID_CURR  SK_ID_BUREAU CREDIT_ACTIVE CREDIT_CURRENCY  DAYS_CREDIT  \\\n",
       "0      215354       5714462        Closed      currency 1         -497   \n",
       "1      215354       5714463        Active      currency 1         -208   \n",
       "2      215354       5714464        Active      currency 1         -203   \n",
       "3      215354       5714465        Active      currency 1         -203   \n",
       "4      215354       5714466        Active      currency 1         -629   \n",
       "\n",
       "   CREDIT_DAY_OVERDUE  DAYS_CREDIT_ENDDATE  DAYS_ENDDATE_FACT  \\\n",
       "0                   0               -153.0             -153.0   \n",
       "1                   0               1075.0                NaN   \n",
       "2                   0                528.0                NaN   \n",
       "3                   0                  NaN                NaN   \n",
       "4                   0               1197.0                NaN   \n",
       "\n",
       "   AMT_CREDIT_MAX_OVERDUE  CNT_CREDIT_PROLONG  AMT_CREDIT_SUM  \\\n",
       "0                     NaN                   0         91323.0   \n",
       "1                     NaN                   0        225000.0   \n",
       "2                     NaN                   0        464323.5   \n",
       "3                     NaN                   0         90000.0   \n",
       "4                 77674.5                   0       2700000.0   \n",
       "\n",
       "   AMT_CREDIT_SUM_DEBT  AMT_CREDIT_SUM_LIMIT  AMT_CREDIT_SUM_OVERDUE  \\\n",
       "0                  0.0                   NaN                     0.0   \n",
       "1             171342.0                   NaN                     0.0   \n",
       "2                  NaN                   NaN                     0.0   \n",
       "3                  NaN                   NaN                     0.0   \n",
       "4                  NaN                   NaN                     0.0   \n",
       "\n",
       "       CREDIT_TYPE  DAYS_CREDIT_UPDATE  AMT_ANNUITY  \n",
       "0  Consumer credit                -131          NaN  \n",
       "1      Credit card                 -20          NaN  \n",
       "2  Consumer credit                 -16          NaN  \n",
       "3      Credit card                 -16          NaN  \n",
       "4  Consumer credit                 -21          NaN  "
      ]
     },
     "execution_count": 66,
     "metadata": {},
     "output_type": "execute_result"
    }
   ],
   "source": [
    "bureau = pd.read_csv('bureau.csv')\n",
    "bureau.head()"
   ]
  },
  {
   "cell_type": "markdown",
   "metadata": {},
   "source": [
    "### Count of Client's previous loans"
   ]
  },
  {
   "cell_type": "code",
   "execution_count": 67,
   "metadata": {},
   "outputs": [
    {
     "data": {
      "text/html": [
       "<div>\n",
       "<style scoped>\n",
       "    .dataframe tbody tr th:only-of-type {\n",
       "        vertical-align: middle;\n",
       "    }\n",
       "\n",
       "    .dataframe tbody tr th {\n",
       "        vertical-align: top;\n",
       "    }\n",
       "\n",
       "    .dataframe thead th {\n",
       "        text-align: right;\n",
       "    }\n",
       "</style>\n",
       "<table border=\"1\" class=\"dataframe\">\n",
       "  <thead>\n",
       "    <tr style=\"text-align: right;\">\n",
       "      <th></th>\n",
       "      <th>SK_ID_CURR</th>\n",
       "      <th>COUNT_OF_PREV_LOANS</th>\n",
       "    </tr>\n",
       "  </thead>\n",
       "  <tbody>\n",
       "    <tr>\n",
       "      <th>0</th>\n",
       "      <td>100001</td>\n",
       "      <td>7</td>\n",
       "    </tr>\n",
       "    <tr>\n",
       "      <th>1</th>\n",
       "      <td>100002</td>\n",
       "      <td>8</td>\n",
       "    </tr>\n",
       "    <tr>\n",
       "      <th>2</th>\n",
       "      <td>100003</td>\n",
       "      <td>4</td>\n",
       "    </tr>\n",
       "    <tr>\n",
       "      <th>3</th>\n",
       "      <td>100004</td>\n",
       "      <td>2</td>\n",
       "    </tr>\n",
       "    <tr>\n",
       "      <th>4</th>\n",
       "      <td>100005</td>\n",
       "      <td>3</td>\n",
       "    </tr>\n",
       "  </tbody>\n",
       "</table>\n",
       "</div>"
      ],
      "text/plain": [
       "   SK_ID_CURR  COUNT_OF_PREV_LOANS\n",
       "0      100001                    7\n",
       "1      100002                    8\n",
       "2      100003                    4\n",
       "3      100004                    2\n",
       "4      100005                    3"
      ]
     },
     "execution_count": 67,
     "metadata": {},
     "output_type": "execute_result"
    }
   ],
   "source": [
    "# Group by the client id (SK_ID_CURR) and count the number of previous loans\n",
    "count_of_previous_loans = bureau.groupby('SK_ID_CURR', as_index=False)['SK_ID_BUREAU'].count().rename(columns = {'SK_ID_BUREAU': 'COUNT_OF_PREV_LOANS'})\n",
    "count_of_previous_loans.head()"
   ]
  },
  {
   "cell_type": "code",
   "execution_count": 68,
   "metadata": {},
   "outputs": [],
   "source": [
    "# join with the training dataframe\n",
    "train = train.merge(count_of_previous_loans, on='SK_ID_CURR', how='left')\n",
    "\n",
    "# fill the missing values with 0\n",
    "train['COUNT_OF_PREV_LOANS'] = train['COUNT_OF_PREV_LOANS'].fillna(0)"
   ]
  },
  {
   "cell_type": "code",
   "execution_count": 69,
   "metadata": {},
   "outputs": [
    {
     "data": {
      "text/html": [
       "<div>\n",
       "<style scoped>\n",
       "    .dataframe tbody tr th:only-of-type {\n",
       "        vertical-align: middle;\n",
       "    }\n",
       "\n",
       "    .dataframe tbody tr th {\n",
       "        vertical-align: top;\n",
       "    }\n",
       "\n",
       "    .dataframe thead th {\n",
       "        text-align: right;\n",
       "    }\n",
       "</style>\n",
       "<table border=\"1\" class=\"dataframe\">\n",
       "  <thead>\n",
       "    <tr style=\"text-align: right;\">\n",
       "      <th></th>\n",
       "      <th>SK_ID_CURR</th>\n",
       "      <th>TARGET</th>\n",
       "      <th>NAME_CONTRACT_TYPE</th>\n",
       "      <th>CODE_GENDER</th>\n",
       "      <th>FLAG_OWN_CAR</th>\n",
       "      <th>FLAG_OWN_REALTY</th>\n",
       "      <th>CNT_CHILDREN</th>\n",
       "      <th>AMT_INCOME_TOTAL</th>\n",
       "      <th>AMT_CREDIT</th>\n",
       "      <th>AMT_ANNUITY</th>\n",
       "      <th>...</th>\n",
       "      <th>DEF_60_CNT_SOCIAL_CIRCLE</th>\n",
       "      <th>DAYS_LAST_PHONE_CHANGE</th>\n",
       "      <th>DAYS_EMPLOYED_ANOM</th>\n",
       "      <th>TERM</th>\n",
       "      <th>OVER_EXPECT_CREDIT</th>\n",
       "      <th>MEAN_BUILDING_SCORE_AVG</th>\n",
       "      <th>TOTAL_BUILDING_SCORE_AVG</th>\n",
       "      <th>FLAG_DOCUMENT_TOTAL</th>\n",
       "      <th>AMT_REQ_CREDIT_BUREAU_TOTAL</th>\n",
       "      <th>COUNT_OF_PREV_LOANS</th>\n",
       "    </tr>\n",
       "  </thead>\n",
       "  <tbody>\n",
       "    <tr>\n",
       "      <th>0</th>\n",
       "      <td>100002</td>\n",
       "      <td>1</td>\n",
       "      <td>Cash loans</td>\n",
       "      <td>M</td>\n",
       "      <td>N</td>\n",
       "      <td>Y</td>\n",
       "      <td>0</td>\n",
       "      <td>202500.0</td>\n",
       "      <td>406597.5</td>\n",
       "      <td>24700.5</td>\n",
       "      <td>...</td>\n",
       "      <td>2.0</td>\n",
       "      <td>-1134.0</td>\n",
       "      <td>False</td>\n",
       "      <td>16.461104</td>\n",
       "      <td>1</td>\n",
       "      <td>0.144336</td>\n",
       "      <td>2.0207</td>\n",
       "      <td>1</td>\n",
       "      <td>1.0</td>\n",
       "      <td>8.0</td>\n",
       "    </tr>\n",
       "    <tr>\n",
       "      <th>1</th>\n",
       "      <td>100003</td>\n",
       "      <td>0</td>\n",
       "      <td>Cash loans</td>\n",
       "      <td>F</td>\n",
       "      <td>N</td>\n",
       "      <td>N</td>\n",
       "      <td>0</td>\n",
       "      <td>270000.0</td>\n",
       "      <td>1293502.5</td>\n",
       "      <td>35698.5</td>\n",
       "      <td>...</td>\n",
       "      <td>0.0</td>\n",
       "      <td>-828.0</td>\n",
       "      <td>False</td>\n",
       "      <td>36.234085</td>\n",
       "      <td>1</td>\n",
       "      <td>0.206343</td>\n",
       "      <td>2.8888</td>\n",
       "      <td>1</td>\n",
       "      <td>0.0</td>\n",
       "      <td>4.0</td>\n",
       "    </tr>\n",
       "    <tr>\n",
       "      <th>2</th>\n",
       "      <td>100004</td>\n",
       "      <td>0</td>\n",
       "      <td>Revolving loans</td>\n",
       "      <td>M</td>\n",
       "      <td>Y</td>\n",
       "      <td>Y</td>\n",
       "      <td>0</td>\n",
       "      <td>67500.0</td>\n",
       "      <td>135000.0</td>\n",
       "      <td>6750.0</td>\n",
       "      <td>...</td>\n",
       "      <td>0.0</td>\n",
       "      <td>-815.0</td>\n",
       "      <td>False</td>\n",
       "      <td>20.000000</td>\n",
       "      <td>0</td>\n",
       "      <td>NaN</td>\n",
       "      <td>0.0000</td>\n",
       "      <td>0</td>\n",
       "      <td>0.0</td>\n",
       "      <td>2.0</td>\n",
       "    </tr>\n",
       "    <tr>\n",
       "      <th>3</th>\n",
       "      <td>100006</td>\n",
       "      <td>0</td>\n",
       "      <td>Cash loans</td>\n",
       "      <td>F</td>\n",
       "      <td>N</td>\n",
       "      <td>Y</td>\n",
       "      <td>0</td>\n",
       "      <td>135000.0</td>\n",
       "      <td>312682.5</td>\n",
       "      <td>29686.5</td>\n",
       "      <td>...</td>\n",
       "      <td>0.0</td>\n",
       "      <td>-617.0</td>\n",
       "      <td>False</td>\n",
       "      <td>10.532818</td>\n",
       "      <td>1</td>\n",
       "      <td>NaN</td>\n",
       "      <td>0.0000</td>\n",
       "      <td>1</td>\n",
       "      <td>0.0</td>\n",
       "      <td>0.0</td>\n",
       "    </tr>\n",
       "    <tr>\n",
       "      <th>4</th>\n",
       "      <td>100007</td>\n",
       "      <td>0</td>\n",
       "      <td>Cash loans</td>\n",
       "      <td>M</td>\n",
       "      <td>N</td>\n",
       "      <td>Y</td>\n",
       "      <td>0</td>\n",
       "      <td>121500.0</td>\n",
       "      <td>513000.0</td>\n",
       "      <td>21865.5</td>\n",
       "      <td>...</td>\n",
       "      <td>0.0</td>\n",
       "      <td>-1106.0</td>\n",
       "      <td>False</td>\n",
       "      <td>23.461618</td>\n",
       "      <td>0</td>\n",
       "      <td>NaN</td>\n",
       "      <td>0.0000</td>\n",
       "      <td>1</td>\n",
       "      <td>0.0</td>\n",
       "      <td>1.0</td>\n",
       "    </tr>\n",
       "  </tbody>\n",
       "</table>\n",
       "<p>5 rows × 90 columns</p>\n",
       "</div>"
      ],
      "text/plain": [
       "   SK_ID_CURR  TARGET NAME_CONTRACT_TYPE CODE_GENDER FLAG_OWN_CAR  \\\n",
       "0      100002       1         Cash loans           M            N   \n",
       "1      100003       0         Cash loans           F            N   \n",
       "2      100004       0    Revolving loans           M            Y   \n",
       "3      100006       0         Cash loans           F            N   \n",
       "4      100007       0         Cash loans           M            N   \n",
       "\n",
       "  FLAG_OWN_REALTY  CNT_CHILDREN  AMT_INCOME_TOTAL  AMT_CREDIT  AMT_ANNUITY  \\\n",
       "0               Y             0          202500.0    406597.5      24700.5   \n",
       "1               N             0          270000.0   1293502.5      35698.5   \n",
       "2               Y             0           67500.0    135000.0       6750.0   \n",
       "3               Y             0          135000.0    312682.5      29686.5   \n",
       "4               Y             0          121500.0    513000.0      21865.5   \n",
       "\n",
       "          ...           DEF_60_CNT_SOCIAL_CIRCLE DAYS_LAST_PHONE_CHANGE  \\\n",
       "0         ...                                2.0                -1134.0   \n",
       "1         ...                                0.0                 -828.0   \n",
       "2         ...                                0.0                 -815.0   \n",
       "3         ...                                0.0                 -617.0   \n",
       "4         ...                                0.0                -1106.0   \n",
       "\n",
       "  DAYS_EMPLOYED_ANOM       TERM OVER_EXPECT_CREDIT MEAN_BUILDING_SCORE_AVG  \\\n",
       "0              False  16.461104                  1                0.144336   \n",
       "1              False  36.234085                  1                0.206343   \n",
       "2              False  20.000000                  0                     NaN   \n",
       "3              False  10.532818                  1                     NaN   \n",
       "4              False  23.461618                  0                     NaN   \n",
       "\n",
       "   TOTAL_BUILDING_SCORE_AVG  FLAG_DOCUMENT_TOTAL  AMT_REQ_CREDIT_BUREAU_TOTAL  \\\n",
       "0                    2.0207                    1                          1.0   \n",
       "1                    2.8888                    1                          0.0   \n",
       "2                    0.0000                    0                          0.0   \n",
       "3                    0.0000                    1                          0.0   \n",
       "4                    0.0000                    1                          0.0   \n",
       "\n",
       "   COUNT_OF_PREV_LOANS  \n",
       "0                  8.0  \n",
       "1                  4.0  \n",
       "2                  2.0  \n",
       "3                  0.0  \n",
       "4                  1.0  \n",
       "\n",
       "[5 rows x 90 columns]"
      ]
     },
     "execution_count": 69,
     "metadata": {},
     "output_type": "execute_result"
    }
   ],
   "source": [
    "train.head()"
   ]
  },
  {
   "cell_type": "code",
   "execution_count": 70,
   "metadata": {
    "scrolled": true
   },
   "outputs": [
    {
     "data": {
      "text/plain": [
       "-0.01001971567068405"
      ]
     },
     "execution_count": 70,
     "metadata": {},
     "output_type": "execute_result"
    }
   ],
   "source": [
    "train['TARGET'].corr(train['COUNT_OF_PREV_LOANS'])"
   ]
  },
  {
   "cell_type": "markdown",
   "metadata": {},
   "source": [
    "Да добавим към train и колоните съдържащи числа. Тъй като имаме по няколко реда за един човек(SK_ID_CURR) можем да агрегираме стойностите от отделните колони в един ред, като групираме по SK_ID_CURR и вземем min,max,mean,sum.\n",
    "Абстрахираме се от count тъй като той дефакто е брой предишни заеми, което вече сме добавили."
   ]
  },
  {
   "cell_type": "code",
   "execution_count": 71,
   "metadata": {
    "scrolled": true
   },
   "outputs": [
    {
     "data": {
      "text/html": [
       "<div>\n",
       "<style scoped>\n",
       "    .dataframe tbody tr th:only-of-type {\n",
       "        vertical-align: middle;\n",
       "    }\n",
       "\n",
       "    .dataframe tbody tr th {\n",
       "        vertical-align: top;\n",
       "    }\n",
       "\n",
       "    .dataframe thead tr th {\n",
       "        text-align: left;\n",
       "    }\n",
       "</style>\n",
       "<table border=\"1\" class=\"dataframe\">\n",
       "  <thead>\n",
       "    <tr>\n",
       "      <th></th>\n",
       "      <th>SK_ID_CURR</th>\n",
       "      <th colspan=\"4\" halign=\"left\">DAYS_CREDIT</th>\n",
       "      <th colspan=\"4\" halign=\"left\">CREDIT_DAY_OVERDUE</th>\n",
       "      <th>DAYS_CREDIT_ENDDATE</th>\n",
       "      <th>...</th>\n",
       "      <th colspan=\"2\" halign=\"left\">AMT_CREDIT_SUM_OVERDUE</th>\n",
       "      <th colspan=\"4\" halign=\"left\">DAYS_CREDIT_UPDATE</th>\n",
       "      <th colspan=\"4\" halign=\"left\">AMT_ANNUITY</th>\n",
       "    </tr>\n",
       "    <tr>\n",
       "      <th></th>\n",
       "      <th></th>\n",
       "      <th>mean</th>\n",
       "      <th>max</th>\n",
       "      <th>min</th>\n",
       "      <th>sum</th>\n",
       "      <th>mean</th>\n",
       "      <th>max</th>\n",
       "      <th>min</th>\n",
       "      <th>sum</th>\n",
       "      <th>mean</th>\n",
       "      <th>...</th>\n",
       "      <th>min</th>\n",
       "      <th>sum</th>\n",
       "      <th>mean</th>\n",
       "      <th>max</th>\n",
       "      <th>min</th>\n",
       "      <th>sum</th>\n",
       "      <th>mean</th>\n",
       "      <th>max</th>\n",
       "      <th>min</th>\n",
       "      <th>sum</th>\n",
       "    </tr>\n",
       "  </thead>\n",
       "  <tbody>\n",
       "    <tr>\n",
       "      <th>0</th>\n",
       "      <td>100001</td>\n",
       "      <td>-735.000000</td>\n",
       "      <td>-49</td>\n",
       "      <td>-1572</td>\n",
       "      <td>-5145</td>\n",
       "      <td>0.0</td>\n",
       "      <td>0</td>\n",
       "      <td>0</td>\n",
       "      <td>0</td>\n",
       "      <td>82.428571</td>\n",
       "      <td>...</td>\n",
       "      <td>0.0</td>\n",
       "      <td>0.0</td>\n",
       "      <td>-93.142857</td>\n",
       "      <td>-6</td>\n",
       "      <td>-155</td>\n",
       "      <td>-652</td>\n",
       "      <td>3545.357143</td>\n",
       "      <td>10822.5</td>\n",
       "      <td>0.0</td>\n",
       "      <td>24817.5</td>\n",
       "    </tr>\n",
       "    <tr>\n",
       "      <th>1</th>\n",
       "      <td>100002</td>\n",
       "      <td>-874.000000</td>\n",
       "      <td>-103</td>\n",
       "      <td>-1437</td>\n",
       "      <td>-6992</td>\n",
       "      <td>0.0</td>\n",
       "      <td>0</td>\n",
       "      <td>0</td>\n",
       "      <td>0</td>\n",
       "      <td>-349.000000</td>\n",
       "      <td>...</td>\n",
       "      <td>0.0</td>\n",
       "      <td>0.0</td>\n",
       "      <td>-499.875000</td>\n",
       "      <td>-7</td>\n",
       "      <td>-1185</td>\n",
       "      <td>-3999</td>\n",
       "      <td>0.000000</td>\n",
       "      <td>0.0</td>\n",
       "      <td>0.0</td>\n",
       "      <td>0.0</td>\n",
       "    </tr>\n",
       "    <tr>\n",
       "      <th>2</th>\n",
       "      <td>100003</td>\n",
       "      <td>-1400.750000</td>\n",
       "      <td>-606</td>\n",
       "      <td>-2586</td>\n",
       "      <td>-5603</td>\n",
       "      <td>0.0</td>\n",
       "      <td>0</td>\n",
       "      <td>0</td>\n",
       "      <td>0</td>\n",
       "      <td>-544.500000</td>\n",
       "      <td>...</td>\n",
       "      <td>0.0</td>\n",
       "      <td>0.0</td>\n",
       "      <td>-816.000000</td>\n",
       "      <td>-43</td>\n",
       "      <td>-2131</td>\n",
       "      <td>-3264</td>\n",
       "      <td>NaN</td>\n",
       "      <td>NaN</td>\n",
       "      <td>NaN</td>\n",
       "      <td>0.0</td>\n",
       "    </tr>\n",
       "    <tr>\n",
       "      <th>3</th>\n",
       "      <td>100004</td>\n",
       "      <td>-867.000000</td>\n",
       "      <td>-408</td>\n",
       "      <td>-1326</td>\n",
       "      <td>-1734</td>\n",
       "      <td>0.0</td>\n",
       "      <td>0</td>\n",
       "      <td>0</td>\n",
       "      <td>0</td>\n",
       "      <td>-488.500000</td>\n",
       "      <td>...</td>\n",
       "      <td>0.0</td>\n",
       "      <td>0.0</td>\n",
       "      <td>-532.000000</td>\n",
       "      <td>-382</td>\n",
       "      <td>-682</td>\n",
       "      <td>-1064</td>\n",
       "      <td>NaN</td>\n",
       "      <td>NaN</td>\n",
       "      <td>NaN</td>\n",
       "      <td>0.0</td>\n",
       "    </tr>\n",
       "    <tr>\n",
       "      <th>4</th>\n",
       "      <td>100005</td>\n",
       "      <td>-190.666667</td>\n",
       "      <td>-62</td>\n",
       "      <td>-373</td>\n",
       "      <td>-572</td>\n",
       "      <td>0.0</td>\n",
       "      <td>0</td>\n",
       "      <td>0</td>\n",
       "      <td>0</td>\n",
       "      <td>439.333333</td>\n",
       "      <td>...</td>\n",
       "      <td>0.0</td>\n",
       "      <td>0.0</td>\n",
       "      <td>-54.333333</td>\n",
       "      <td>-11</td>\n",
       "      <td>-121</td>\n",
       "      <td>-163</td>\n",
       "      <td>1420.500000</td>\n",
       "      <td>4261.5</td>\n",
       "      <td>0.0</td>\n",
       "      <td>4261.5</td>\n",
       "    </tr>\n",
       "  </tbody>\n",
       "</table>\n",
       "<p>5 rows × 49 columns</p>\n",
       "</div>"
      ],
      "text/plain": [
       "  SK_ID_CURR  DAYS_CREDIT                  CREDIT_DAY_OVERDUE              \\\n",
       "                     mean  max   min   sum               mean max min sum   \n",
       "0     100001  -735.000000  -49 -1572 -5145                0.0   0   0   0   \n",
       "1     100002  -874.000000 -103 -1437 -6992                0.0   0   0   0   \n",
       "2     100003 -1400.750000 -606 -2586 -5603                0.0   0   0   0   \n",
       "3     100004  -867.000000 -408 -1326 -1734                0.0   0   0   0   \n",
       "4     100005  -190.666667  -62  -373  -572                0.0   0   0   0   \n",
       "\n",
       "  DAYS_CREDIT_ENDDATE   ...    AMT_CREDIT_SUM_OVERDUE      DAYS_CREDIT_UPDATE  \\\n",
       "                 mean   ...                       min  sum               mean   \n",
       "0           82.428571   ...                       0.0  0.0         -93.142857   \n",
       "1         -349.000000   ...                       0.0  0.0        -499.875000   \n",
       "2         -544.500000   ...                       0.0  0.0        -816.000000   \n",
       "3         -488.500000   ...                       0.0  0.0        -532.000000   \n",
       "4          439.333333   ...                       0.0  0.0         -54.333333   \n",
       "\n",
       "                    AMT_ANNUITY                         \n",
       "   max   min   sum         mean      max  min      sum  \n",
       "0   -6  -155  -652  3545.357143  10822.5  0.0  24817.5  \n",
       "1   -7 -1185 -3999     0.000000      0.0  0.0      0.0  \n",
       "2  -43 -2131 -3264          NaN      NaN  NaN      0.0  \n",
       "3 -382  -682 -1064          NaN      NaN  NaN      0.0  \n",
       "4  -11  -121  -163  1420.500000   4261.5  0.0   4261.5  \n",
       "\n",
       "[5 rows x 49 columns]"
      ]
     },
     "execution_count": 71,
     "metadata": {},
     "output_type": "execute_result"
    }
   ],
   "source": [
    "bureau_agg = bureau.drop(columns = ['SK_ID_BUREAU']).groupby('SK_ID_CURR', as_index = False).agg([ 'mean', 'max', 'min', 'sum']).reset_index()\n",
    "bureau_agg.head()"
   ]
  },
  {
   "cell_type": "markdown",
   "metadata": {},
   "source": [
    "Сега трябва да ги разделим в отделни колони за да може да ги добавим към train"
   ]
  },
  {
   "cell_type": "code",
   "execution_count": 72,
   "metadata": {},
   "outputs": [],
   "source": [
    "# List of column names\n",
    "columns = ['SK_ID_CURR']\n",
    "\n",
    "# Iterate through the variables names\n",
    "for var in bureau_agg.columns.levels[0]:\n",
    "    # Skip the id name\n",
    "    if var != 'SK_ID_CURR':\n",
    "        \n",
    "        # Iterate through the stat names\n",
    "        for stat in bureau_agg.columns.levels[1][:-1]:\n",
    "            # Make a new column name for the variable and stat\n",
    "            columns.append('bureau_%s_%s' % (var, stat))\n"
   ]
  },
  {
   "cell_type": "code",
   "execution_count": 73,
   "metadata": {
    "scrolled": true
   },
   "outputs": [
    {
     "data": {
      "text/html": [
       "<div>\n",
       "<style scoped>\n",
       "    .dataframe tbody tr th:only-of-type {\n",
       "        vertical-align: middle;\n",
       "    }\n",
       "\n",
       "    .dataframe tbody tr th {\n",
       "        vertical-align: top;\n",
       "    }\n",
       "\n",
       "    .dataframe thead th {\n",
       "        text-align: right;\n",
       "    }\n",
       "</style>\n",
       "<table border=\"1\" class=\"dataframe\">\n",
       "  <thead>\n",
       "    <tr style=\"text-align: right;\">\n",
       "      <th></th>\n",
       "      <th>SK_ID_CURR</th>\n",
       "      <th>bureau_DAYS_CREDIT_mean</th>\n",
       "      <th>bureau_DAYS_CREDIT_max</th>\n",
       "      <th>bureau_DAYS_CREDIT_min</th>\n",
       "      <th>bureau_DAYS_CREDIT_sum</th>\n",
       "      <th>bureau_CREDIT_DAY_OVERDUE_mean</th>\n",
       "      <th>bureau_CREDIT_DAY_OVERDUE_max</th>\n",
       "      <th>bureau_CREDIT_DAY_OVERDUE_min</th>\n",
       "      <th>bureau_CREDIT_DAY_OVERDUE_sum</th>\n",
       "      <th>bureau_DAYS_CREDIT_ENDDATE_mean</th>\n",
       "      <th>...</th>\n",
       "      <th>bureau_AMT_CREDIT_SUM_OVERDUE_min</th>\n",
       "      <th>bureau_AMT_CREDIT_SUM_OVERDUE_sum</th>\n",
       "      <th>bureau_DAYS_CREDIT_UPDATE_mean</th>\n",
       "      <th>bureau_DAYS_CREDIT_UPDATE_max</th>\n",
       "      <th>bureau_DAYS_CREDIT_UPDATE_min</th>\n",
       "      <th>bureau_DAYS_CREDIT_UPDATE_sum</th>\n",
       "      <th>bureau_AMT_ANNUITY_mean</th>\n",
       "      <th>bureau_AMT_ANNUITY_max</th>\n",
       "      <th>bureau_AMT_ANNUITY_min</th>\n",
       "      <th>bureau_AMT_ANNUITY_sum</th>\n",
       "    </tr>\n",
       "  </thead>\n",
       "  <tbody>\n",
       "    <tr>\n",
       "      <th>0</th>\n",
       "      <td>100001</td>\n",
       "      <td>-735.000000</td>\n",
       "      <td>-49</td>\n",
       "      <td>-1572</td>\n",
       "      <td>-5145</td>\n",
       "      <td>0.0</td>\n",
       "      <td>0</td>\n",
       "      <td>0</td>\n",
       "      <td>0</td>\n",
       "      <td>82.428571</td>\n",
       "      <td>...</td>\n",
       "      <td>0.0</td>\n",
       "      <td>0.0</td>\n",
       "      <td>-93.142857</td>\n",
       "      <td>-6</td>\n",
       "      <td>-155</td>\n",
       "      <td>-652</td>\n",
       "      <td>3545.357143</td>\n",
       "      <td>10822.5</td>\n",
       "      <td>0.0</td>\n",
       "      <td>24817.5</td>\n",
       "    </tr>\n",
       "    <tr>\n",
       "      <th>1</th>\n",
       "      <td>100002</td>\n",
       "      <td>-874.000000</td>\n",
       "      <td>-103</td>\n",
       "      <td>-1437</td>\n",
       "      <td>-6992</td>\n",
       "      <td>0.0</td>\n",
       "      <td>0</td>\n",
       "      <td>0</td>\n",
       "      <td>0</td>\n",
       "      <td>-349.000000</td>\n",
       "      <td>...</td>\n",
       "      <td>0.0</td>\n",
       "      <td>0.0</td>\n",
       "      <td>-499.875000</td>\n",
       "      <td>-7</td>\n",
       "      <td>-1185</td>\n",
       "      <td>-3999</td>\n",
       "      <td>0.000000</td>\n",
       "      <td>0.0</td>\n",
       "      <td>0.0</td>\n",
       "      <td>0.0</td>\n",
       "    </tr>\n",
       "    <tr>\n",
       "      <th>2</th>\n",
       "      <td>100003</td>\n",
       "      <td>-1400.750000</td>\n",
       "      <td>-606</td>\n",
       "      <td>-2586</td>\n",
       "      <td>-5603</td>\n",
       "      <td>0.0</td>\n",
       "      <td>0</td>\n",
       "      <td>0</td>\n",
       "      <td>0</td>\n",
       "      <td>-544.500000</td>\n",
       "      <td>...</td>\n",
       "      <td>0.0</td>\n",
       "      <td>0.0</td>\n",
       "      <td>-816.000000</td>\n",
       "      <td>-43</td>\n",
       "      <td>-2131</td>\n",
       "      <td>-3264</td>\n",
       "      <td>NaN</td>\n",
       "      <td>NaN</td>\n",
       "      <td>NaN</td>\n",
       "      <td>0.0</td>\n",
       "    </tr>\n",
       "    <tr>\n",
       "      <th>3</th>\n",
       "      <td>100004</td>\n",
       "      <td>-867.000000</td>\n",
       "      <td>-408</td>\n",
       "      <td>-1326</td>\n",
       "      <td>-1734</td>\n",
       "      <td>0.0</td>\n",
       "      <td>0</td>\n",
       "      <td>0</td>\n",
       "      <td>0</td>\n",
       "      <td>-488.500000</td>\n",
       "      <td>...</td>\n",
       "      <td>0.0</td>\n",
       "      <td>0.0</td>\n",
       "      <td>-532.000000</td>\n",
       "      <td>-382</td>\n",
       "      <td>-682</td>\n",
       "      <td>-1064</td>\n",
       "      <td>NaN</td>\n",
       "      <td>NaN</td>\n",
       "      <td>NaN</td>\n",
       "      <td>0.0</td>\n",
       "    </tr>\n",
       "    <tr>\n",
       "      <th>4</th>\n",
       "      <td>100005</td>\n",
       "      <td>-190.666667</td>\n",
       "      <td>-62</td>\n",
       "      <td>-373</td>\n",
       "      <td>-572</td>\n",
       "      <td>0.0</td>\n",
       "      <td>0</td>\n",
       "      <td>0</td>\n",
       "      <td>0</td>\n",
       "      <td>439.333333</td>\n",
       "      <td>...</td>\n",
       "      <td>0.0</td>\n",
       "      <td>0.0</td>\n",
       "      <td>-54.333333</td>\n",
       "      <td>-11</td>\n",
       "      <td>-121</td>\n",
       "      <td>-163</td>\n",
       "      <td>1420.500000</td>\n",
       "      <td>4261.5</td>\n",
       "      <td>0.0</td>\n",
       "      <td>4261.5</td>\n",
       "    </tr>\n",
       "  </tbody>\n",
       "</table>\n",
       "<p>5 rows × 49 columns</p>\n",
       "</div>"
      ],
      "text/plain": [
       "   SK_ID_CURR  bureau_DAYS_CREDIT_mean  bureau_DAYS_CREDIT_max  \\\n",
       "0      100001              -735.000000                     -49   \n",
       "1      100002              -874.000000                    -103   \n",
       "2      100003             -1400.750000                    -606   \n",
       "3      100004              -867.000000                    -408   \n",
       "4      100005              -190.666667                     -62   \n",
       "\n",
       "   bureau_DAYS_CREDIT_min  bureau_DAYS_CREDIT_sum  \\\n",
       "0                   -1572                   -5145   \n",
       "1                   -1437                   -6992   \n",
       "2                   -2586                   -5603   \n",
       "3                   -1326                   -1734   \n",
       "4                    -373                    -572   \n",
       "\n",
       "   bureau_CREDIT_DAY_OVERDUE_mean  bureau_CREDIT_DAY_OVERDUE_max  \\\n",
       "0                             0.0                              0   \n",
       "1                             0.0                              0   \n",
       "2                             0.0                              0   \n",
       "3                             0.0                              0   \n",
       "4                             0.0                              0   \n",
       "\n",
       "   bureau_CREDIT_DAY_OVERDUE_min  bureau_CREDIT_DAY_OVERDUE_sum  \\\n",
       "0                              0                              0   \n",
       "1                              0                              0   \n",
       "2                              0                              0   \n",
       "3                              0                              0   \n",
       "4                              0                              0   \n",
       "\n",
       "   bureau_DAYS_CREDIT_ENDDATE_mean           ...            \\\n",
       "0                        82.428571           ...             \n",
       "1                      -349.000000           ...             \n",
       "2                      -544.500000           ...             \n",
       "3                      -488.500000           ...             \n",
       "4                       439.333333           ...             \n",
       "\n",
       "   bureau_AMT_CREDIT_SUM_OVERDUE_min  bureau_AMT_CREDIT_SUM_OVERDUE_sum  \\\n",
       "0                                0.0                                0.0   \n",
       "1                                0.0                                0.0   \n",
       "2                                0.0                                0.0   \n",
       "3                                0.0                                0.0   \n",
       "4                                0.0                                0.0   \n",
       "\n",
       "   bureau_DAYS_CREDIT_UPDATE_mean  bureau_DAYS_CREDIT_UPDATE_max  \\\n",
       "0                      -93.142857                             -6   \n",
       "1                     -499.875000                             -7   \n",
       "2                     -816.000000                            -43   \n",
       "3                     -532.000000                           -382   \n",
       "4                      -54.333333                            -11   \n",
       "\n",
       "   bureau_DAYS_CREDIT_UPDATE_min  bureau_DAYS_CREDIT_UPDATE_sum  \\\n",
       "0                           -155                           -652   \n",
       "1                          -1185                          -3999   \n",
       "2                          -2131                          -3264   \n",
       "3                           -682                          -1064   \n",
       "4                           -121                           -163   \n",
       "\n",
       "   bureau_AMT_ANNUITY_mean  bureau_AMT_ANNUITY_max  bureau_AMT_ANNUITY_min  \\\n",
       "0              3545.357143                 10822.5                     0.0   \n",
       "1                 0.000000                     0.0                     0.0   \n",
       "2                      NaN                     NaN                     NaN   \n",
       "3                      NaN                     NaN                     NaN   \n",
       "4              1420.500000                  4261.5                     0.0   \n",
       "\n",
       "   bureau_AMT_ANNUITY_sum  \n",
       "0                 24817.5  \n",
       "1                     0.0  \n",
       "2                     0.0  \n",
       "3                     0.0  \n",
       "4                  4261.5  \n",
       "\n",
       "[5 rows x 49 columns]"
      ]
     },
     "execution_count": 73,
     "metadata": {},
     "output_type": "execute_result"
    }
   ],
   "source": [
    "# Assign the list of columns names as the dataframe column names\n",
    "bureau_agg.columns = columns\n",
    "bureau_agg.head()"
   ]
  },
  {
   "cell_type": "code",
   "execution_count": 74,
   "metadata": {
    "scrolled": false
   },
   "outputs": [
    {
     "data": {
      "text/html": [
       "<div>\n",
       "<style scoped>\n",
       "    .dataframe tbody tr th:only-of-type {\n",
       "        vertical-align: middle;\n",
       "    }\n",
       "\n",
       "    .dataframe tbody tr th {\n",
       "        vertical-align: top;\n",
       "    }\n",
       "\n",
       "    .dataframe thead th {\n",
       "        text-align: right;\n",
       "    }\n",
       "</style>\n",
       "<table border=\"1\" class=\"dataframe\">\n",
       "  <thead>\n",
       "    <tr style=\"text-align: right;\">\n",
       "      <th></th>\n",
       "      <th>SK_ID_CURR</th>\n",
       "      <th>TARGET</th>\n",
       "      <th>NAME_CONTRACT_TYPE</th>\n",
       "      <th>CODE_GENDER</th>\n",
       "      <th>FLAG_OWN_CAR</th>\n",
       "      <th>FLAG_OWN_REALTY</th>\n",
       "      <th>CNT_CHILDREN</th>\n",
       "      <th>AMT_INCOME_TOTAL</th>\n",
       "      <th>AMT_CREDIT</th>\n",
       "      <th>AMT_ANNUITY</th>\n",
       "      <th>...</th>\n",
       "      <th>bureau_AMT_CREDIT_SUM_OVERDUE_min</th>\n",
       "      <th>bureau_AMT_CREDIT_SUM_OVERDUE_sum</th>\n",
       "      <th>bureau_DAYS_CREDIT_UPDATE_mean</th>\n",
       "      <th>bureau_DAYS_CREDIT_UPDATE_max</th>\n",
       "      <th>bureau_DAYS_CREDIT_UPDATE_min</th>\n",
       "      <th>bureau_DAYS_CREDIT_UPDATE_sum</th>\n",
       "      <th>bureau_AMT_ANNUITY_mean</th>\n",
       "      <th>bureau_AMT_ANNUITY_max</th>\n",
       "      <th>bureau_AMT_ANNUITY_min</th>\n",
       "      <th>bureau_AMT_ANNUITY_sum</th>\n",
       "    </tr>\n",
       "  </thead>\n",
       "  <tbody>\n",
       "    <tr>\n",
       "      <th>0</th>\n",
       "      <td>100002</td>\n",
       "      <td>1</td>\n",
       "      <td>Cash loans</td>\n",
       "      <td>M</td>\n",
       "      <td>N</td>\n",
       "      <td>Y</td>\n",
       "      <td>0</td>\n",
       "      <td>202500.0</td>\n",
       "      <td>406597.5</td>\n",
       "      <td>24700.5</td>\n",
       "      <td>...</td>\n",
       "      <td>0.0</td>\n",
       "      <td>0.0</td>\n",
       "      <td>-499.875</td>\n",
       "      <td>-7.0</td>\n",
       "      <td>-1185.0</td>\n",
       "      <td>-3999.0</td>\n",
       "      <td>0.0</td>\n",
       "      <td>0.0</td>\n",
       "      <td>0.0</td>\n",
       "      <td>0.0</td>\n",
       "    </tr>\n",
       "    <tr>\n",
       "      <th>1</th>\n",
       "      <td>100003</td>\n",
       "      <td>0</td>\n",
       "      <td>Cash loans</td>\n",
       "      <td>F</td>\n",
       "      <td>N</td>\n",
       "      <td>N</td>\n",
       "      <td>0</td>\n",
       "      <td>270000.0</td>\n",
       "      <td>1293502.5</td>\n",
       "      <td>35698.5</td>\n",
       "      <td>...</td>\n",
       "      <td>0.0</td>\n",
       "      <td>0.0</td>\n",
       "      <td>-816.000</td>\n",
       "      <td>-43.0</td>\n",
       "      <td>-2131.0</td>\n",
       "      <td>-3264.0</td>\n",
       "      <td>NaN</td>\n",
       "      <td>NaN</td>\n",
       "      <td>NaN</td>\n",
       "      <td>0.0</td>\n",
       "    </tr>\n",
       "    <tr>\n",
       "      <th>2</th>\n",
       "      <td>100004</td>\n",
       "      <td>0</td>\n",
       "      <td>Revolving loans</td>\n",
       "      <td>M</td>\n",
       "      <td>Y</td>\n",
       "      <td>Y</td>\n",
       "      <td>0</td>\n",
       "      <td>67500.0</td>\n",
       "      <td>135000.0</td>\n",
       "      <td>6750.0</td>\n",
       "      <td>...</td>\n",
       "      <td>0.0</td>\n",
       "      <td>0.0</td>\n",
       "      <td>-532.000</td>\n",
       "      <td>-382.0</td>\n",
       "      <td>-682.0</td>\n",
       "      <td>-1064.0</td>\n",
       "      <td>NaN</td>\n",
       "      <td>NaN</td>\n",
       "      <td>NaN</td>\n",
       "      <td>0.0</td>\n",
       "    </tr>\n",
       "    <tr>\n",
       "      <th>3</th>\n",
       "      <td>100006</td>\n",
       "      <td>0</td>\n",
       "      <td>Cash loans</td>\n",
       "      <td>F</td>\n",
       "      <td>N</td>\n",
       "      <td>Y</td>\n",
       "      <td>0</td>\n",
       "      <td>135000.0</td>\n",
       "      <td>312682.5</td>\n",
       "      <td>29686.5</td>\n",
       "      <td>...</td>\n",
       "      <td>NaN</td>\n",
       "      <td>NaN</td>\n",
       "      <td>NaN</td>\n",
       "      <td>NaN</td>\n",
       "      <td>NaN</td>\n",
       "      <td>NaN</td>\n",
       "      <td>NaN</td>\n",
       "      <td>NaN</td>\n",
       "      <td>NaN</td>\n",
       "      <td>NaN</td>\n",
       "    </tr>\n",
       "    <tr>\n",
       "      <th>4</th>\n",
       "      <td>100007</td>\n",
       "      <td>0</td>\n",
       "      <td>Cash loans</td>\n",
       "      <td>M</td>\n",
       "      <td>N</td>\n",
       "      <td>Y</td>\n",
       "      <td>0</td>\n",
       "      <td>121500.0</td>\n",
       "      <td>513000.0</td>\n",
       "      <td>21865.5</td>\n",
       "      <td>...</td>\n",
       "      <td>0.0</td>\n",
       "      <td>0.0</td>\n",
       "      <td>-783.000</td>\n",
       "      <td>-783.0</td>\n",
       "      <td>-783.0</td>\n",
       "      <td>-783.0</td>\n",
       "      <td>NaN</td>\n",
       "      <td>NaN</td>\n",
       "      <td>NaN</td>\n",
       "      <td>0.0</td>\n",
       "    </tr>\n",
       "  </tbody>\n",
       "</table>\n",
       "<p>5 rows × 138 columns</p>\n",
       "</div>"
      ],
      "text/plain": [
       "   SK_ID_CURR  TARGET NAME_CONTRACT_TYPE CODE_GENDER FLAG_OWN_CAR  \\\n",
       "0      100002       1         Cash loans           M            N   \n",
       "1      100003       0         Cash loans           F            N   \n",
       "2      100004       0    Revolving loans           M            Y   \n",
       "3      100006       0         Cash loans           F            N   \n",
       "4      100007       0         Cash loans           M            N   \n",
       "\n",
       "  FLAG_OWN_REALTY  CNT_CHILDREN  AMT_INCOME_TOTAL  AMT_CREDIT  AMT_ANNUITY  \\\n",
       "0               Y             0          202500.0    406597.5      24700.5   \n",
       "1               N             0          270000.0   1293502.5      35698.5   \n",
       "2               Y             0           67500.0    135000.0       6750.0   \n",
       "3               Y             0          135000.0    312682.5      29686.5   \n",
       "4               Y             0          121500.0    513000.0      21865.5   \n",
       "\n",
       "            ...            bureau_AMT_CREDIT_SUM_OVERDUE_min  \\\n",
       "0           ...                                          0.0   \n",
       "1           ...                                          0.0   \n",
       "2           ...                                          0.0   \n",
       "3           ...                                          NaN   \n",
       "4           ...                                          0.0   \n",
       "\n",
       "  bureau_AMT_CREDIT_SUM_OVERDUE_sum bureau_DAYS_CREDIT_UPDATE_mean  \\\n",
       "0                               0.0                       -499.875   \n",
       "1                               0.0                       -816.000   \n",
       "2                               0.0                       -532.000   \n",
       "3                               NaN                            NaN   \n",
       "4                               0.0                       -783.000   \n",
       "\n",
       "  bureau_DAYS_CREDIT_UPDATE_max bureau_DAYS_CREDIT_UPDATE_min  \\\n",
       "0                          -7.0                       -1185.0   \n",
       "1                         -43.0                       -2131.0   \n",
       "2                        -382.0                        -682.0   \n",
       "3                           NaN                           NaN   \n",
       "4                        -783.0                        -783.0   \n",
       "\n",
       "  bureau_DAYS_CREDIT_UPDATE_sum  bureau_AMT_ANNUITY_mean  \\\n",
       "0                       -3999.0                      0.0   \n",
       "1                       -3264.0                      NaN   \n",
       "2                       -1064.0                      NaN   \n",
       "3                           NaN                      NaN   \n",
       "4                        -783.0                      NaN   \n",
       "\n",
       "   bureau_AMT_ANNUITY_max  bureau_AMT_ANNUITY_min  bureau_AMT_ANNUITY_sum  \n",
       "0                     0.0                     0.0                     0.0  \n",
       "1                     NaN                     NaN                     0.0  \n",
       "2                     NaN                     NaN                     0.0  \n",
       "3                     NaN                     NaN                     NaN  \n",
       "4                     NaN                     NaN                     0.0  \n",
       "\n",
       "[5 rows x 138 columns]"
      ]
     },
     "execution_count": 74,
     "metadata": {},
     "output_type": "execute_result"
    }
   ],
   "source": [
    "# Merge with the training data\n",
    "train = train.merge(bureau_agg, on = 'SK_ID_CURR', how = 'left')\n",
    "train.head()"
   ]
  },
  {
   "cell_type": "code",
   "execution_count": 75,
   "metadata": {},
   "outputs": [],
   "source": [
    "# List of new correlations\n",
    "new_corrs = []\n",
    "\n",
    "# Iterate through the columns \n",
    "for col in columns:\n",
    "    # Calculate correlation with the target\n",
    "    corr = train['TARGET'].corr(train[col])\n",
    "    \n",
    "    # Append the list as a tuple\n",
    "\n",
    "    new_corrs.append((col, corr))"
   ]
  },
  {
   "cell_type": "code",
   "execution_count": 76,
   "metadata": {},
   "outputs": [
    {
     "data": {
      "text/plain": [
       "[('bureau_DAYS_CREDIT_mean', 0.08972896721998122),\n",
       " ('bureau_DAYS_CREDIT_min', 0.0752482510301036),\n",
       " ('bureau_DAYS_CREDIT_UPDATE_mean', 0.06892735266968668),\n",
       " ('bureau_DAYS_ENDDATE_FACT_min', 0.05588737984392113),\n",
       " ('bureau_DAYS_CREDIT_ENDDATE_sum', 0.05373489560102051),\n",
       " ('bureau_DAYS_ENDDATE_FACT_mean', 0.05319962585758661),\n",
       " ('bureau_DAYS_CREDIT_max', 0.049782054639973095),\n",
       " ('bureau_DAYS_ENDDATE_FACT_sum', 0.04885350261111589),\n",
       " ('bureau_DAYS_CREDIT_ENDDATE_mean', 0.04698275433483543),\n",
       " ('bureau_DAYS_CREDIT_UPDATE_min', 0.042863922470730176),\n",
       " ('bureau_DAYS_CREDIT_sum', 0.04199982481484684),\n",
       " ('bureau_DAYS_CREDIT_UPDATE_sum', 0.04140363535306004),\n",
       " ('bureau_DAYS_CREDIT_ENDDATE_max', 0.036589634696329046),\n",
       " ('bureau_DAYS_CREDIT_ENDDATE_min', 0.03428110992161599),\n",
       " ('bureau_DAYS_CREDIT_UPDATE_max', 0.028233546896535826)]"
      ]
     },
     "execution_count": 76,
     "metadata": {},
     "output_type": "execute_result"
    }
   ],
   "source": [
    "new_corrs = sorted(new_corrs, key = lambda x: abs(x[1]), reverse = True)\n",
    "new_corrs[:15]"
   ]
  },
  {
   "cell_type": "markdown",
   "metadata": {},
   "source": [
    "Виждаме, че нито една от колоните не е значимо свързана с TARGET."
   ]
  },
  {
   "cell_type": "markdown",
   "metadata": {},
   "source": [
    "Сега да направим същото с категорийните колони."
   ]
  },
  {
   "cell_type": "code",
   "execution_count": 77,
   "metadata": {
    "scrolled": false
   },
   "outputs": [
    {
     "data": {
      "text/html": [
       "<div>\n",
       "<style scoped>\n",
       "    .dataframe tbody tr th:only-of-type {\n",
       "        vertical-align: middle;\n",
       "    }\n",
       "\n",
       "    .dataframe tbody tr th {\n",
       "        vertical-align: top;\n",
       "    }\n",
       "\n",
       "    .dataframe thead th {\n",
       "        text-align: right;\n",
       "    }\n",
       "</style>\n",
       "<table border=\"1\" class=\"dataframe\">\n",
       "  <thead>\n",
       "    <tr style=\"text-align: right;\">\n",
       "      <th></th>\n",
       "      <th>CREDIT_ACTIVE_Active</th>\n",
       "      <th>CREDIT_ACTIVE_Bad debt</th>\n",
       "      <th>CREDIT_ACTIVE_Closed</th>\n",
       "      <th>CREDIT_ACTIVE_Sold</th>\n",
       "      <th>CREDIT_CURRENCY_currency 1</th>\n",
       "      <th>CREDIT_CURRENCY_currency 2</th>\n",
       "      <th>CREDIT_CURRENCY_currency 3</th>\n",
       "      <th>CREDIT_CURRENCY_currency 4</th>\n",
       "      <th>CREDIT_TYPE_Another type of loan</th>\n",
       "      <th>CREDIT_TYPE_Car loan</th>\n",
       "      <th>...</th>\n",
       "      <th>CREDIT_TYPE_Loan for business development</th>\n",
       "      <th>CREDIT_TYPE_Loan for purchase of shares (margin lending)</th>\n",
       "      <th>CREDIT_TYPE_Loan for the purchase of equipment</th>\n",
       "      <th>CREDIT_TYPE_Loan for working capital replenishment</th>\n",
       "      <th>CREDIT_TYPE_Microloan</th>\n",
       "      <th>CREDIT_TYPE_Mobile operator loan</th>\n",
       "      <th>CREDIT_TYPE_Mortgage</th>\n",
       "      <th>CREDIT_TYPE_Real estate loan</th>\n",
       "      <th>CREDIT_TYPE_Unknown type of loan</th>\n",
       "      <th>SK_ID_CURR</th>\n",
       "    </tr>\n",
       "  </thead>\n",
       "  <tbody>\n",
       "    <tr>\n",
       "      <th>0</th>\n",
       "      <td>0</td>\n",
       "      <td>0</td>\n",
       "      <td>1</td>\n",
       "      <td>0</td>\n",
       "      <td>1</td>\n",
       "      <td>0</td>\n",
       "      <td>0</td>\n",
       "      <td>0</td>\n",
       "      <td>0</td>\n",
       "      <td>0</td>\n",
       "      <td>...</td>\n",
       "      <td>0</td>\n",
       "      <td>0</td>\n",
       "      <td>0</td>\n",
       "      <td>0</td>\n",
       "      <td>0</td>\n",
       "      <td>0</td>\n",
       "      <td>0</td>\n",
       "      <td>0</td>\n",
       "      <td>0</td>\n",
       "      <td>215354</td>\n",
       "    </tr>\n",
       "    <tr>\n",
       "      <th>1</th>\n",
       "      <td>1</td>\n",
       "      <td>0</td>\n",
       "      <td>0</td>\n",
       "      <td>0</td>\n",
       "      <td>1</td>\n",
       "      <td>0</td>\n",
       "      <td>0</td>\n",
       "      <td>0</td>\n",
       "      <td>0</td>\n",
       "      <td>0</td>\n",
       "      <td>...</td>\n",
       "      <td>0</td>\n",
       "      <td>0</td>\n",
       "      <td>0</td>\n",
       "      <td>0</td>\n",
       "      <td>0</td>\n",
       "      <td>0</td>\n",
       "      <td>0</td>\n",
       "      <td>0</td>\n",
       "      <td>0</td>\n",
       "      <td>215354</td>\n",
       "    </tr>\n",
       "    <tr>\n",
       "      <th>2</th>\n",
       "      <td>1</td>\n",
       "      <td>0</td>\n",
       "      <td>0</td>\n",
       "      <td>0</td>\n",
       "      <td>1</td>\n",
       "      <td>0</td>\n",
       "      <td>0</td>\n",
       "      <td>0</td>\n",
       "      <td>0</td>\n",
       "      <td>0</td>\n",
       "      <td>...</td>\n",
       "      <td>0</td>\n",
       "      <td>0</td>\n",
       "      <td>0</td>\n",
       "      <td>0</td>\n",
       "      <td>0</td>\n",
       "      <td>0</td>\n",
       "      <td>0</td>\n",
       "      <td>0</td>\n",
       "      <td>0</td>\n",
       "      <td>215354</td>\n",
       "    </tr>\n",
       "    <tr>\n",
       "      <th>3</th>\n",
       "      <td>1</td>\n",
       "      <td>0</td>\n",
       "      <td>0</td>\n",
       "      <td>0</td>\n",
       "      <td>1</td>\n",
       "      <td>0</td>\n",
       "      <td>0</td>\n",
       "      <td>0</td>\n",
       "      <td>0</td>\n",
       "      <td>0</td>\n",
       "      <td>...</td>\n",
       "      <td>0</td>\n",
       "      <td>0</td>\n",
       "      <td>0</td>\n",
       "      <td>0</td>\n",
       "      <td>0</td>\n",
       "      <td>0</td>\n",
       "      <td>0</td>\n",
       "      <td>0</td>\n",
       "      <td>0</td>\n",
       "      <td>215354</td>\n",
       "    </tr>\n",
       "    <tr>\n",
       "      <th>4</th>\n",
       "      <td>1</td>\n",
       "      <td>0</td>\n",
       "      <td>0</td>\n",
       "      <td>0</td>\n",
       "      <td>1</td>\n",
       "      <td>0</td>\n",
       "      <td>0</td>\n",
       "      <td>0</td>\n",
       "      <td>0</td>\n",
       "      <td>0</td>\n",
       "      <td>...</td>\n",
       "      <td>0</td>\n",
       "      <td>0</td>\n",
       "      <td>0</td>\n",
       "      <td>0</td>\n",
       "      <td>0</td>\n",
       "      <td>0</td>\n",
       "      <td>0</td>\n",
       "      <td>0</td>\n",
       "      <td>0</td>\n",
       "      <td>215354</td>\n",
       "    </tr>\n",
       "  </tbody>\n",
       "</table>\n",
       "<p>5 rows × 24 columns</p>\n",
       "</div>"
      ],
      "text/plain": [
       "   CREDIT_ACTIVE_Active  CREDIT_ACTIVE_Bad debt  CREDIT_ACTIVE_Closed  \\\n",
       "0                     0                       0                     1   \n",
       "1                     1                       0                     0   \n",
       "2                     1                       0                     0   \n",
       "3                     1                       0                     0   \n",
       "4                     1                       0                     0   \n",
       "\n",
       "   CREDIT_ACTIVE_Sold  CREDIT_CURRENCY_currency 1  CREDIT_CURRENCY_currency 2  \\\n",
       "0                   0                           1                           0   \n",
       "1                   0                           1                           0   \n",
       "2                   0                           1                           0   \n",
       "3                   0                           1                           0   \n",
       "4                   0                           1                           0   \n",
       "\n",
       "   CREDIT_CURRENCY_currency 3  CREDIT_CURRENCY_currency 4  \\\n",
       "0                           0                           0   \n",
       "1                           0                           0   \n",
       "2                           0                           0   \n",
       "3                           0                           0   \n",
       "4                           0                           0   \n",
       "\n",
       "   CREDIT_TYPE_Another type of loan  CREDIT_TYPE_Car loan     ...      \\\n",
       "0                                 0                     0     ...       \n",
       "1                                 0                     0     ...       \n",
       "2                                 0                     0     ...       \n",
       "3                                 0                     0     ...       \n",
       "4                                 0                     0     ...       \n",
       "\n",
       "   CREDIT_TYPE_Loan for business development  \\\n",
       "0                                          0   \n",
       "1                                          0   \n",
       "2                                          0   \n",
       "3                                          0   \n",
       "4                                          0   \n",
       "\n",
       "   CREDIT_TYPE_Loan for purchase of shares (margin lending)  \\\n",
       "0                                                  0          \n",
       "1                                                  0          \n",
       "2                                                  0          \n",
       "3                                                  0          \n",
       "4                                                  0          \n",
       "\n",
       "   CREDIT_TYPE_Loan for the purchase of equipment  \\\n",
       "0                                               0   \n",
       "1                                               0   \n",
       "2                                               0   \n",
       "3                                               0   \n",
       "4                                               0   \n",
       "\n",
       "   CREDIT_TYPE_Loan for working capital replenishment  CREDIT_TYPE_Microloan  \\\n",
       "0                                                  0                       0   \n",
       "1                                                  0                       0   \n",
       "2                                                  0                       0   \n",
       "3                                                  0                       0   \n",
       "4                                                  0                       0   \n",
       "\n",
       "   CREDIT_TYPE_Mobile operator loan  CREDIT_TYPE_Mortgage  \\\n",
       "0                                 0                     0   \n",
       "1                                 0                     0   \n",
       "2                                 0                     0   \n",
       "3                                 0                     0   \n",
       "4                                 0                     0   \n",
       "\n",
       "   CREDIT_TYPE_Real estate loan  CREDIT_TYPE_Unknown type of loan  SK_ID_CURR  \n",
       "0                             0                                 0      215354  \n",
       "1                             0                                 0      215354  \n",
       "2                             0                                 0      215354  \n",
       "3                             0                                 0      215354  \n",
       "4                             0                                 0      215354  \n",
       "\n",
       "[5 rows x 24 columns]"
      ]
     },
     "execution_count": 77,
     "metadata": {},
     "output_type": "execute_result"
    }
   ],
   "source": [
    "categorical = pd.get_dummies(bureau.select_dtypes('object'))\n",
    "categorical['SK_ID_CURR'] = bureau['SK_ID_CURR']\n",
    "categorical.head()"
   ]
  },
  {
   "cell_type": "code",
   "execution_count": 78,
   "metadata": {},
   "outputs": [
    {
     "data": {
      "text/html": [
       "<div>\n",
       "<style scoped>\n",
       "    .dataframe tbody tr th:only-of-type {\n",
       "        vertical-align: middle;\n",
       "    }\n",
       "\n",
       "    .dataframe tbody tr th {\n",
       "        vertical-align: top;\n",
       "    }\n",
       "\n",
       "    .dataframe thead tr th {\n",
       "        text-align: left;\n",
       "    }\n",
       "\n",
       "    .dataframe thead tr:last-of-type th {\n",
       "        text-align: right;\n",
       "    }\n",
       "</style>\n",
       "<table border=\"1\" class=\"dataframe\">\n",
       "  <thead>\n",
       "    <tr>\n",
       "      <th></th>\n",
       "      <th colspan=\"2\" halign=\"left\">CREDIT_ACTIVE_Active</th>\n",
       "      <th colspan=\"2\" halign=\"left\">CREDIT_ACTIVE_Bad debt</th>\n",
       "      <th colspan=\"2\" halign=\"left\">CREDIT_ACTIVE_Closed</th>\n",
       "      <th colspan=\"2\" halign=\"left\">CREDIT_ACTIVE_Sold</th>\n",
       "      <th colspan=\"2\" halign=\"left\">CREDIT_CURRENCY_currency 1</th>\n",
       "      <th>...</th>\n",
       "      <th colspan=\"2\" halign=\"left\">CREDIT_TYPE_Microloan</th>\n",
       "      <th colspan=\"2\" halign=\"left\">CREDIT_TYPE_Mobile operator loan</th>\n",
       "      <th colspan=\"2\" halign=\"left\">CREDIT_TYPE_Mortgage</th>\n",
       "      <th colspan=\"2\" halign=\"left\">CREDIT_TYPE_Real estate loan</th>\n",
       "      <th colspan=\"2\" halign=\"left\">CREDIT_TYPE_Unknown type of loan</th>\n",
       "    </tr>\n",
       "    <tr>\n",
       "      <th></th>\n",
       "      <th>sum</th>\n",
       "      <th>mean</th>\n",
       "      <th>sum</th>\n",
       "      <th>mean</th>\n",
       "      <th>sum</th>\n",
       "      <th>mean</th>\n",
       "      <th>sum</th>\n",
       "      <th>mean</th>\n",
       "      <th>sum</th>\n",
       "      <th>mean</th>\n",
       "      <th>...</th>\n",
       "      <th>sum</th>\n",
       "      <th>mean</th>\n",
       "      <th>sum</th>\n",
       "      <th>mean</th>\n",
       "      <th>sum</th>\n",
       "      <th>mean</th>\n",
       "      <th>sum</th>\n",
       "      <th>mean</th>\n",
       "      <th>sum</th>\n",
       "      <th>mean</th>\n",
       "    </tr>\n",
       "    <tr>\n",
       "      <th>SK_ID_CURR</th>\n",
       "      <th></th>\n",
       "      <th></th>\n",
       "      <th></th>\n",
       "      <th></th>\n",
       "      <th></th>\n",
       "      <th></th>\n",
       "      <th></th>\n",
       "      <th></th>\n",
       "      <th></th>\n",
       "      <th></th>\n",
       "      <th></th>\n",
       "      <th></th>\n",
       "      <th></th>\n",
       "      <th></th>\n",
       "      <th></th>\n",
       "      <th></th>\n",
       "      <th></th>\n",
       "      <th></th>\n",
       "      <th></th>\n",
       "      <th></th>\n",
       "      <th></th>\n",
       "    </tr>\n",
       "  </thead>\n",
       "  <tbody>\n",
       "    <tr>\n",
       "      <th>100001</th>\n",
       "      <td>3</td>\n",
       "      <td>0.428571</td>\n",
       "      <td>0</td>\n",
       "      <td>0.0</td>\n",
       "      <td>4</td>\n",
       "      <td>0.571429</td>\n",
       "      <td>0</td>\n",
       "      <td>0.0</td>\n",
       "      <td>7</td>\n",
       "      <td>1.0</td>\n",
       "      <td>...</td>\n",
       "      <td>0</td>\n",
       "      <td>0.0</td>\n",
       "      <td>0</td>\n",
       "      <td>0.0</td>\n",
       "      <td>0</td>\n",
       "      <td>0.0</td>\n",
       "      <td>0</td>\n",
       "      <td>0.0</td>\n",
       "      <td>0</td>\n",
       "      <td>0.0</td>\n",
       "    </tr>\n",
       "    <tr>\n",
       "      <th>100002</th>\n",
       "      <td>2</td>\n",
       "      <td>0.250000</td>\n",
       "      <td>0</td>\n",
       "      <td>0.0</td>\n",
       "      <td>6</td>\n",
       "      <td>0.750000</td>\n",
       "      <td>0</td>\n",
       "      <td>0.0</td>\n",
       "      <td>8</td>\n",
       "      <td>1.0</td>\n",
       "      <td>...</td>\n",
       "      <td>0</td>\n",
       "      <td>0.0</td>\n",
       "      <td>0</td>\n",
       "      <td>0.0</td>\n",
       "      <td>0</td>\n",
       "      <td>0.0</td>\n",
       "      <td>0</td>\n",
       "      <td>0.0</td>\n",
       "      <td>0</td>\n",
       "      <td>0.0</td>\n",
       "    </tr>\n",
       "    <tr>\n",
       "      <th>100003</th>\n",
       "      <td>1</td>\n",
       "      <td>0.250000</td>\n",
       "      <td>0</td>\n",
       "      <td>0.0</td>\n",
       "      <td>3</td>\n",
       "      <td>0.750000</td>\n",
       "      <td>0</td>\n",
       "      <td>0.0</td>\n",
       "      <td>4</td>\n",
       "      <td>1.0</td>\n",
       "      <td>...</td>\n",
       "      <td>0</td>\n",
       "      <td>0.0</td>\n",
       "      <td>0</td>\n",
       "      <td>0.0</td>\n",
       "      <td>0</td>\n",
       "      <td>0.0</td>\n",
       "      <td>0</td>\n",
       "      <td>0.0</td>\n",
       "      <td>0</td>\n",
       "      <td>0.0</td>\n",
       "    </tr>\n",
       "    <tr>\n",
       "      <th>100004</th>\n",
       "      <td>0</td>\n",
       "      <td>0.000000</td>\n",
       "      <td>0</td>\n",
       "      <td>0.0</td>\n",
       "      <td>2</td>\n",
       "      <td>1.000000</td>\n",
       "      <td>0</td>\n",
       "      <td>0.0</td>\n",
       "      <td>2</td>\n",
       "      <td>1.0</td>\n",
       "      <td>...</td>\n",
       "      <td>0</td>\n",
       "      <td>0.0</td>\n",
       "      <td>0</td>\n",
       "      <td>0.0</td>\n",
       "      <td>0</td>\n",
       "      <td>0.0</td>\n",
       "      <td>0</td>\n",
       "      <td>0.0</td>\n",
       "      <td>0</td>\n",
       "      <td>0.0</td>\n",
       "    </tr>\n",
       "    <tr>\n",
       "      <th>100005</th>\n",
       "      <td>2</td>\n",
       "      <td>0.666667</td>\n",
       "      <td>0</td>\n",
       "      <td>0.0</td>\n",
       "      <td>1</td>\n",
       "      <td>0.333333</td>\n",
       "      <td>0</td>\n",
       "      <td>0.0</td>\n",
       "      <td>3</td>\n",
       "      <td>1.0</td>\n",
       "      <td>...</td>\n",
       "      <td>0</td>\n",
       "      <td>0.0</td>\n",
       "      <td>0</td>\n",
       "      <td>0.0</td>\n",
       "      <td>0</td>\n",
       "      <td>0.0</td>\n",
       "      <td>0</td>\n",
       "      <td>0.0</td>\n",
       "      <td>0</td>\n",
       "      <td>0.0</td>\n",
       "    </tr>\n",
       "  </tbody>\n",
       "</table>\n",
       "<p>5 rows × 46 columns</p>\n",
       "</div>"
      ],
      "text/plain": [
       "           CREDIT_ACTIVE_Active           CREDIT_ACTIVE_Bad debt       \\\n",
       "                            sum      mean                    sum mean   \n",
       "SK_ID_CURR                                                              \n",
       "100001                        3  0.428571                      0  0.0   \n",
       "100002                        2  0.250000                      0  0.0   \n",
       "100003                        1  0.250000                      0  0.0   \n",
       "100004                        0  0.000000                      0  0.0   \n",
       "100005                        2  0.666667                      0  0.0   \n",
       "\n",
       "           CREDIT_ACTIVE_Closed           CREDIT_ACTIVE_Sold       \\\n",
       "                            sum      mean                sum mean   \n",
       "SK_ID_CURR                                                          \n",
       "100001                        4  0.571429                  0  0.0   \n",
       "100002                        6  0.750000                  0  0.0   \n",
       "100003                        3  0.750000                  0  0.0   \n",
       "100004                        2  1.000000                  0  0.0   \n",
       "100005                        1  0.333333                  0  0.0   \n",
       "\n",
       "           CREDIT_CURRENCY_currency 1      ...  CREDIT_TYPE_Microloan       \\\n",
       "                                  sum mean ...                    sum mean   \n",
       "SK_ID_CURR                                 ...                               \n",
       "100001                              7  1.0 ...                      0  0.0   \n",
       "100002                              8  1.0 ...                      0  0.0   \n",
       "100003                              4  1.0 ...                      0  0.0   \n",
       "100004                              2  1.0 ...                      0  0.0   \n",
       "100005                              3  1.0 ...                      0  0.0   \n",
       "\n",
       "           CREDIT_TYPE_Mobile operator loan      CREDIT_TYPE_Mortgage       \\\n",
       "                                        sum mean                  sum mean   \n",
       "SK_ID_CURR                                                                   \n",
       "100001                                    0  0.0                    0  0.0   \n",
       "100002                                    0  0.0                    0  0.0   \n",
       "100003                                    0  0.0                    0  0.0   \n",
       "100004                                    0  0.0                    0  0.0   \n",
       "100005                                    0  0.0                    0  0.0   \n",
       "\n",
       "           CREDIT_TYPE_Real estate loan      CREDIT_TYPE_Unknown type of loan  \\\n",
       "                                    sum mean                              sum   \n",
       "SK_ID_CURR                                                                      \n",
       "100001                                0  0.0                                0   \n",
       "100002                                0  0.0                                0   \n",
       "100003                                0  0.0                                0   \n",
       "100004                                0  0.0                                0   \n",
       "100005                                0  0.0                                0   \n",
       "\n",
       "                 \n",
       "           mean  \n",
       "SK_ID_CURR       \n",
       "100001      0.0  \n",
       "100002      0.0  \n",
       "100003      0.0  \n",
       "100004      0.0  \n",
       "100005      0.0  \n",
       "\n",
       "[5 rows x 46 columns]"
      ]
     },
     "execution_count": 78,
     "metadata": {},
     "output_type": "execute_result"
    }
   ],
   "source": [
    "categorical_grouped = categorical.groupby('SK_ID_CURR').agg(['sum', 'mean'])\n",
    "categorical_grouped.head()"
   ]
  },
  {
   "cell_type": "code",
   "execution_count": 79,
   "metadata": {
    "scrolled": true
   },
   "outputs": [
    {
     "data": {
      "text/html": [
       "<div>\n",
       "<style scoped>\n",
       "    .dataframe tbody tr th:only-of-type {\n",
       "        vertical-align: middle;\n",
       "    }\n",
       "\n",
       "    .dataframe tbody tr th {\n",
       "        vertical-align: top;\n",
       "    }\n",
       "\n",
       "    .dataframe thead th {\n",
       "        text-align: right;\n",
       "    }\n",
       "</style>\n",
       "<table border=\"1\" class=\"dataframe\">\n",
       "  <thead>\n",
       "    <tr style=\"text-align: right;\">\n",
       "      <th></th>\n",
       "      <th>CREDIT_ACTIVE_Active_count</th>\n",
       "      <th>CREDIT_ACTIVE_Active_count_norm</th>\n",
       "      <th>CREDIT_ACTIVE_Bad debt_count</th>\n",
       "      <th>CREDIT_ACTIVE_Bad debt_count_norm</th>\n",
       "      <th>CREDIT_ACTIVE_Closed_count</th>\n",
       "      <th>CREDIT_ACTIVE_Closed_count_norm</th>\n",
       "      <th>CREDIT_ACTIVE_Sold_count</th>\n",
       "      <th>CREDIT_ACTIVE_Sold_count_norm</th>\n",
       "      <th>CREDIT_CURRENCY_currency 1_count</th>\n",
       "      <th>CREDIT_CURRENCY_currency 1_count_norm</th>\n",
       "      <th>...</th>\n",
       "      <th>CREDIT_TYPE_Microloan_count</th>\n",
       "      <th>CREDIT_TYPE_Microloan_count_norm</th>\n",
       "      <th>CREDIT_TYPE_Mobile operator loan_count</th>\n",
       "      <th>CREDIT_TYPE_Mobile operator loan_count_norm</th>\n",
       "      <th>CREDIT_TYPE_Mortgage_count</th>\n",
       "      <th>CREDIT_TYPE_Mortgage_count_norm</th>\n",
       "      <th>CREDIT_TYPE_Real estate loan_count</th>\n",
       "      <th>CREDIT_TYPE_Real estate loan_count_norm</th>\n",
       "      <th>CREDIT_TYPE_Unknown type of loan_count</th>\n",
       "      <th>CREDIT_TYPE_Unknown type of loan_count_norm</th>\n",
       "    </tr>\n",
       "    <tr>\n",
       "      <th>SK_ID_CURR</th>\n",
       "      <th></th>\n",
       "      <th></th>\n",
       "      <th></th>\n",
       "      <th></th>\n",
       "      <th></th>\n",
       "      <th></th>\n",
       "      <th></th>\n",
       "      <th></th>\n",
       "      <th></th>\n",
       "      <th></th>\n",
       "      <th></th>\n",
       "      <th></th>\n",
       "      <th></th>\n",
       "      <th></th>\n",
       "      <th></th>\n",
       "      <th></th>\n",
       "      <th></th>\n",
       "      <th></th>\n",
       "      <th></th>\n",
       "      <th></th>\n",
       "      <th></th>\n",
       "    </tr>\n",
       "  </thead>\n",
       "  <tbody>\n",
       "    <tr>\n",
       "      <th>100001</th>\n",
       "      <td>3</td>\n",
       "      <td>0.428571</td>\n",
       "      <td>0</td>\n",
       "      <td>0.0</td>\n",
       "      <td>4</td>\n",
       "      <td>0.571429</td>\n",
       "      <td>0</td>\n",
       "      <td>0.0</td>\n",
       "      <td>7</td>\n",
       "      <td>1.0</td>\n",
       "      <td>...</td>\n",
       "      <td>0</td>\n",
       "      <td>0.0</td>\n",
       "      <td>0</td>\n",
       "      <td>0.0</td>\n",
       "      <td>0</td>\n",
       "      <td>0.0</td>\n",
       "      <td>0</td>\n",
       "      <td>0.0</td>\n",
       "      <td>0</td>\n",
       "      <td>0.0</td>\n",
       "    </tr>\n",
       "    <tr>\n",
       "      <th>100002</th>\n",
       "      <td>2</td>\n",
       "      <td>0.250000</td>\n",
       "      <td>0</td>\n",
       "      <td>0.0</td>\n",
       "      <td>6</td>\n",
       "      <td>0.750000</td>\n",
       "      <td>0</td>\n",
       "      <td>0.0</td>\n",
       "      <td>8</td>\n",
       "      <td>1.0</td>\n",
       "      <td>...</td>\n",
       "      <td>0</td>\n",
       "      <td>0.0</td>\n",
       "      <td>0</td>\n",
       "      <td>0.0</td>\n",
       "      <td>0</td>\n",
       "      <td>0.0</td>\n",
       "      <td>0</td>\n",
       "      <td>0.0</td>\n",
       "      <td>0</td>\n",
       "      <td>0.0</td>\n",
       "    </tr>\n",
       "    <tr>\n",
       "      <th>100003</th>\n",
       "      <td>1</td>\n",
       "      <td>0.250000</td>\n",
       "      <td>0</td>\n",
       "      <td>0.0</td>\n",
       "      <td>3</td>\n",
       "      <td>0.750000</td>\n",
       "      <td>0</td>\n",
       "      <td>0.0</td>\n",
       "      <td>4</td>\n",
       "      <td>1.0</td>\n",
       "      <td>...</td>\n",
       "      <td>0</td>\n",
       "      <td>0.0</td>\n",
       "      <td>0</td>\n",
       "      <td>0.0</td>\n",
       "      <td>0</td>\n",
       "      <td>0.0</td>\n",
       "      <td>0</td>\n",
       "      <td>0.0</td>\n",
       "      <td>0</td>\n",
       "      <td>0.0</td>\n",
       "    </tr>\n",
       "    <tr>\n",
       "      <th>100004</th>\n",
       "      <td>0</td>\n",
       "      <td>0.000000</td>\n",
       "      <td>0</td>\n",
       "      <td>0.0</td>\n",
       "      <td>2</td>\n",
       "      <td>1.000000</td>\n",
       "      <td>0</td>\n",
       "      <td>0.0</td>\n",
       "      <td>2</td>\n",
       "      <td>1.0</td>\n",
       "      <td>...</td>\n",
       "      <td>0</td>\n",
       "      <td>0.0</td>\n",
       "      <td>0</td>\n",
       "      <td>0.0</td>\n",
       "      <td>0</td>\n",
       "      <td>0.0</td>\n",
       "      <td>0</td>\n",
       "      <td>0.0</td>\n",
       "      <td>0</td>\n",
       "      <td>0.0</td>\n",
       "    </tr>\n",
       "    <tr>\n",
       "      <th>100005</th>\n",
       "      <td>2</td>\n",
       "      <td>0.666667</td>\n",
       "      <td>0</td>\n",
       "      <td>0.0</td>\n",
       "      <td>1</td>\n",
       "      <td>0.333333</td>\n",
       "      <td>0</td>\n",
       "      <td>0.0</td>\n",
       "      <td>3</td>\n",
       "      <td>1.0</td>\n",
       "      <td>...</td>\n",
       "      <td>0</td>\n",
       "      <td>0.0</td>\n",
       "      <td>0</td>\n",
       "      <td>0.0</td>\n",
       "      <td>0</td>\n",
       "      <td>0.0</td>\n",
       "      <td>0</td>\n",
       "      <td>0.0</td>\n",
       "      <td>0</td>\n",
       "      <td>0.0</td>\n",
       "    </tr>\n",
       "  </tbody>\n",
       "</table>\n",
       "<p>5 rows × 46 columns</p>\n",
       "</div>"
      ],
      "text/plain": [
       "            CREDIT_ACTIVE_Active_count  CREDIT_ACTIVE_Active_count_norm  \\\n",
       "SK_ID_CURR                                                                \n",
       "100001                               3                         0.428571   \n",
       "100002                               2                         0.250000   \n",
       "100003                               1                         0.250000   \n",
       "100004                               0                         0.000000   \n",
       "100005                               2                         0.666667   \n",
       "\n",
       "            CREDIT_ACTIVE_Bad debt_count  CREDIT_ACTIVE_Bad debt_count_norm  \\\n",
       "SK_ID_CURR                                                                    \n",
       "100001                                 0                                0.0   \n",
       "100002                                 0                                0.0   \n",
       "100003                                 0                                0.0   \n",
       "100004                                 0                                0.0   \n",
       "100005                                 0                                0.0   \n",
       "\n",
       "            CREDIT_ACTIVE_Closed_count  CREDIT_ACTIVE_Closed_count_norm  \\\n",
       "SK_ID_CURR                                                                \n",
       "100001                               4                         0.571429   \n",
       "100002                               6                         0.750000   \n",
       "100003                               3                         0.750000   \n",
       "100004                               2                         1.000000   \n",
       "100005                               1                         0.333333   \n",
       "\n",
       "            CREDIT_ACTIVE_Sold_count  CREDIT_ACTIVE_Sold_count_norm  \\\n",
       "SK_ID_CURR                                                            \n",
       "100001                             0                            0.0   \n",
       "100002                             0                            0.0   \n",
       "100003                             0                            0.0   \n",
       "100004                             0                            0.0   \n",
       "100005                             0                            0.0   \n",
       "\n",
       "            CREDIT_CURRENCY_currency 1_count  \\\n",
       "SK_ID_CURR                                     \n",
       "100001                                     7   \n",
       "100002                                     8   \n",
       "100003                                     4   \n",
       "100004                                     2   \n",
       "100005                                     3   \n",
       "\n",
       "            CREDIT_CURRENCY_currency 1_count_norm  \\\n",
       "SK_ID_CURR                                          \n",
       "100001                                        1.0   \n",
       "100002                                        1.0   \n",
       "100003                                        1.0   \n",
       "100004                                        1.0   \n",
       "100005                                        1.0   \n",
       "\n",
       "                               ...                       \\\n",
       "SK_ID_CURR                     ...                        \n",
       "100001                         ...                        \n",
       "100002                         ...                        \n",
       "100003                         ...                        \n",
       "100004                         ...                        \n",
       "100005                         ...                        \n",
       "\n",
       "            CREDIT_TYPE_Microloan_count  CREDIT_TYPE_Microloan_count_norm  \\\n",
       "SK_ID_CURR                                                                  \n",
       "100001                                0                               0.0   \n",
       "100002                                0                               0.0   \n",
       "100003                                0                               0.0   \n",
       "100004                                0                               0.0   \n",
       "100005                                0                               0.0   \n",
       "\n",
       "            CREDIT_TYPE_Mobile operator loan_count  \\\n",
       "SK_ID_CURR                                           \n",
       "100001                                           0   \n",
       "100002                                           0   \n",
       "100003                                           0   \n",
       "100004                                           0   \n",
       "100005                                           0   \n",
       "\n",
       "            CREDIT_TYPE_Mobile operator loan_count_norm  \\\n",
       "SK_ID_CURR                                                \n",
       "100001                                              0.0   \n",
       "100002                                              0.0   \n",
       "100003                                              0.0   \n",
       "100004                                              0.0   \n",
       "100005                                              0.0   \n",
       "\n",
       "            CREDIT_TYPE_Mortgage_count  CREDIT_TYPE_Mortgage_count_norm  \\\n",
       "SK_ID_CURR                                                                \n",
       "100001                               0                              0.0   \n",
       "100002                               0                              0.0   \n",
       "100003                               0                              0.0   \n",
       "100004                               0                              0.0   \n",
       "100005                               0                              0.0   \n",
       "\n",
       "            CREDIT_TYPE_Real estate loan_count  \\\n",
       "SK_ID_CURR                                       \n",
       "100001                                       0   \n",
       "100002                                       0   \n",
       "100003                                       0   \n",
       "100004                                       0   \n",
       "100005                                       0   \n",
       "\n",
       "            CREDIT_TYPE_Real estate loan_count_norm  \\\n",
       "SK_ID_CURR                                            \n",
       "100001                                          0.0   \n",
       "100002                                          0.0   \n",
       "100003                                          0.0   \n",
       "100004                                          0.0   \n",
       "100005                                          0.0   \n",
       "\n",
       "            CREDIT_TYPE_Unknown type of loan_count  \\\n",
       "SK_ID_CURR                                           \n",
       "100001                                           0   \n",
       "100002                                           0   \n",
       "100003                                           0   \n",
       "100004                                           0   \n",
       "100005                                           0   \n",
       "\n",
       "            CREDIT_TYPE_Unknown type of loan_count_norm  \n",
       "SK_ID_CURR                                               \n",
       "100001                                              0.0  \n",
       "100002                                              0.0  \n",
       "100003                                              0.0  \n",
       "100004                                              0.0  \n",
       "100005                                              0.0  \n",
       "\n",
       "[5 rows x 46 columns]"
      ]
     },
     "execution_count": 79,
     "metadata": {},
     "output_type": "execute_result"
    }
   ],
   "source": [
    "group_var = 'SK_ID_CURR'\n",
    "\n",
    "# Need to create new column names\n",
    "columns = []\n",
    "\n",
    "# Iterate through the variables names\n",
    "for var in categorical_grouped.columns.levels[0]:\n",
    "    # Skip the grouping variable\n",
    "    if var != group_var:\n",
    "        # Iterate through the stat names\n",
    "        for stat in ['count', 'count_norm']:\n",
    "            # Make a new column name for the variable and stat\n",
    "            columns.append('%s_%s' % (var, stat))\n",
    "\n",
    "#  Rename the columns\n",
    "categorical_grouped.columns = columns\n",
    "\n",
    "categorical_grouped.head()"
   ]
  },
  {
   "cell_type": "code",
   "execution_count": 80,
   "metadata": {},
   "outputs": [
    {
     "data": {
      "text/html": [
       "<div>\n",
       "<style scoped>\n",
       "    .dataframe tbody tr th:only-of-type {\n",
       "        vertical-align: middle;\n",
       "    }\n",
       "\n",
       "    .dataframe tbody tr th {\n",
       "        vertical-align: top;\n",
       "    }\n",
       "\n",
       "    .dataframe thead th {\n",
       "        text-align: right;\n",
       "    }\n",
       "</style>\n",
       "<table border=\"1\" class=\"dataframe\">\n",
       "  <thead>\n",
       "    <tr style=\"text-align: right;\">\n",
       "      <th></th>\n",
       "      <th>SK_ID_CURR</th>\n",
       "      <th>TARGET</th>\n",
       "      <th>NAME_CONTRACT_TYPE</th>\n",
       "      <th>CODE_GENDER</th>\n",
       "      <th>FLAG_OWN_CAR</th>\n",
       "      <th>FLAG_OWN_REALTY</th>\n",
       "      <th>CNT_CHILDREN</th>\n",
       "      <th>AMT_INCOME_TOTAL</th>\n",
       "      <th>AMT_CREDIT</th>\n",
       "      <th>AMT_ANNUITY</th>\n",
       "      <th>...</th>\n",
       "      <th>CREDIT_TYPE_Microloan_count</th>\n",
       "      <th>CREDIT_TYPE_Microloan_count_norm</th>\n",
       "      <th>CREDIT_TYPE_Mobile operator loan_count</th>\n",
       "      <th>CREDIT_TYPE_Mobile operator loan_count_norm</th>\n",
       "      <th>CREDIT_TYPE_Mortgage_count</th>\n",
       "      <th>CREDIT_TYPE_Mortgage_count_norm</th>\n",
       "      <th>CREDIT_TYPE_Real estate loan_count</th>\n",
       "      <th>CREDIT_TYPE_Real estate loan_count_norm</th>\n",
       "      <th>CREDIT_TYPE_Unknown type of loan_count</th>\n",
       "      <th>CREDIT_TYPE_Unknown type of loan_count_norm</th>\n",
       "    </tr>\n",
       "  </thead>\n",
       "  <tbody>\n",
       "    <tr>\n",
       "      <th>0</th>\n",
       "      <td>100002</td>\n",
       "      <td>1</td>\n",
       "      <td>Cash loans</td>\n",
       "      <td>M</td>\n",
       "      <td>N</td>\n",
       "      <td>Y</td>\n",
       "      <td>0</td>\n",
       "      <td>202500.0</td>\n",
       "      <td>406597.5</td>\n",
       "      <td>24700.5</td>\n",
       "      <td>...</td>\n",
       "      <td>0.0</td>\n",
       "      <td>0.0</td>\n",
       "      <td>0.0</td>\n",
       "      <td>0.0</td>\n",
       "      <td>0.0</td>\n",
       "      <td>0.0</td>\n",
       "      <td>0.0</td>\n",
       "      <td>0.0</td>\n",
       "      <td>0.0</td>\n",
       "      <td>0.0</td>\n",
       "    </tr>\n",
       "    <tr>\n",
       "      <th>1</th>\n",
       "      <td>100003</td>\n",
       "      <td>0</td>\n",
       "      <td>Cash loans</td>\n",
       "      <td>F</td>\n",
       "      <td>N</td>\n",
       "      <td>N</td>\n",
       "      <td>0</td>\n",
       "      <td>270000.0</td>\n",
       "      <td>1293502.5</td>\n",
       "      <td>35698.5</td>\n",
       "      <td>...</td>\n",
       "      <td>0.0</td>\n",
       "      <td>0.0</td>\n",
       "      <td>0.0</td>\n",
       "      <td>0.0</td>\n",
       "      <td>0.0</td>\n",
       "      <td>0.0</td>\n",
       "      <td>0.0</td>\n",
       "      <td>0.0</td>\n",
       "      <td>0.0</td>\n",
       "      <td>0.0</td>\n",
       "    </tr>\n",
       "    <tr>\n",
       "      <th>2</th>\n",
       "      <td>100004</td>\n",
       "      <td>0</td>\n",
       "      <td>Revolving loans</td>\n",
       "      <td>M</td>\n",
       "      <td>Y</td>\n",
       "      <td>Y</td>\n",
       "      <td>0</td>\n",
       "      <td>67500.0</td>\n",
       "      <td>135000.0</td>\n",
       "      <td>6750.0</td>\n",
       "      <td>...</td>\n",
       "      <td>0.0</td>\n",
       "      <td>0.0</td>\n",
       "      <td>0.0</td>\n",
       "      <td>0.0</td>\n",
       "      <td>0.0</td>\n",
       "      <td>0.0</td>\n",
       "      <td>0.0</td>\n",
       "      <td>0.0</td>\n",
       "      <td>0.0</td>\n",
       "      <td>0.0</td>\n",
       "    </tr>\n",
       "    <tr>\n",
       "      <th>3</th>\n",
       "      <td>100006</td>\n",
       "      <td>0</td>\n",
       "      <td>Cash loans</td>\n",
       "      <td>F</td>\n",
       "      <td>N</td>\n",
       "      <td>Y</td>\n",
       "      <td>0</td>\n",
       "      <td>135000.0</td>\n",
       "      <td>312682.5</td>\n",
       "      <td>29686.5</td>\n",
       "      <td>...</td>\n",
       "      <td>NaN</td>\n",
       "      <td>NaN</td>\n",
       "      <td>NaN</td>\n",
       "      <td>NaN</td>\n",
       "      <td>NaN</td>\n",
       "      <td>NaN</td>\n",
       "      <td>NaN</td>\n",
       "      <td>NaN</td>\n",
       "      <td>NaN</td>\n",
       "      <td>NaN</td>\n",
       "    </tr>\n",
       "    <tr>\n",
       "      <th>4</th>\n",
       "      <td>100007</td>\n",
       "      <td>0</td>\n",
       "      <td>Cash loans</td>\n",
       "      <td>M</td>\n",
       "      <td>N</td>\n",
       "      <td>Y</td>\n",
       "      <td>0</td>\n",
       "      <td>121500.0</td>\n",
       "      <td>513000.0</td>\n",
       "      <td>21865.5</td>\n",
       "      <td>...</td>\n",
       "      <td>0.0</td>\n",
       "      <td>0.0</td>\n",
       "      <td>0.0</td>\n",
       "      <td>0.0</td>\n",
       "      <td>0.0</td>\n",
       "      <td>0.0</td>\n",
       "      <td>0.0</td>\n",
       "      <td>0.0</td>\n",
       "      <td>0.0</td>\n",
       "      <td>0.0</td>\n",
       "    </tr>\n",
       "  </tbody>\n",
       "</table>\n",
       "<p>5 rows × 184 columns</p>\n",
       "</div>"
      ],
      "text/plain": [
       "   SK_ID_CURR  TARGET NAME_CONTRACT_TYPE CODE_GENDER FLAG_OWN_CAR  \\\n",
       "0      100002       1         Cash loans           M            N   \n",
       "1      100003       0         Cash loans           F            N   \n",
       "2      100004       0    Revolving loans           M            Y   \n",
       "3      100006       0         Cash loans           F            N   \n",
       "4      100007       0         Cash loans           M            N   \n",
       "\n",
       "  FLAG_OWN_REALTY  CNT_CHILDREN  AMT_INCOME_TOTAL  AMT_CREDIT  AMT_ANNUITY  \\\n",
       "0               Y             0          202500.0    406597.5      24700.5   \n",
       "1               N             0          270000.0   1293502.5      35698.5   \n",
       "2               Y             0           67500.0    135000.0       6750.0   \n",
       "3               Y             0          135000.0    312682.5      29686.5   \n",
       "4               Y             0          121500.0    513000.0      21865.5   \n",
       "\n",
       "                      ...                       CREDIT_TYPE_Microloan_count  \\\n",
       "0                     ...                                               0.0   \n",
       "1                     ...                                               0.0   \n",
       "2                     ...                                               0.0   \n",
       "3                     ...                                               NaN   \n",
       "4                     ...                                               0.0   \n",
       "\n",
       "  CREDIT_TYPE_Microloan_count_norm CREDIT_TYPE_Mobile operator loan_count  \\\n",
       "0                              0.0                                    0.0   \n",
       "1                              0.0                                    0.0   \n",
       "2                              0.0                                    0.0   \n",
       "3                              NaN                                    NaN   \n",
       "4                              0.0                                    0.0   \n",
       "\n",
       "  CREDIT_TYPE_Mobile operator loan_count_norm CREDIT_TYPE_Mortgage_count  \\\n",
       "0                                         0.0                        0.0   \n",
       "1                                         0.0                        0.0   \n",
       "2                                         0.0                        0.0   \n",
       "3                                         NaN                        NaN   \n",
       "4                                         0.0                        0.0   \n",
       "\n",
       "  CREDIT_TYPE_Mortgage_count_norm  CREDIT_TYPE_Real estate loan_count  \\\n",
       "0                             0.0                                 0.0   \n",
       "1                             0.0                                 0.0   \n",
       "2                             0.0                                 0.0   \n",
       "3                             NaN                                 NaN   \n",
       "4                             0.0                                 0.0   \n",
       "\n",
       "   CREDIT_TYPE_Real estate loan_count_norm  \\\n",
       "0                                      0.0   \n",
       "1                                      0.0   \n",
       "2                                      0.0   \n",
       "3                                      NaN   \n",
       "4                                      0.0   \n",
       "\n",
       "   CREDIT_TYPE_Unknown type of loan_count  \\\n",
       "0                                     0.0   \n",
       "1                                     0.0   \n",
       "2                                     0.0   \n",
       "3                                     NaN   \n",
       "4                                     0.0   \n",
       "\n",
       "   CREDIT_TYPE_Unknown type of loan_count_norm  \n",
       "0                                          0.0  \n",
       "1                                          0.0  \n",
       "2                                          0.0  \n",
       "3                                          NaN  \n",
       "4                                          0.0  \n",
       "\n",
       "[5 rows x 184 columns]"
      ]
     },
     "execution_count": 80,
     "metadata": {},
     "output_type": "execute_result"
    }
   ],
   "source": [
    "train = train.merge(categorical_grouped, left_on = 'SK_ID_CURR', right_index = True, how = 'left')\n",
    "train.head()"
   ]
  },
  {
   "cell_type": "markdown",
   "metadata": {},
   "source": [
    "## One Hot Encoder"
   ]
  },
  {
   "cell_type": "markdown",
   "metadata": {},
   "source": [
    "Нека отново погледнем уникалните стойности в object колоните"
   ]
  },
  {
   "cell_type": "code",
   "execution_count": 81,
   "metadata": {},
   "outputs": [
    {
     "data": {
      "text/plain": [
       "NAME_CONTRACT_TYPE             2\n",
       "FLAG_OWN_CAR                   2\n",
       "FLAG_OWN_REALTY                2\n",
       "EMERGENCYSTATE_MODE            2\n",
       "CODE_GENDER                    3\n",
       "HOUSETYPE_MODE                 3\n",
       "FONDKAPREMONT_MODE             4\n",
       "NAME_EDUCATION_TYPE            5\n",
       "NAME_FAMILY_STATUS             6\n",
       "NAME_HOUSING_TYPE              6\n",
       "NAME_TYPE_SUITE                7\n",
       "WEEKDAY_APPR_PROCESS_START     7\n",
       "WALLSMATERIAL_MODE             7\n",
       "NAME_INCOME_TYPE               8\n",
       "OCCUPATION_TYPE               18\n",
       "ORGANIZATION_TYPE             58\n",
       "dtype: int64"
      ]
     },
     "execution_count": 81,
     "metadata": {},
     "output_type": "execute_result"
    }
   ],
   "source": [
    "train.select_dtypes('object').apply(pd.Series.nunique, axis = 0).sort_values()"
   ]
  },
  {
   "cell_type": "code",
   "execution_count": 82,
   "metadata": {},
   "outputs": [],
   "source": [
    "# We see that ORGANIZATION_TYPE has more than 50 different values\n",
    "# so for now we will drop the column, because after one hot encoding\n",
    "# We will have 50+ columns only for ORGANIZATION TYPE\n",
    "\n",
    "train.drop(columns=[\"ORGANIZATION_TYPE\"], inplace=True)\n",
    "\n",
    "# Get categorical column names for cols with more than 2 uniqe values\n",
    "# We will OneHotEncode those columns later.\n",
    "categorical_cols = train.select_dtypes('object').apply(pd.Series.nunique, axis = 0)\n",
    "categorical_cols = categorical_cols[categorical_cols>2].index"
   ]
  },
  {
   "cell_type": "markdown",
   "metadata": {},
   "source": [
    "Тези, които са само с две уникални стойности, може да ги трансформираме в колони съдържащи булеви стойности (0, 1). Това ще го направим с Label encoding. Останалите колони ще ги трансформираме чрез One-Hot-Encodint (get dummies)."
   ]
  },
  {
   "cell_type": "code",
   "execution_count": 83,
   "metadata": {},
   "outputs": [],
   "source": [
    "# labelEncode the object cols with less than 2 unique values\n",
    "le = LabelEncoder()\n",
    "for col in train:\n",
    "    if train[col].dtype == 'object':\n",
    "        # If 2 or fewer unique categories\n",
    "        if len(list(train[col].unique())) <= 2:\n",
    "            # Train on the training data\n",
    "            le.fit(train[col])\n",
    "            train[col] = le.transform(train[col])"
   ]
  },
  {
   "cell_type": "code",
   "execution_count": 84,
   "metadata": {},
   "outputs": [
    {
     "data": {
      "text/plain": [
       "CODE_GENDER                        0\n",
       "NAME_TYPE_SUITE                 1292\n",
       "NAME_INCOME_TYPE                   0\n",
       "NAME_EDUCATION_TYPE                0\n",
       "NAME_FAMILY_STATUS                 0\n",
       "NAME_HOUSING_TYPE                  0\n",
       "OCCUPATION_TYPE                96391\n",
       "WEEKDAY_APPR_PROCESS_START         0\n",
       "FONDKAPREMONT_MODE            210295\n",
       "HOUSETYPE_MODE                154297\n",
       "WALLSMATERIAL_MODE            156341\n",
       "EMERGENCYSTATE_MODE           145755\n",
       "dtype: int64"
      ]
     },
     "execution_count": 84,
     "metadata": {},
     "output_type": "execute_result"
    }
   ],
   "source": [
    "train.select_dtypes('object').isnull().sum()"
   ]
  },
  {
   "cell_type": "markdown",
   "metadata": {},
   "source": [
    "Виждаме, че има колони, които имат голям процент празни стойности. За сега ще махнем тези колони (OCCUPATION_TYPE, FONDKAPREMONT_MODE, HOUSETYPE_MODE, WALLSMATERIAL_MODE, EMERGENCYSTATE_MODE). Колоната NAME_TYPE_SUITE има сравнително малко празни стойности. Можем да махнем тези 1292 реда от dataset-a, без да окаже голямо влияние върху количеството данни, с което тренираме."
   ]
  },
  {
   "cell_type": "code",
   "execution_count": 85,
   "metadata": {},
   "outputs": [],
   "source": [
    "train.drop(columns=[\"OCCUPATION_TYPE\", \"FONDKAPREMONT_MODE\", \"HOUSETYPE_MODE\", \"WALLSMATERIAL_MODE\", \"EMERGENCYSTATE_MODE\"], inplace=True)\n",
    "\n",
    "train = train[train['NAME_TYPE_SUITE'].notnull()]"
   ]
  },
  {
   "cell_type": "code",
   "execution_count": 86,
   "metadata": {},
   "outputs": [
    {
     "data": {
      "text/plain": [
       "CODE_GENDER                   0\n",
       "NAME_TYPE_SUITE               0\n",
       "NAME_INCOME_TYPE              0\n",
       "NAME_EDUCATION_TYPE           0\n",
       "NAME_FAMILY_STATUS            0\n",
       "NAME_HOUSING_TYPE             0\n",
       "WEEKDAY_APPR_PROCESS_START    0\n",
       "dtype: int64"
      ]
     },
     "execution_count": 86,
     "metadata": {},
     "output_type": "execute_result"
    }
   ],
   "source": [
    "train.select_dtypes('object').isnull().sum()"
   ]
  },
  {
   "cell_type": "markdown",
   "metadata": {},
   "source": [
    "Вече нямаме празни стойности в object колоните. Да видим какво се случва в останалите колони."
   ]
  },
  {
   "cell_type": "code",
   "execution_count": 87,
   "metadata": {},
   "outputs": [
    {
     "data": {
      "text/plain": [
       "bureau_AMT_ANNUITY_mean        226439\n",
       "bureau_AMT_ANNUITY_min         226439\n",
       "bureau_AMT_ANNUITY_max         226439\n",
       "COMMONAREA_MODE                213989\n",
       "COMMONAREA_MEDI                213989\n",
       "NONLIVINGAPARTMENTS_MEDI       212655\n",
       "NONLIVINGAPARTMENTS_MODE       212655\n",
       "LIVINGAPARTMENTS_MEDI          209350\n",
       "LIVINGAPARTMENTS_MODE          209350\n",
       "FLOORSMIN_MEDI                 207800\n",
       "FLOORSMIN_MODE                 207800\n",
       "YEARS_BUILD_MODE               203660\n",
       "YEARS_BUILD_MEDI               203660\n",
       "OWN_CAR_AGE                    202048\n",
       "LANDAREA_MEDI                  181869\n",
       "LANDAREA_MODE                  181869\n",
       "BASEMENTAREA_MODE              179239\n",
       "BASEMENTAREA_MEDI              179239\n",
       "EXT_SOURCE_1                   172652\n",
       "NONLIVINGAREA_MODE             169016\n",
       "NONLIVINGAREA_MEDI             169016\n",
       "ELEVATORS_MEDI                 163255\n",
       "ELEVATORS_MODE                 163255\n",
       "APARTMENTS_MEDI                155446\n",
       "APARTMENTS_MODE                155446\n",
       "ENTRANCES_MEDI                 154222\n",
       "ENTRANCES_MODE                 154222\n",
       "LIVINGAREA_MODE                153739\n",
       "LIVINGAREA_MEDI                153739\n",
       "FLOORSMAX_MODE                 152421\n",
       "                                ...  \n",
       "NAME_CONTRACT_TYPE                  0\n",
       "FLAG_OWN_REALTY                     0\n",
       "AMT_CREDIT                          0\n",
       "FLAG_OWN_CAR                        0\n",
       "FLAG_MOBIL                          0\n",
       "TARGET                              0\n",
       "AMT_INCOME_TOTAL                    0\n",
       "LIVE_REGION_NOT_WORK_REGION         0\n",
       "FLAG_EMP_PHONE                      0\n",
       "FLAG_WORK_PHONE                     0\n",
       "DAYS_EMPLOYED_ANOM                  0\n",
       "OVER_EXPECT_CREDIT                  0\n",
       "TOTAL_BUILDING_SCORE_AVG            0\n",
       "FLAG_DOCUMENT_TOTAL                 0\n",
       "AMT_REQ_CREDIT_BUREAU_TOTAL         0\n",
       "COUNT_OF_PREV_LOANS                 0\n",
       "LIVE_CITY_NOT_WORK_CITY             0\n",
       "REG_CITY_NOT_WORK_CITY              0\n",
       "REG_CITY_NOT_LIVE_CITY              0\n",
       "REG_REGION_NOT_WORK_REGION          0\n",
       "REG_REGION_NOT_LIVE_REGION          0\n",
       "HOUR_APPR_PROCESS_START             0\n",
       "WEEKDAY_APPR_PROCESS_START          0\n",
       "REGION_RATING_CLIENT_W_CITY         0\n",
       "REGION_RATING_CLIENT                0\n",
       "CNT_FAM_MEMBERS                     0\n",
       "FLAG_EMAIL                          0\n",
       "FLAG_PHONE                          0\n",
       "FLAG_CONT_MOBILE                    0\n",
       "SK_ID_CURR                          0\n",
       "Length: 178, dtype: int64"
      ]
     },
     "execution_count": 87,
     "metadata": {},
     "output_type": "execute_result"
    }
   ],
   "source": [
    "train.isnull().sum().sort_values(ascending=False)"
   ]
  },
  {
   "cell_type": "markdown",
   "metadata": {},
   "source": [
    "Виждаме, че има доста колони с празни стойности. Тъй като са числови, можем за момента да заместим празните полета с 0."
   ]
  },
  {
   "cell_type": "code",
   "execution_count": 88,
   "metadata": {},
   "outputs": [],
   "source": [
    "train.fillna(0, inplace=True)\n",
    "train_target = train[\"TARGET\"]\n",
    "train_features = train.drop(columns=[\"TARGET\"])"
   ]
  },
  {
   "cell_type": "code",
   "execution_count": 89,
   "metadata": {},
   "outputs": [
    {
     "name": "stdout",
     "output_type": "stream",
     "text": [
      "Index(['CODE_GENDER', 'NAME_TYPE_SUITE', 'NAME_INCOME_TYPE',\n",
      "       'NAME_EDUCATION_TYPE', 'NAME_FAMILY_STATUS', 'NAME_HOUSING_TYPE',\n",
      "       'WEEKDAY_APPR_PROCESS_START'],\n",
      "      dtype='object')\n"
     ]
    }
   ],
   "source": [
    "# get categorical columns\n",
    "categorical_cols = train_features.select_dtypes(\"object\").columns\n",
    "print(categorical_cols)"
   ]
  },
  {
   "cell_type": "code",
   "execution_count": 90,
   "metadata": {
    "scrolled": true
   },
   "outputs": [
    {
     "data": {
      "text/html": [
       "<div>\n",
       "<style scoped>\n",
       "    .dataframe tbody tr th:only-of-type {\n",
       "        vertical-align: middle;\n",
       "    }\n",
       "\n",
       "    .dataframe tbody tr th {\n",
       "        vertical-align: top;\n",
       "    }\n",
       "\n",
       "    .dataframe thead th {\n",
       "        text-align: right;\n",
       "    }\n",
       "</style>\n",
       "<table border=\"1\" class=\"dataframe\">\n",
       "  <thead>\n",
       "    <tr style=\"text-align: right;\">\n",
       "      <th></th>\n",
       "      <th>CODE_GENDER</th>\n",
       "      <th>NAME_TYPE_SUITE</th>\n",
       "      <th>NAME_INCOME_TYPE</th>\n",
       "      <th>NAME_EDUCATION_TYPE</th>\n",
       "      <th>NAME_FAMILY_STATUS</th>\n",
       "      <th>NAME_HOUSING_TYPE</th>\n",
       "      <th>WEEKDAY_APPR_PROCESS_START</th>\n",
       "    </tr>\n",
       "  </thead>\n",
       "  <tbody>\n",
       "    <tr>\n",
       "      <th>0</th>\n",
       "      <td>1</td>\n",
       "      <td>6</td>\n",
       "      <td>7</td>\n",
       "      <td>4</td>\n",
       "      <td>3</td>\n",
       "      <td>1</td>\n",
       "      <td>6</td>\n",
       "    </tr>\n",
       "    <tr>\n",
       "      <th>1</th>\n",
       "      <td>0</td>\n",
       "      <td>1</td>\n",
       "      <td>4</td>\n",
       "      <td>1</td>\n",
       "      <td>1</td>\n",
       "      <td>1</td>\n",
       "      <td>1</td>\n",
       "    </tr>\n",
       "    <tr>\n",
       "      <th>2</th>\n",
       "      <td>1</td>\n",
       "      <td>6</td>\n",
       "      <td>7</td>\n",
       "      <td>4</td>\n",
       "      <td>3</td>\n",
       "      <td>1</td>\n",
       "      <td>1</td>\n",
       "    </tr>\n",
       "    <tr>\n",
       "      <th>3</th>\n",
       "      <td>0</td>\n",
       "      <td>6</td>\n",
       "      <td>7</td>\n",
       "      <td>4</td>\n",
       "      <td>0</td>\n",
       "      <td>1</td>\n",
       "      <td>6</td>\n",
       "    </tr>\n",
       "    <tr>\n",
       "      <th>4</th>\n",
       "      <td>1</td>\n",
       "      <td>6</td>\n",
       "      <td>7</td>\n",
       "      <td>4</td>\n",
       "      <td>3</td>\n",
       "      <td>1</td>\n",
       "      <td>4</td>\n",
       "    </tr>\n",
       "    <tr>\n",
       "      <th>5</th>\n",
       "      <td>1</td>\n",
       "      <td>5</td>\n",
       "      <td>4</td>\n",
       "      <td>4</td>\n",
       "      <td>1</td>\n",
       "      <td>1</td>\n",
       "      <td>6</td>\n",
       "    </tr>\n",
       "    <tr>\n",
       "      <th>6</th>\n",
       "      <td>0</td>\n",
       "      <td>6</td>\n",
       "      <td>1</td>\n",
       "      <td>1</td>\n",
       "      <td>1</td>\n",
       "      <td>1</td>\n",
       "      <td>3</td>\n",
       "    </tr>\n",
       "    <tr>\n",
       "      <th>7</th>\n",
       "      <td>1</td>\n",
       "      <td>6</td>\n",
       "      <td>4</td>\n",
       "      <td>1</td>\n",
       "      <td>1</td>\n",
       "      <td>1</td>\n",
       "      <td>1</td>\n",
       "    </tr>\n",
       "    <tr>\n",
       "      <th>8</th>\n",
       "      <td>0</td>\n",
       "      <td>0</td>\n",
       "      <td>3</td>\n",
       "      <td>4</td>\n",
       "      <td>1</td>\n",
       "      <td>1</td>\n",
       "      <td>6</td>\n",
       "    </tr>\n",
       "    <tr>\n",
       "      <th>9</th>\n",
       "      <td>1</td>\n",
       "      <td>6</td>\n",
       "      <td>7</td>\n",
       "      <td>4</td>\n",
       "      <td>3</td>\n",
       "      <td>1</td>\n",
       "      <td>4</td>\n",
       "    </tr>\n",
       "  </tbody>\n",
       "</table>\n",
       "</div>"
      ],
      "text/plain": [
       "   CODE_GENDER  NAME_TYPE_SUITE  NAME_INCOME_TYPE  NAME_EDUCATION_TYPE  \\\n",
       "0            1                6                 7                    4   \n",
       "1            0                1                 4                    1   \n",
       "2            1                6                 7                    4   \n",
       "3            0                6                 7                    4   \n",
       "4            1                6                 7                    4   \n",
       "5            1                5                 4                    4   \n",
       "6            0                6                 1                    1   \n",
       "7            1                6                 4                    1   \n",
       "8            0                0                 3                    4   \n",
       "9            1                6                 7                    4   \n",
       "\n",
       "   NAME_FAMILY_STATUS  NAME_HOUSING_TYPE  WEEKDAY_APPR_PROCESS_START  \n",
       "0                   3                  1                           6  \n",
       "1                   1                  1                           1  \n",
       "2                   3                  1                           1  \n",
       "3                   0                  1                           6  \n",
       "4                   3                  1                           4  \n",
       "5                   1                  1                           6  \n",
       "6                   1                  1                           3  \n",
       "7                   1                  1                           1  \n",
       "8                   1                  1                           6  \n",
       "9                   3                  1                           4  "
      ]
     },
     "execution_count": 90,
     "metadata": {},
     "output_type": "execute_result"
    }
   ],
   "source": [
    "# label encode the rest of the categorical columns\n",
    "for col in categorical_cols:\n",
    "    le.fit(train_features[col])\n",
    "    train_features[col] = le.transform(train_features[col])\n",
    "\n",
    "label_encoded = train_features[categorical_cols]\n",
    "label_encoded.head(10)"
   ]
  },
  {
   "cell_type": "code",
   "execution_count": 91,
   "metadata": {},
   "outputs": [
    {
     "data": {
      "text/plain": [
       "(306219, 41)"
      ]
     },
     "execution_count": 91,
     "metadata": {},
     "output_type": "execute_result"
    }
   ],
   "source": [
    "# OneHotEncode these columns \n",
    "one_hot_enc = OneHotEncoder().fit(label_encoded)\n",
    "\n",
    "one_hot_enc.transform(label_encoded).shape"
   ]
  },
  {
   "cell_type": "markdown",
   "metadata": {},
   "source": [
    "От останалите 7 категорийни колони, след OneHotEncode имаме 41 нови колони. Сега можем да махнем оригиналните колони от трейнинг сета и да добавим новите."
   ]
  },
  {
   "cell_type": "code",
   "execution_count": 92,
   "metadata": {},
   "outputs": [],
   "source": [
    "train_features.drop(columns=categorical_cols, inplace=True)\n",
    "\n",
    "train_features = pd.np.concatenate([train_features,one_hot_enc.transform(label_encoded).todense()], axis=1)"
   ]
  },
  {
   "cell_type": "code",
   "execution_count": 93,
   "metadata": {},
   "outputs": [
    {
     "data": {
      "text/plain": [
       "matrix([[100002, 0, 0, ..., 0.0, 0.0, 1.0],\n",
       "        [100003, 0, 0, ..., 0.0, 0.0, 0.0],\n",
       "        [100004, 1, 1, ..., 0.0, 0.0, 0.0],\n",
       "        ...,\n",
       "        [456253, 0, 0, ..., 1.0, 0.0, 0.0],\n",
       "        [456254, 0, 0, ..., 0.0, 0.0, 1.0],\n",
       "        [456255, 0, 0, ..., 1.0, 0.0, 0.0]], dtype=object)"
      ]
     },
     "execution_count": 93,
     "metadata": {},
     "output_type": "execute_result"
    }
   ],
   "source": [
    "train_features"
   ]
  },
  {
   "cell_type": "markdown",
   "metadata": {},
   "source": [
    "# Logistic Regression"
   ]
  },
  {
   "cell_type": "code",
   "execution_count": 94,
   "metadata": {},
   "outputs": [
    {
     "name": "stdout",
     "output_type": "stream",
     "text": [
      "Shape of x_train:  (214353, 211) \n",
      "Shape of x_test:  (91866, 211) \n",
      "Shape of y_train:  (214353,) \n",
      "Shape of y_test:  (91866,)\n"
     ]
    }
   ],
   "source": [
    "from sklearn.linear_model import LogisticRegression\n",
    "from sklearn.model_selection import train_test_split\n",
    "\n",
    "x_train, x_test, y_train, y_test = train_test_split(train_features, \n",
    "                                                    train_target, \n",
    "                                                    test_size=0.3, \n",
    "                                                    random_state=4330)\n",
    "\n",
    "print(\"Shape of x_train: \", x_train.shape, \"\\nShape of x_test: \", x_test.shape, \"\\nShape of y_train: \", y_train.shape, \"\\nShape of y_test: \", y_test.shape)"
   ]
  },
  {
   "cell_type": "code",
   "execution_count": 95,
   "metadata": {},
   "outputs": [
    {
     "name": "stdout",
     "output_type": "stream",
     "text": [
      "Train Score:  0.919749198751592\n",
      "Test Score:  0.9175102867219646\n"
     ]
    }
   ],
   "source": [
    "# Make the model with the specified regulari zation parameter\n",
    "log_reg = LogisticRegression(C = 0.0001)\n",
    "log_reg.fit(x_train, y_train)\n",
    "\n",
    "print(\"Train Score: \", log_reg.score(x_train, y_train))\n",
    "print(\"Test Score: \", log_reg.score(x_test, y_test))"
   ]
  },
  {
   "cell_type": "markdown",
   "metadata": {},
   "source": [
    "Получаваме доста добър резултат. "
   ]
  },
  {
   "cell_type": "markdown",
   "metadata": {},
   "source": [
    "# Random Forest"
   ]
  },
  {
   "cell_type": "code",
   "execution_count": 96,
   "metadata": {},
   "outputs": [
    {
     "name": "stdout",
     "output_type": "stream",
     "text": [
      "Train score:  0.9200710976753299\n",
      "Test score:  0.9175973700825115\n"
     ]
    }
   ],
   "source": [
    "from sklearn.ensemble import RandomForestClassifier\n",
    "\n",
    "# Make the random forest classifier\n",
    "random_forest = RandomForestClassifier(n_estimators=100, max_depth=10)\n",
    "\n",
    "random_forest.fit(x_train, y_train)\n",
    "\n",
    "print(\"Train score: \", random_forest.score(x_train, y_train))\n",
    "print(\"Test score: \", random_forest.score(x_test, y_test))"
   ]
  },
  {
   "cell_type": "markdown",
   "metadata": {},
   "source": [
    "## Polynomial Features\n",
    "\n"
   ]
  },
  {
   "cell_type": "code",
   "execution_count": 97,
   "metadata": {},
   "outputs": [
    {
     "data": {
      "text/plain": [
       "(306219, 35)"
      ]
     },
     "execution_count": 97,
     "metadata": {},
     "output_type": "execute_result"
    }
   ],
   "source": [
    "# Make a new dataframe for polynomial features, containing the most important features.\n",
    "poly_features = train[['EXT_SOURCE_1', 'EXT_SOURCE_2', 'EXT_SOURCE_3', 'DAYS_BIRTH']]\n",
    "\n",
    "from sklearn.preprocessing import PolynomialFeatures\n",
    "poly_transformer = PolynomialFeatures(degree = 3)\n",
    "poly_transformer.fit(poly_features)\n",
    "poly_features = poly_transformer.transform(poly_features)\n",
    "poly_features.shape"
   ]
  },
  {
   "cell_type": "code",
   "execution_count": 98,
   "metadata": {},
   "outputs": [
    {
     "data": {
      "text/plain": [
       "['1',\n",
       " 'EXT_SOURCE_1',\n",
       " 'EXT_SOURCE_2',\n",
       " 'EXT_SOURCE_3',\n",
       " 'DAYS_BIRTH',\n",
       " 'EXT_SOURCE_1^2',\n",
       " 'EXT_SOURCE_1 EXT_SOURCE_2',\n",
       " 'EXT_SOURCE_1 EXT_SOURCE_3',\n",
       " 'EXT_SOURCE_1 DAYS_BIRTH',\n",
       " 'EXT_SOURCE_2^2',\n",
       " 'EXT_SOURCE_2 EXT_SOURCE_3',\n",
       " 'EXT_SOURCE_2 DAYS_BIRTH',\n",
       " 'EXT_SOURCE_3^2',\n",
       " 'EXT_SOURCE_3 DAYS_BIRTH',\n",
       " 'DAYS_BIRTH^2',\n",
       " 'EXT_SOURCE_1^3',\n",
       " 'EXT_SOURCE_1^2 EXT_SOURCE_2',\n",
       " 'EXT_SOURCE_1^2 EXT_SOURCE_3',\n",
       " 'EXT_SOURCE_1^2 DAYS_BIRTH',\n",
       " 'EXT_SOURCE_1 EXT_SOURCE_2^2',\n",
       " 'EXT_SOURCE_1 EXT_SOURCE_2 EXT_SOURCE_3',\n",
       " 'EXT_SOURCE_1 EXT_SOURCE_2 DAYS_BIRTH',\n",
       " 'EXT_SOURCE_1 EXT_SOURCE_3^2',\n",
       " 'EXT_SOURCE_1 EXT_SOURCE_3 DAYS_BIRTH',\n",
       " 'EXT_SOURCE_1 DAYS_BIRTH^2',\n",
       " 'EXT_SOURCE_2^3',\n",
       " 'EXT_SOURCE_2^2 EXT_SOURCE_3',\n",
       " 'EXT_SOURCE_2^2 DAYS_BIRTH',\n",
       " 'EXT_SOURCE_2 EXT_SOURCE_3^2',\n",
       " 'EXT_SOURCE_2 EXT_SOURCE_3 DAYS_BIRTH',\n",
       " 'EXT_SOURCE_2 DAYS_BIRTH^2',\n",
       " 'EXT_SOURCE_3^3',\n",
       " 'EXT_SOURCE_3^2 DAYS_BIRTH',\n",
       " 'EXT_SOURCE_3 DAYS_BIRTH^2',\n",
       " 'DAYS_BIRTH^3']"
      ]
     },
     "execution_count": 98,
     "metadata": {},
     "output_type": "execute_result"
    }
   ],
   "source": [
    "# Get the names of the newly created features.\n",
    "poly_transformer.get_feature_names(\n",
    "    input_features = ['EXT_SOURCE_1', 'EXT_SOURCE_2', 'EXT_SOURCE_3', 'DAYS_BIRTH'])"
   ]
  },
  {
   "cell_type": "code",
   "execution_count": 99,
   "metadata": {},
   "outputs": [],
   "source": [
    "# poly_features = pd.DataFrame(\n",
    "#     poly_features, \n",
    "#     columns = poly_transformer.get_feature_names(\n",
    "#                                                 ['EXT_SOURCE_1',\n",
    "#                                                  'EXT_SOURCE_2', \n",
    "#                                                  'EXT_SOURCE_3',\n",
    "#                                                  'DAYS_BIRTH'\n",
    "#                                                 ])\n",
    "#     )\n",
    "#Concatenate poly features, one hot encoded cols, and the other columns of the DF.\n",
    "unneeded_cols = categorical_cols.tolist() + ['EXT_SOURCE_1','EXT_SOURCE_2','EXT_SOURCE_3','DAYS_BIRTH','TARGET']\n",
    "train_poly = pd.np.concatenate([poly_features, one_hot_enc.transform(label_encoded).todense(), train.drop(columns=unneeded_cols) ], axis=1)"
   ]
  },
  {
   "cell_type": "code",
   "execution_count": 100,
   "metadata": {},
   "outputs": [
    {
     "data": {
      "text/plain": [
       "((306219, 35),\n",
       " (306219, 242),\n",
       " (306219, 178),\n",
       "         SK_ID_CURR  NAME_CONTRACT_TYPE  FLAG_OWN_CAR  FLAG_OWN_REALTY  \\\n",
       " 0           100002                   0             0                1   \n",
       " 1           100003                   0             0                0   \n",
       " 2           100004                   1             1                1   \n",
       " 3           100006                   0             0                1   \n",
       " 4           100007                   0             0                1   \n",
       " 5           100008                   0             0                1   \n",
       " 6           100009                   0             1                1   \n",
       " 7           100010                   0             1                1   \n",
       " 8           100011                   0             0                1   \n",
       " 9           100012                   1             0                1   \n",
       " 10          100014                   0             0                1   \n",
       " 11          100015                   0             0                1   \n",
       " 12          100016                   0             0                1   \n",
       " 13          100017                   0             1                0   \n",
       " 14          100018                   0             0                1   \n",
       " 15          100019                   0             1                1   \n",
       " 16          100020                   0             0                0   \n",
       " 17          100021                   1             0                1   \n",
       " 18          100022                   1             0                1   \n",
       " 19          100023                   0             0                1   \n",
       " 20          100024                   1             1                1   \n",
       " 21          100025                   0             1                1   \n",
       " 22          100026                   0             0                0   \n",
       " 23          100027                   0             0                1   \n",
       " 24          100029                   0             1                0   \n",
       " 25          100030                   0             0                1   \n",
       " 26          100031                   0             0                1   \n",
       " 27          100032                   0             0                1   \n",
       " 28          100033                   0             1                1   \n",
       " 29          100034                   1             0                1   \n",
       " ...            ...                 ...           ...              ...   \n",
       " 307481      456225                   0             0                1   \n",
       " 307482      456226                   0             1                1   \n",
       " 307483      456227                   0             0                1   \n",
       " 307484      456228                   0             1                0   \n",
       " 307485      456229                   1             0                1   \n",
       " 307486      456230                   0             1                1   \n",
       " 307487      456231                   0             0                1   \n",
       " 307488      456232                   0             0                0   \n",
       " 307489      456233                   0             0                1   \n",
       " 307490      456234                   0             0                1   \n",
       " 307491      456235                   0             1                1   \n",
       " 307492      456236                   0             1                1   \n",
       " 307493      456237                   0             0                1   \n",
       " 307494      456238                   0             1                0   \n",
       " 307495      456239                   0             1                0   \n",
       " 307496      456240                   1             0                0   \n",
       " 307497      456241                   0             1                1   \n",
       " 307498      456242                   0             1                1   \n",
       " 307499      456243                   0             0                1   \n",
       " 307500      456244                   0             0                1   \n",
       " 307501      456245                   0             0                1   \n",
       " 307502      456246                   0             0                1   \n",
       " 307503      456247                   0             0                1   \n",
       " 307504      456248                   0             0                1   \n",
       " 307505      456249                   0             0                1   \n",
       " 307506      456251                   0             0                0   \n",
       " 307507      456252                   0             0                1   \n",
       " 307508      456253                   0             0                1   \n",
       " 307509      456254                   0             0                1   \n",
       " 307510      456255                   0             0                0   \n",
       " \n",
       "         CNT_CHILDREN  AMT_INCOME_TOTAL  AMT_CREDIT  AMT_ANNUITY  \\\n",
       " 0                  0        202500.000    406597.5      24700.5   \n",
       " 1                  0        270000.000   1293502.5      35698.5   \n",
       " 2                  0         67500.000    135000.0       6750.0   \n",
       " 3                  0        135000.000    312682.5      29686.5   \n",
       " 4                  0        121500.000    513000.0      21865.5   \n",
       " 5                  0         99000.000    490495.5      27517.5   \n",
       " 6                  1        171000.000   1560726.0      41301.0   \n",
       " 7                  0        360000.000   1530000.0      42075.0   \n",
       " 8                  0        112500.000   1019610.0      33826.5   \n",
       " 9                  0        135000.000    405000.0      20250.0   \n",
       " 10                 1        112500.000    652500.0      21177.0   \n",
       " 11                 0         38419.155    148365.0      10678.5   \n",
       " 12                 0         67500.000     80865.0       5881.5   \n",
       " 13                 1        225000.000    918468.0      28966.5   \n",
       " 14                 0        189000.000    773680.5      32778.0   \n",
       " 15                 0        157500.000    299772.0      20160.0   \n",
       " 16                 0        108000.000    509602.5      26149.5   \n",
       " 17                 1         81000.000    270000.0      13500.0   \n",
       " 18                 0        112500.000    157500.0       7875.0   \n",
       " 19                 1         90000.000    544491.0      17563.5   \n",
       " 20                 0        135000.000    427500.0      21375.0   \n",
       " 21                 1        202500.000   1132573.5      37561.5   \n",
       " 22                 1        450000.000    497520.0      32521.5   \n",
       " 23                 0         83250.000    239850.0      23850.0   \n",
       " 24                 2        135000.000    247500.0      12703.5   \n",
       " 25                 0         90000.000    225000.0      11074.5   \n",
       " 26                 0        112500.000    979992.0      27076.5   \n",
       " 27                 1        112500.000    327024.0      23827.5   \n",
       " 28                 0        270000.000    790830.0      57676.5   \n",
       " 29                 0         90000.000    180000.0       9000.0   \n",
       " ...              ...               ...         ...          ...   \n",
       " 307481             0        225000.000    297000.0      19975.5   \n",
       " 307482             0        225000.000    500566.5      34969.5   \n",
       " 307483             0         99000.000    247275.0      16479.0   \n",
       " 307484             0        540000.000    545040.0      35617.5   \n",
       " 307485             1        270000.000    180000.0       9000.0   \n",
       " 307486             1        292500.000    355536.0      18283.5   \n",
       " 307487             0        117000.000   1071909.0      31473.0   \n",
       " 307488             0        157500.000    135000.0      13351.5   \n",
       " 307489             0        225000.000    521280.0      23089.5   \n",
       " 307490             0         81000.000    135000.0       9148.5   \n",
       " 307491             2         90000.000   1078200.0      31522.5   \n",
       " 307492             0        585000.000   1575000.0      43443.0   \n",
       " 307493             0        135000.000    946764.0      37678.5   \n",
       " 307494             1        270000.000    479700.0      46858.5   \n",
       " 307495             0        180000.000    808650.0      23773.5   \n",
       " 307496             0        360000.000    337500.0      16875.0   \n",
       " 307497             0        180000.000    270126.0      12028.5   \n",
       " 307498             0        198000.000   1312110.0      52168.5   \n",
       " 307499             0         81000.000    225000.0      12694.5   \n",
       " 307500             0        261000.000   1303812.0      35982.0   \n",
       " 307501             3         81000.000    269550.0      11871.0   \n",
       " 307502             1         94500.000    225000.0      10620.0   \n",
       " 307503             0        112500.000    345510.0      17770.5   \n",
       " 307504             0        153000.000    331920.0      16096.5   \n",
       " 307505             0        112500.000    225000.0      22050.0   \n",
       " 307506             0        157500.000    254700.0      27558.0   \n",
       " 307507             0         72000.000    269550.0      12001.5   \n",
       " 307508             0        153000.000    677664.0      29979.0   \n",
       " 307509             0        171000.000    370107.0      20205.0   \n",
       " 307510             0        157500.000    675000.0      49117.5   \n",
       " \n",
       "         AMT_GOODS_PRICE  REGION_POPULATION_RELATIVE  \\\n",
       " 0              351000.0                    0.018801   \n",
       " 1             1129500.0                    0.003541   \n",
       " 2              135000.0                    0.010032   \n",
       " 3              297000.0                    0.008019   \n",
       " 4              513000.0                    0.028663   \n",
       " 5              454500.0                    0.035792   \n",
       " 6             1395000.0                    0.035792   \n",
       " 7             1530000.0                    0.003122   \n",
       " 8              913500.0                    0.018634   \n",
       " 9              405000.0                    0.019689   \n",
       " 10             652500.0                    0.022800   \n",
       " 11             135000.0                    0.015221   \n",
       " 12              67500.0                    0.031329   \n",
       " 13             697500.0                    0.016612   \n",
       " 14             679500.0                    0.010006   \n",
       " 15             247500.0                    0.020713   \n",
       " 16             387000.0                    0.018634   \n",
       " 17             270000.0                    0.010966   \n",
       " 18             157500.0                    0.046220   \n",
       " 19             454500.0                    0.015221   \n",
       " 20             427500.0                    0.015221   \n",
       " 21             927000.0                    0.025164   \n",
       " 22             450000.0                    0.020713   \n",
       " 23             225000.0                    0.006296   \n",
       " 24             247500.0                    0.026392   \n",
       " 25             225000.0                    0.028663   \n",
       " 26             702000.0                    0.018029   \n",
       " 27             270000.0                    0.019101   \n",
       " 28             675000.0                    0.046220   \n",
       " 29             180000.0                    0.030755   \n",
       " ...                 ...                         ...   \n",
       " 307481         297000.0                    0.008575   \n",
       " 307482         472500.0                    0.031329   \n",
       " 307483         225000.0                    0.007330   \n",
       " 307484         450000.0                    0.032561   \n",
       " 307485         180000.0                    0.003813   \n",
       " 307486         270000.0                    0.072508   \n",
       " 307487         936000.0                    0.010147   \n",
       " 307488         135000.0                    0.004960   \n",
       " 307489         450000.0                    0.014464   \n",
       " 307490         135000.0                    0.010147   \n",
       " 307491         900000.0                    0.019101   \n",
       " 307492        1575000.0                    0.028663   \n",
       " 307493         765000.0                    0.019689   \n",
       " 307494         450000.0                    0.035792   \n",
       " 307495         675000.0                    0.025164   \n",
       " 307496         337500.0                    0.004960   \n",
       " 307497         193500.0                    0.007020   \n",
       " 307498        1125000.0                    0.072508   \n",
       " 307499         225000.0                    0.007020   \n",
       " 307500        1138500.0                    0.031329   \n",
       " 307501         225000.0                    0.009175   \n",
       " 307502         225000.0                    0.010966   \n",
       " 307503         247500.0                    0.022800   \n",
       " 307504         225000.0                    0.022625   \n",
       " 307505         225000.0                    0.022800   \n",
       " 307506         225000.0                    0.032561   \n",
       " 307507         225000.0                    0.025164   \n",
       " 307508         585000.0                    0.005002   \n",
       " 307509         319500.0                    0.005313   \n",
       " 307510         675000.0                    0.046220   \n",
       " \n",
       "                            ...                       \\\n",
       " 0                          ...                        \n",
       " 1                          ...                        \n",
       " 2                          ...                        \n",
       " 3                          ...                        \n",
       " 4                          ...                        \n",
       " 5                          ...                        \n",
       " 6                          ...                        \n",
       " 7                          ...                        \n",
       " 8                          ...                        \n",
       " 9                          ...                        \n",
       " 10                         ...                        \n",
       " 11                         ...                        \n",
       " 12                         ...                        \n",
       " 13                         ...                        \n",
       " 14                         ...                        \n",
       " 15                         ...                        \n",
       " 16                         ...                        \n",
       " 17                         ...                        \n",
       " 18                         ...                        \n",
       " 19                         ...                        \n",
       " 20                         ...                        \n",
       " 21                         ...                        \n",
       " 22                         ...                        \n",
       " 23                         ...                        \n",
       " 24                         ...                        \n",
       " 25                         ...                        \n",
       " 26                         ...                        \n",
       " 27                         ...                        \n",
       " 28                         ...                        \n",
       " 29                         ...                        \n",
       " ...                        ...                        \n",
       " 307481                     ...                        \n",
       " 307482                     ...                        \n",
       " 307483                     ...                        \n",
       " 307484                     ...                        \n",
       " 307485                     ...                        \n",
       " 307486                     ...                        \n",
       " 307487                     ...                        \n",
       " 307488                     ...                        \n",
       " 307489                     ...                        \n",
       " 307490                     ...                        \n",
       " 307491                     ...                        \n",
       " 307492                     ...                        \n",
       " 307493                     ...                        \n",
       " 307494                     ...                        \n",
       " 307495                     ...                        \n",
       " 307496                     ...                        \n",
       " 307497                     ...                        \n",
       " 307498                     ...                        \n",
       " 307499                     ...                        \n",
       " 307500                     ...                        \n",
       " 307501                     ...                        \n",
       " 307502                     ...                        \n",
       " 307503                     ...                        \n",
       " 307504                     ...                        \n",
       " 307505                     ...                        \n",
       " 307506                     ...                        \n",
       " 307507                     ...                        \n",
       " 307508                     ...                        \n",
       " 307509                     ...                        \n",
       " 307510                     ...                        \n",
       " \n",
       "         CREDIT_TYPE_Microloan_count  CREDIT_TYPE_Microloan_count_norm  \\\n",
       " 0                               0.0                          0.000000   \n",
       " 1                               0.0                          0.000000   \n",
       " 2                               0.0                          0.000000   \n",
       " 3                               0.0                          0.000000   \n",
       " 4                               0.0                          0.000000   \n",
       " 5                               0.0                          0.000000   \n",
       " 6                               0.0                          0.000000   \n",
       " 7                               0.0                          0.000000   \n",
       " 8                               0.0                          0.000000   \n",
       " 9                               0.0                          0.000000   \n",
       " 10                              0.0                          0.000000   \n",
       " 11                              0.0                          0.000000   \n",
       " 12                              0.0                          0.000000   \n",
       " 13                              0.0                          0.000000   \n",
       " 14                              0.0                          0.000000   \n",
       " 15                              0.0                          0.000000   \n",
       " 16                              0.0                          0.000000   \n",
       " 17                              0.0                          0.000000   \n",
       " 18                              0.0                          0.000000   \n",
       " 19                              0.0                          0.000000   \n",
       " 20                              0.0                          0.000000   \n",
       " 21                              0.0                          0.000000   \n",
       " 22                              1.0                          0.333333   \n",
       " 23                              0.0                          0.000000   \n",
       " 24                              0.0                          0.000000   \n",
       " 25                              0.0                          0.000000   \n",
       " 26                              0.0                          0.000000   \n",
       " 27                              0.0                          0.000000   \n",
       " 28                              0.0                          0.000000   \n",
       " 29                              0.0                          0.000000   \n",
       " ...                             ...                               ...   \n",
       " 307481                          0.0                          0.000000   \n",
       " 307482                          0.0                          0.000000   \n",
       " 307483                          0.0                          0.000000   \n",
       " 307484                          0.0                          0.000000   \n",
       " 307485                          0.0                          0.000000   \n",
       " 307486                          0.0                          0.000000   \n",
       " 307487                          0.0                          0.000000   \n",
       " 307488                          0.0                          0.000000   \n",
       " 307489                          0.0                          0.000000   \n",
       " 307490                          0.0                          0.000000   \n",
       " 307491                          0.0                          0.000000   \n",
       " 307492                          0.0                          0.000000   \n",
       " 307493                          0.0                          0.000000   \n",
       " 307494                          0.0                          0.000000   \n",
       " 307495                          0.0                          0.000000   \n",
       " 307496                          0.0                          0.000000   \n",
       " 307497                          0.0                          0.000000   \n",
       " 307498                          0.0                          0.000000   \n",
       " 307499                          0.0                          0.000000   \n",
       " 307500                          0.0                          0.000000   \n",
       " 307501                          0.0                          0.000000   \n",
       " 307502                          0.0                          0.000000   \n",
       " 307503                          0.0                          0.000000   \n",
       " 307504                          0.0                          0.000000   \n",
       " 307505                          0.0                          0.000000   \n",
       " 307506                          0.0                          0.000000   \n",
       " 307507                          0.0                          0.000000   \n",
       " 307508                          0.0                          0.000000   \n",
       " 307509                          0.0                          0.000000   \n",
       " 307510                          0.0                          0.000000   \n",
       " \n",
       "         CREDIT_TYPE_Mobile operator loan_count  \\\n",
       " 0                                          0.0   \n",
       " 1                                          0.0   \n",
       " 2                                          0.0   \n",
       " 3                                          0.0   \n",
       " 4                                          0.0   \n",
       " 5                                          0.0   \n",
       " 6                                          0.0   \n",
       " 7                                          0.0   \n",
       " 8                                          0.0   \n",
       " 9                                          0.0   \n",
       " 10                                         0.0   \n",
       " 11                                         0.0   \n",
       " 12                                         0.0   \n",
       " 13                                         0.0   \n",
       " 14                                         0.0   \n",
       " 15                                         0.0   \n",
       " 16                                         0.0   \n",
       " 17                                         0.0   \n",
       " 18                                         0.0   \n",
       " 19                                         0.0   \n",
       " 20                                         0.0   \n",
       " 21                                         0.0   \n",
       " 22                                         0.0   \n",
       " 23                                         0.0   \n",
       " 24                                         0.0   \n",
       " 25                                         0.0   \n",
       " 26                                         0.0   \n",
       " 27                                         0.0   \n",
       " 28                                         0.0   \n",
       " 29                                         0.0   \n",
       " ...                                        ...   \n",
       " 307481                                     0.0   \n",
       " 307482                                     0.0   \n",
       " 307483                                     0.0   \n",
       " 307484                                     0.0   \n",
       " 307485                                     0.0   \n",
       " 307486                                     0.0   \n",
       " 307487                                     0.0   \n",
       " 307488                                     0.0   \n",
       " 307489                                     0.0   \n",
       " 307490                                     0.0   \n",
       " 307491                                     0.0   \n",
       " 307492                                     0.0   \n",
       " 307493                                     0.0   \n",
       " 307494                                     0.0   \n",
       " 307495                                     0.0   \n",
       " 307496                                     0.0   \n",
       " 307497                                     0.0   \n",
       " 307498                                     0.0   \n",
       " 307499                                     0.0   \n",
       " 307500                                     0.0   \n",
       " 307501                                     0.0   \n",
       " 307502                                     0.0   \n",
       " 307503                                     0.0   \n",
       " 307504                                     0.0   \n",
       " 307505                                     0.0   \n",
       " 307506                                     0.0   \n",
       " 307507                                     0.0   \n",
       " 307508                                     0.0   \n",
       " 307509                                     0.0   \n",
       " 307510                                     0.0   \n",
       " \n",
       "         CREDIT_TYPE_Mobile operator loan_count_norm  \\\n",
       " 0                                               0.0   \n",
       " 1                                               0.0   \n",
       " 2                                               0.0   \n",
       " 3                                               0.0   \n",
       " 4                                               0.0   \n",
       " 5                                               0.0   \n",
       " 6                                               0.0   \n",
       " 7                                               0.0   \n",
       " 8                                               0.0   \n",
       " 9                                               0.0   \n",
       " 10                                              0.0   \n",
       " 11                                              0.0   \n",
       " 12                                              0.0   \n",
       " 13                                              0.0   \n",
       " 14                                              0.0   \n",
       " 15                                              0.0   \n",
       " 16                                              0.0   \n",
       " 17                                              0.0   \n",
       " 18                                              0.0   \n",
       " 19                                              0.0   \n",
       " 20                                              0.0   \n",
       " 21                                              0.0   \n",
       " 22                                              0.0   \n",
       " 23                                              0.0   \n",
       " 24                                              0.0   \n",
       " 25                                              0.0   \n",
       " 26                                              0.0   \n",
       " 27                                              0.0   \n",
       " 28                                              0.0   \n",
       " 29                                              0.0   \n",
       " ...                                             ...   \n",
       " 307481                                          0.0   \n",
       " 307482                                          0.0   \n",
       " 307483                                          0.0   \n",
       " 307484                                          0.0   \n",
       " 307485                                          0.0   \n",
       " 307486                                          0.0   \n",
       " 307487                                          0.0   \n",
       " 307488                                          0.0   \n",
       " 307489                                          0.0   \n",
       " 307490                                          0.0   \n",
       " 307491                                          0.0   \n",
       " 307492                                          0.0   \n",
       " 307493                                          0.0   \n",
       " 307494                                          0.0   \n",
       " 307495                                          0.0   \n",
       " 307496                                          0.0   \n",
       " 307497                                          0.0   \n",
       " 307498                                          0.0   \n",
       " 307499                                          0.0   \n",
       " 307500                                          0.0   \n",
       " 307501                                          0.0   \n",
       " 307502                                          0.0   \n",
       " 307503                                          0.0   \n",
       " 307504                                          0.0   \n",
       " 307505                                          0.0   \n",
       " 307506                                          0.0   \n",
       " 307507                                          0.0   \n",
       " 307508                                          0.0   \n",
       " 307509                                          0.0   \n",
       " 307510                                          0.0   \n",
       " \n",
       "         CREDIT_TYPE_Mortgage_count  CREDIT_TYPE_Mortgage_count_norm  \\\n",
       " 0                              0.0                         0.000000   \n",
       " 1                              0.0                         0.000000   \n",
       " 2                              0.0                         0.000000   \n",
       " 3                              0.0                         0.000000   \n",
       " 4                              0.0                         0.000000   \n",
       " 5                              0.0                         0.000000   \n",
       " 6                              0.0                         0.000000   \n",
       " 7                              0.0                         0.000000   \n",
       " 8                              0.0                         0.000000   \n",
       " 9                              0.0                         0.000000   \n",
       " 10                             0.0                         0.000000   \n",
       " 11                             0.0                         0.000000   \n",
       " 12                             0.0                         0.000000   \n",
       " 13                             0.0                         0.000000   \n",
       " 14                             0.0                         0.000000   \n",
       " 15                             0.0                         0.000000   \n",
       " 16                             0.0                         0.000000   \n",
       " 17                             0.0                         0.000000   \n",
       " 18                             0.0                         0.000000   \n",
       " 19                             0.0                         0.000000   \n",
       " 20                             0.0                         0.000000   \n",
       " 21                             0.0                         0.000000   \n",
       " 22                             0.0                         0.000000   \n",
       " 23                             0.0                         0.000000   \n",
       " 24                             2.0                         0.500000   \n",
       " 25                             0.0                         0.000000   \n",
       " 26                             0.0                         0.000000   \n",
       " 27                             0.0                         0.000000   \n",
       " 28                             0.0                         0.000000   \n",
       " 29                             0.0                         0.000000   \n",
       " ...                            ...                              ...   \n",
       " 307481                         0.0                         0.000000   \n",
       " 307482                         0.0                         0.000000   \n",
       " 307483                         0.0                         0.000000   \n",
       " 307484                         0.0                         0.000000   \n",
       " 307485                         0.0                         0.000000   \n",
       " 307486                         0.0                         0.000000   \n",
       " 307487                         0.0                         0.000000   \n",
       " 307488                         0.0                         0.000000   \n",
       " 307489                         0.0                         0.000000   \n",
       " 307490                         0.0                         0.000000   \n",
       " 307491                         1.0                         0.333333   \n",
       " 307492                         0.0                         0.000000   \n",
       " 307493                         0.0                         0.000000   \n",
       " 307494                         0.0                         0.000000   \n",
       " 307495                         0.0                         0.000000   \n",
       " 307496                         0.0                         0.000000   \n",
       " 307497                         0.0                         0.000000   \n",
       " 307498                         0.0                         0.000000   \n",
       " 307499                         0.0                         0.000000   \n",
       " 307500                         0.0                         0.000000   \n",
       " 307501                         0.0                         0.000000   \n",
       " 307502                         0.0                         0.000000   \n",
       " 307503                         1.0                         0.090909   \n",
       " 307504                         0.0                         0.000000   \n",
       " 307505                         0.0                         0.000000   \n",
       " 307506                         0.0                         0.000000   \n",
       " 307507                         0.0                         0.000000   \n",
       " 307508                         0.0                         0.000000   \n",
       " 307509                         0.0                         0.000000   \n",
       " 307510                         0.0                         0.000000   \n",
       " \n",
       "         CREDIT_TYPE_Real estate loan_count  \\\n",
       " 0                                      0.0   \n",
       " 1                                      0.0   \n",
       " 2                                      0.0   \n",
       " 3                                      0.0   \n",
       " 4                                      0.0   \n",
       " 5                                      0.0   \n",
       " 6                                      0.0   \n",
       " 7                                      0.0   \n",
       " 8                                      0.0   \n",
       " 9                                      0.0   \n",
       " 10                                     0.0   \n",
       " 11                                     0.0   \n",
       " 12                                     0.0   \n",
       " 13                                     0.0   \n",
       " 14                                     0.0   \n",
       " 15                                     0.0   \n",
       " 16                                     0.0   \n",
       " 17                                     0.0   \n",
       " 18                                     0.0   \n",
       " 19                                     0.0   \n",
       " 20                                     0.0   \n",
       " 21                                     0.0   \n",
       " 22                                     0.0   \n",
       " 23                                     0.0   \n",
       " 24                                     0.0   \n",
       " 25                                     0.0   \n",
       " 26                                     0.0   \n",
       " 27                                     0.0   \n",
       " 28                                     0.0   \n",
       " 29                                     0.0   \n",
       " ...                                    ...   \n",
       " 307481                                 0.0   \n",
       " 307482                                 0.0   \n",
       " 307483                                 0.0   \n",
       " 307484                                 0.0   \n",
       " 307485                                 0.0   \n",
       " 307486                                 0.0   \n",
       " 307487                                 0.0   \n",
       " 307488                                 0.0   \n",
       " 307489                                 0.0   \n",
       " 307490                                 0.0   \n",
       " 307491                                 0.0   \n",
       " 307492                                 0.0   \n",
       " 307493                                 0.0   \n",
       " 307494                                 0.0   \n",
       " 307495                                 0.0   \n",
       " 307496                                 0.0   \n",
       " 307497                                 0.0   \n",
       " 307498                                 0.0   \n",
       " 307499                                 0.0   \n",
       " 307500                                 0.0   \n",
       " 307501                                 0.0   \n",
       " 307502                                 0.0   \n",
       " 307503                                 0.0   \n",
       " 307504                                 0.0   \n",
       " 307505                                 0.0   \n",
       " 307506                                 0.0   \n",
       " 307507                                 0.0   \n",
       " 307508                                 0.0   \n",
       " 307509                                 0.0   \n",
       " 307510                                 0.0   \n",
       " \n",
       "         CREDIT_TYPE_Real estate loan_count_norm  \\\n",
       " 0                                           0.0   \n",
       " 1                                           0.0   \n",
       " 2                                           0.0   \n",
       " 3                                           0.0   \n",
       " 4                                           0.0   \n",
       " 5                                           0.0   \n",
       " 6                                           0.0   \n",
       " 7                                           0.0   \n",
       " 8                                           0.0   \n",
       " 9                                           0.0   \n",
       " 10                                          0.0   \n",
       " 11                                          0.0   \n",
       " 12                                          0.0   \n",
       " 13                                          0.0   \n",
       " 14                                          0.0   \n",
       " 15                                          0.0   \n",
       " 16                                          0.0   \n",
       " 17                                          0.0   \n",
       " 18                                          0.0   \n",
       " 19                                          0.0   \n",
       " 20                                          0.0   \n",
       " 21                                          0.0   \n",
       " 22                                          0.0   \n",
       " 23                                          0.0   \n",
       " 24                                          0.0   \n",
       " 25                                          0.0   \n",
       " 26                                          0.0   \n",
       " 27                                          0.0   \n",
       " 28                                          0.0   \n",
       " 29                                          0.0   \n",
       " ...                                         ...   \n",
       " 307481                                      0.0   \n",
       " 307482                                      0.0   \n",
       " 307483                                      0.0   \n",
       " 307484                                      0.0   \n",
       " 307485                                      0.0   \n",
       " 307486                                      0.0   \n",
       " 307487                                      0.0   \n",
       " 307488                                      0.0   \n",
       " 307489                                      0.0   \n",
       " 307490                                      0.0   \n",
       " 307491                                      0.0   \n",
       " 307492                                      0.0   \n",
       " 307493                                      0.0   \n",
       " 307494                                      0.0   \n",
       " 307495                                      0.0   \n",
       " 307496                                      0.0   \n",
       " 307497                                      0.0   \n",
       " 307498                                      0.0   \n",
       " 307499                                      0.0   \n",
       " 307500                                      0.0   \n",
       " 307501                                      0.0   \n",
       " 307502                                      0.0   \n",
       " 307503                                      0.0   \n",
       " 307504                                      0.0   \n",
       " 307505                                      0.0   \n",
       " 307506                                      0.0   \n",
       " 307507                                      0.0   \n",
       " 307508                                      0.0   \n",
       " 307509                                      0.0   \n",
       " 307510                                      0.0   \n",
       " \n",
       "         CREDIT_TYPE_Unknown type of loan_count  \\\n",
       " 0                                          0.0   \n",
       " 1                                          0.0   \n",
       " 2                                          0.0   \n",
       " 3                                          0.0   \n",
       " 4                                          0.0   \n",
       " 5                                          0.0   \n",
       " 6                                          0.0   \n",
       " 7                                          0.0   \n",
       " 8                                          0.0   \n",
       " 9                                          0.0   \n",
       " 10                                         0.0   \n",
       " 11                                         0.0   \n",
       " 12                                         0.0   \n",
       " 13                                         0.0   \n",
       " 14                                         0.0   \n",
       " 15                                         0.0   \n",
       " 16                                         0.0   \n",
       " 17                                         0.0   \n",
       " 18                                         0.0   \n",
       " 19                                         0.0   \n",
       " 20                                         0.0   \n",
       " 21                                         0.0   \n",
       " 22                                         0.0   \n",
       " 23                                         0.0   \n",
       " 24                                         0.0   \n",
       " 25                                         0.0   \n",
       " 26                                         0.0   \n",
       " 27                                         0.0   \n",
       " 28                                         0.0   \n",
       " 29                                         0.0   \n",
       " ...                                        ...   \n",
       " 307481                                     0.0   \n",
       " 307482                                     0.0   \n",
       " 307483                                     0.0   \n",
       " 307484                                     0.0   \n",
       " 307485                                     0.0   \n",
       " 307486                                     0.0   \n",
       " 307487                                     0.0   \n",
       " 307488                                     0.0   \n",
       " 307489                                     0.0   \n",
       " 307490                                     0.0   \n",
       " 307491                                     0.0   \n",
       " 307492                                     0.0   \n",
       " 307493                                     0.0   \n",
       " 307494                                     0.0   \n",
       " 307495                                     0.0   \n",
       " 307496                                     0.0   \n",
       " 307497                                     0.0   \n",
       " 307498                                     0.0   \n",
       " 307499                                     0.0   \n",
       " 307500                                     0.0   \n",
       " 307501                                     0.0   \n",
       " 307502                                     0.0   \n",
       " 307503                                     0.0   \n",
       " 307504                                     0.0   \n",
       " 307505                                     0.0   \n",
       " 307506                                     0.0   \n",
       " 307507                                     0.0   \n",
       " 307508                                     0.0   \n",
       " 307509                                     0.0   \n",
       " 307510                                     0.0   \n",
       " \n",
       "         CREDIT_TYPE_Unknown type of loan_count_norm  \n",
       " 0                                               0.0  \n",
       " 1                                               0.0  \n",
       " 2                                               0.0  \n",
       " 3                                               0.0  \n",
       " 4                                               0.0  \n",
       " 5                                               0.0  \n",
       " 6                                               0.0  \n",
       " 7                                               0.0  \n",
       " 8                                               0.0  \n",
       " 9                                               0.0  \n",
       " 10                                              0.0  \n",
       " 11                                              0.0  \n",
       " 12                                              0.0  \n",
       " 13                                              0.0  \n",
       " 14                                              0.0  \n",
       " 15                                              0.0  \n",
       " 16                                              0.0  \n",
       " 17                                              0.0  \n",
       " 18                                              0.0  \n",
       " 19                                              0.0  \n",
       " 20                                              0.0  \n",
       " 21                                              0.0  \n",
       " 22                                              0.0  \n",
       " 23                                              0.0  \n",
       " 24                                              0.0  \n",
       " 25                                              0.0  \n",
       " 26                                              0.0  \n",
       " 27                                              0.0  \n",
       " 28                                              0.0  \n",
       " 29                                              0.0  \n",
       " ...                                             ...  \n",
       " 307481                                          0.0  \n",
       " 307482                                          0.0  \n",
       " 307483                                          0.0  \n",
       " 307484                                          0.0  \n",
       " 307485                                          0.0  \n",
       " 307486                                          0.0  \n",
       " 307487                                          0.0  \n",
       " 307488                                          0.0  \n",
       " 307489                                          0.0  \n",
       " 307490                                          0.0  \n",
       " 307491                                          0.0  \n",
       " 307492                                          0.0  \n",
       " 307493                                          0.0  \n",
       " 307494                                          0.0  \n",
       " 307495                                          0.0  \n",
       " 307496                                          0.0  \n",
       " 307497                                          0.0  \n",
       " 307498                                          0.0  \n",
       " 307499                                          0.0  \n",
       " 307500                                          0.0  \n",
       " 307501                                          0.0  \n",
       " 307502                                          0.0  \n",
       " 307503                                          0.0  \n",
       " 307504                                          0.0  \n",
       " 307505                                          0.0  \n",
       " 307506                                          0.0  \n",
       " 307507                                          0.0  \n",
       " 307508                                          0.0  \n",
       " 307509                                          0.0  \n",
       " 307510                                          0.0  \n",
       " \n",
       " [306219 rows x 166 columns])"
      ]
     },
     "execution_count": 100,
     "metadata": {},
     "output_type": "execute_result"
    }
   ],
   "source": [
    "poly_features.shape, train_poly.shape, train.shape, train.drop(columns=unneeded_cols)"
   ]
  },
  {
   "cell_type": "code",
   "execution_count": 101,
   "metadata": {},
   "outputs": [
    {
     "name": "stdout",
     "output_type": "stream",
     "text": [
      "Train Score:  0.9195801683767774\n",
      "Test Score:  0.9187381621056756\n"
     ]
    }
   ],
   "source": [
    "x_train, x_test, y_train, y_test = train_test_split(train_poly, \n",
    "                                                    train_target, \n",
    "                                                    test_size=0.5, \n",
    "                                                    random_state=4330)\n",
    "\n",
    "log_reg = LogisticRegression(C = 0.001)\n",
    "log_reg.fit(x_train, y_train)\n",
    "\n",
    "print(\"Train Score: \", log_reg.score(x_train, y_train))\n",
    "print(\"Test Score: \", log_reg.score(x_test, y_test))"
   ]
  },
  {
   "cell_type": "code",
   "execution_count": null,
   "metadata": {},
   "outputs": [],
   "source": []
  }
 ],
 "metadata": {
  "kernelspec": {
   "display_name": "Python 3",
   "language": "python",
   "name": "python3"
  },
  "language_info": {
   "codemirror_mode": {
    "name": "ipython",
    "version": 3
   },
   "file_extension": ".py",
   "mimetype": "text/x-python",
   "name": "python",
   "nbconvert_exporter": "python",
   "pygments_lexer": "ipython3",
   "version": "3.6.5"
  }
 },
 "nbformat": 4,
 "nbformat_minor": 2
}
